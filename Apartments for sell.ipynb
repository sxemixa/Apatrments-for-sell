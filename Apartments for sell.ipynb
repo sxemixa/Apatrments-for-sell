{
 "cells": [
  {
   "cell_type": "markdown",
   "metadata": {
    "toc": true
   },
   "source": [
    "<h1>Содержание<span class=\"tocSkip\"></span></h1>\n",
    "<div class=\"toc\"><ul class=\"toc-item\"><li><span><a href=\"#Изучение-данных-из-файла\" data-toc-modified-id=\"Изучение-данных-из-файла-1\"><span class=\"toc-item-num\">1&nbsp;&nbsp;</span>Изучение данных из файла</a></span><ul class=\"toc-item\"><li><span><a href=\"#Описание-данных\" data-toc-modified-id=\"Описание-данных-1.1\"><span class=\"toc-item-num\">1.1&nbsp;&nbsp;</span>Описание данных</a></span></li><li><span><a href=\"#Вывод\" data-toc-modified-id=\"Вывод-1.2\"><span class=\"toc-item-num\">1.2&nbsp;&nbsp;</span>Вывод</a></span></li></ul></li><li><span><a href=\"#Предобработка-данных\" data-toc-modified-id=\"Предобработка-данных-2\"><span class=\"toc-item-num\">2&nbsp;&nbsp;</span>Предобработка данных</a></span></li><li><span><a href=\"#Расчёты-и-добавление-результатов-в-таблицу\" data-toc-modified-id=\"Расчёты-и-добавление-результатов-в-таблицу-3\"><span class=\"toc-item-num\">3&nbsp;&nbsp;</span>Расчёты и добавление результатов в таблицу</a></span></li><li><span><a href=\"#Исследовательский-анализ-данных\" data-toc-modified-id=\"Исследовательский-анализ-данных-4\"><span class=\"toc-item-num\">4&nbsp;&nbsp;</span>Исследовательский анализ данных</a></span></li><li><span><a href=\"#Общий-вывод\" data-toc-modified-id=\"Общий-вывод-5\"><span class=\"toc-item-num\">5&nbsp;&nbsp;</span>Общий вывод</a></span></li><li><span><a href=\"#Чек-лист-готовности-проекта\" data-toc-modified-id=\"Чек-лист-готовности-проекта-6\"><span class=\"toc-item-num\">6&nbsp;&nbsp;</span>Чек-лист готовности проекта</a></span></li></ul></div>"
   ]
  },
  {
   "cell_type": "markdown",
   "metadata": {},
   "source": [
    "# Исследование объявлений о продаже квартир\n",
    "\n",
    "В вашем распоряжении данные сервиса Яндекс.Недвижимость — архив объявлений о продаже квартир в Санкт-Петербурге и соседних населённых пунктах за несколько лет. Нужно научиться определять рыночную стоимость объектов недвижимости. Ваша задача — установить параметры. Это позволит построить автоматизированную систему: она отследит аномалии и мошенническую деятельность. \n",
    "\n",
    "По каждой квартире на продажу доступны два вида данных. Первые вписаны пользователем, вторые получены автоматически на основе картографических данных. Например, расстояние до центра, аэропорта, ближайшего парка и водоёма. "
   ]
  },
  {
   "cell_type": "markdown",
   "metadata": {},
   "source": [
    "## Изучение данных из файла"
   ]
  },
  {
   "cell_type": "code",
   "execution_count": 1,
   "metadata": {},
   "outputs": [
    {
     "name": "stdout",
     "output_type": "stream",
     "text": [
      "<class 'pandas.core.frame.DataFrame'>\n",
      "RangeIndex: 23699 entries, 0 to 23698\n",
      "Data columns (total 22 columns):\n",
      "total_images            23699 non-null int64\n",
      "last_price              23699 non-null float64\n",
      "total_area              23699 non-null float64\n",
      "first_day_exposition    23699 non-null object\n",
      "rooms                   23699 non-null int64\n",
      "ceiling_height          14504 non-null float64\n",
      "floors_total            23613 non-null float64\n",
      "living_area             21796 non-null float64\n",
      "floor                   23699 non-null int64\n",
      "is_apartment            2775 non-null object\n",
      "studio                  23699 non-null bool\n",
      "open_plan               23699 non-null bool\n",
      "kitchen_area            21421 non-null float64\n",
      "balcony                 12180 non-null float64\n",
      "locality_name           23650 non-null object\n",
      "airports_nearest        18157 non-null float64\n",
      "cityCenters_nearest     18180 non-null float64\n",
      "parks_around3000        18181 non-null float64\n",
      "parks_nearest           8079 non-null float64\n",
      "ponds_around3000        18181 non-null float64\n",
      "ponds_nearest           9110 non-null float64\n",
      "days_exposition         20518 non-null float64\n",
      "dtypes: bool(2), float64(14), int64(3), object(3)\n",
      "memory usage: 3.7+ MB\n"
     ]
    }
   ],
   "source": [
    "import pandas as pd\n",
    "data = pd.read_csv('/datasets/real_estate_data.csv', sep = '\\t')\n",
    "#посмотрим типы данных и кол-во ненулевых значений\n",
    "data.info()"
   ]
  },
  {
   "cell_type": "code",
   "execution_count": 2,
   "metadata": {},
   "outputs": [
    {
     "data": {
      "text/html": [
       "<div>\n",
       "<style scoped>\n",
       "    .dataframe tbody tr th:only-of-type {\n",
       "        vertical-align: middle;\n",
       "    }\n",
       "\n",
       "    .dataframe tbody tr th {\n",
       "        vertical-align: top;\n",
       "    }\n",
       "\n",
       "    .dataframe thead th {\n",
       "        text-align: right;\n",
       "    }\n",
       "</style>\n",
       "<table border=\"1\" class=\"dataframe\">\n",
       "  <thead>\n",
       "    <tr style=\"text-align: right;\">\n",
       "      <th></th>\n",
       "      <th>total_images</th>\n",
       "      <th>last_price</th>\n",
       "      <th>total_area</th>\n",
       "      <th>first_day_exposition</th>\n",
       "      <th>rooms</th>\n",
       "      <th>ceiling_height</th>\n",
       "      <th>floors_total</th>\n",
       "      <th>living_area</th>\n",
       "      <th>floor</th>\n",
       "      <th>is_apartment</th>\n",
       "      <th>...</th>\n",
       "      <th>kitchen_area</th>\n",
       "      <th>balcony</th>\n",
       "      <th>locality_name</th>\n",
       "      <th>airports_nearest</th>\n",
       "      <th>cityCenters_nearest</th>\n",
       "      <th>parks_around3000</th>\n",
       "      <th>parks_nearest</th>\n",
       "      <th>ponds_around3000</th>\n",
       "      <th>ponds_nearest</th>\n",
       "      <th>days_exposition</th>\n",
       "    </tr>\n",
       "  </thead>\n",
       "  <tbody>\n",
       "    <tr>\n",
       "      <td>0</td>\n",
       "      <td>20</td>\n",
       "      <td>13000000.0</td>\n",
       "      <td>108.00</td>\n",
       "      <td>2019-03-07T00:00:00</td>\n",
       "      <td>3</td>\n",
       "      <td>2.70</td>\n",
       "      <td>16.0</td>\n",
       "      <td>51.00</td>\n",
       "      <td>8</td>\n",
       "      <td>NaN</td>\n",
       "      <td>...</td>\n",
       "      <td>25.00</td>\n",
       "      <td>NaN</td>\n",
       "      <td>Санкт-Петербург</td>\n",
       "      <td>18863.0</td>\n",
       "      <td>16028.0</td>\n",
       "      <td>1.0</td>\n",
       "      <td>482.0</td>\n",
       "      <td>2.0</td>\n",
       "      <td>755.0</td>\n",
       "      <td>NaN</td>\n",
       "    </tr>\n",
       "    <tr>\n",
       "      <td>1</td>\n",
       "      <td>7</td>\n",
       "      <td>3350000.0</td>\n",
       "      <td>40.40</td>\n",
       "      <td>2018-12-04T00:00:00</td>\n",
       "      <td>1</td>\n",
       "      <td>NaN</td>\n",
       "      <td>11.0</td>\n",
       "      <td>18.60</td>\n",
       "      <td>1</td>\n",
       "      <td>NaN</td>\n",
       "      <td>...</td>\n",
       "      <td>11.00</td>\n",
       "      <td>2.0</td>\n",
       "      <td>посёлок Шушары</td>\n",
       "      <td>12817.0</td>\n",
       "      <td>18603.0</td>\n",
       "      <td>0.0</td>\n",
       "      <td>NaN</td>\n",
       "      <td>0.0</td>\n",
       "      <td>NaN</td>\n",
       "      <td>81.0</td>\n",
       "    </tr>\n",
       "    <tr>\n",
       "      <td>2</td>\n",
       "      <td>10</td>\n",
       "      <td>5196000.0</td>\n",
       "      <td>56.00</td>\n",
       "      <td>2015-08-20T00:00:00</td>\n",
       "      <td>2</td>\n",
       "      <td>NaN</td>\n",
       "      <td>5.0</td>\n",
       "      <td>34.30</td>\n",
       "      <td>4</td>\n",
       "      <td>NaN</td>\n",
       "      <td>...</td>\n",
       "      <td>8.30</td>\n",
       "      <td>0.0</td>\n",
       "      <td>Санкт-Петербург</td>\n",
       "      <td>21741.0</td>\n",
       "      <td>13933.0</td>\n",
       "      <td>1.0</td>\n",
       "      <td>90.0</td>\n",
       "      <td>2.0</td>\n",
       "      <td>574.0</td>\n",
       "      <td>558.0</td>\n",
       "    </tr>\n",
       "    <tr>\n",
       "      <td>3</td>\n",
       "      <td>0</td>\n",
       "      <td>64900000.0</td>\n",
       "      <td>159.00</td>\n",
       "      <td>2015-07-24T00:00:00</td>\n",
       "      <td>3</td>\n",
       "      <td>NaN</td>\n",
       "      <td>14.0</td>\n",
       "      <td>NaN</td>\n",
       "      <td>9</td>\n",
       "      <td>NaN</td>\n",
       "      <td>...</td>\n",
       "      <td>NaN</td>\n",
       "      <td>0.0</td>\n",
       "      <td>Санкт-Петербург</td>\n",
       "      <td>28098.0</td>\n",
       "      <td>6800.0</td>\n",
       "      <td>2.0</td>\n",
       "      <td>84.0</td>\n",
       "      <td>3.0</td>\n",
       "      <td>234.0</td>\n",
       "      <td>424.0</td>\n",
       "    </tr>\n",
       "    <tr>\n",
       "      <td>4</td>\n",
       "      <td>2</td>\n",
       "      <td>10000000.0</td>\n",
       "      <td>100.00</td>\n",
       "      <td>2018-06-19T00:00:00</td>\n",
       "      <td>2</td>\n",
       "      <td>3.03</td>\n",
       "      <td>14.0</td>\n",
       "      <td>32.00</td>\n",
       "      <td>13</td>\n",
       "      <td>NaN</td>\n",
       "      <td>...</td>\n",
       "      <td>41.00</td>\n",
       "      <td>NaN</td>\n",
       "      <td>Санкт-Петербург</td>\n",
       "      <td>31856.0</td>\n",
       "      <td>8098.0</td>\n",
       "      <td>2.0</td>\n",
       "      <td>112.0</td>\n",
       "      <td>1.0</td>\n",
       "      <td>48.0</td>\n",
       "      <td>121.0</td>\n",
       "    </tr>\n",
       "    <tr>\n",
       "      <td>5</td>\n",
       "      <td>10</td>\n",
       "      <td>2890000.0</td>\n",
       "      <td>30.40</td>\n",
       "      <td>2018-09-10T00:00:00</td>\n",
       "      <td>1</td>\n",
       "      <td>NaN</td>\n",
       "      <td>12.0</td>\n",
       "      <td>14.40</td>\n",
       "      <td>5</td>\n",
       "      <td>NaN</td>\n",
       "      <td>...</td>\n",
       "      <td>9.10</td>\n",
       "      <td>NaN</td>\n",
       "      <td>городской посёлок Янино-1</td>\n",
       "      <td>NaN</td>\n",
       "      <td>NaN</td>\n",
       "      <td>NaN</td>\n",
       "      <td>NaN</td>\n",
       "      <td>NaN</td>\n",
       "      <td>NaN</td>\n",
       "      <td>55.0</td>\n",
       "    </tr>\n",
       "    <tr>\n",
       "      <td>6</td>\n",
       "      <td>6</td>\n",
       "      <td>3700000.0</td>\n",
       "      <td>37.30</td>\n",
       "      <td>2017-11-02T00:00:00</td>\n",
       "      <td>1</td>\n",
       "      <td>NaN</td>\n",
       "      <td>26.0</td>\n",
       "      <td>10.60</td>\n",
       "      <td>6</td>\n",
       "      <td>NaN</td>\n",
       "      <td>...</td>\n",
       "      <td>14.40</td>\n",
       "      <td>1.0</td>\n",
       "      <td>посёлок Парголово</td>\n",
       "      <td>52996.0</td>\n",
       "      <td>19143.0</td>\n",
       "      <td>0.0</td>\n",
       "      <td>NaN</td>\n",
       "      <td>0.0</td>\n",
       "      <td>NaN</td>\n",
       "      <td>155.0</td>\n",
       "    </tr>\n",
       "    <tr>\n",
       "      <td>7</td>\n",
       "      <td>5</td>\n",
       "      <td>7915000.0</td>\n",
       "      <td>71.60</td>\n",
       "      <td>2019-04-18T00:00:00</td>\n",
       "      <td>2</td>\n",
       "      <td>NaN</td>\n",
       "      <td>24.0</td>\n",
       "      <td>NaN</td>\n",
       "      <td>22</td>\n",
       "      <td>NaN</td>\n",
       "      <td>...</td>\n",
       "      <td>18.90</td>\n",
       "      <td>2.0</td>\n",
       "      <td>Санкт-Петербург</td>\n",
       "      <td>23982.0</td>\n",
       "      <td>11634.0</td>\n",
       "      <td>0.0</td>\n",
       "      <td>NaN</td>\n",
       "      <td>0.0</td>\n",
       "      <td>NaN</td>\n",
       "      <td>NaN</td>\n",
       "    </tr>\n",
       "    <tr>\n",
       "      <td>8</td>\n",
       "      <td>20</td>\n",
       "      <td>2900000.0</td>\n",
       "      <td>33.16</td>\n",
       "      <td>2018-05-23T00:00:00</td>\n",
       "      <td>1</td>\n",
       "      <td>NaN</td>\n",
       "      <td>27.0</td>\n",
       "      <td>15.43</td>\n",
       "      <td>26</td>\n",
       "      <td>NaN</td>\n",
       "      <td>...</td>\n",
       "      <td>8.81</td>\n",
       "      <td>NaN</td>\n",
       "      <td>посёлок Мурино</td>\n",
       "      <td>NaN</td>\n",
       "      <td>NaN</td>\n",
       "      <td>NaN</td>\n",
       "      <td>NaN</td>\n",
       "      <td>NaN</td>\n",
       "      <td>NaN</td>\n",
       "      <td>189.0</td>\n",
       "    </tr>\n",
       "    <tr>\n",
       "      <td>9</td>\n",
       "      <td>18</td>\n",
       "      <td>5400000.0</td>\n",
       "      <td>61.00</td>\n",
       "      <td>2017-02-26T00:00:00</td>\n",
       "      <td>3</td>\n",
       "      <td>2.50</td>\n",
       "      <td>9.0</td>\n",
       "      <td>43.60</td>\n",
       "      <td>7</td>\n",
       "      <td>NaN</td>\n",
       "      <td>...</td>\n",
       "      <td>6.50</td>\n",
       "      <td>2.0</td>\n",
       "      <td>Санкт-Петербург</td>\n",
       "      <td>50898.0</td>\n",
       "      <td>15008.0</td>\n",
       "      <td>0.0</td>\n",
       "      <td>NaN</td>\n",
       "      <td>0.0</td>\n",
       "      <td>NaN</td>\n",
       "      <td>289.0</td>\n",
       "    </tr>\n",
       "  </tbody>\n",
       "</table>\n",
       "<p>10 rows × 22 columns</p>\n",
       "</div>"
      ],
      "text/plain": [
       "   total_images  last_price  total_area first_day_exposition  rooms  \\\n",
       "0            20  13000000.0      108.00  2019-03-07T00:00:00      3   \n",
       "1             7   3350000.0       40.40  2018-12-04T00:00:00      1   \n",
       "2            10   5196000.0       56.00  2015-08-20T00:00:00      2   \n",
       "3             0  64900000.0      159.00  2015-07-24T00:00:00      3   \n",
       "4             2  10000000.0      100.00  2018-06-19T00:00:00      2   \n",
       "5            10   2890000.0       30.40  2018-09-10T00:00:00      1   \n",
       "6             6   3700000.0       37.30  2017-11-02T00:00:00      1   \n",
       "7             5   7915000.0       71.60  2019-04-18T00:00:00      2   \n",
       "8            20   2900000.0       33.16  2018-05-23T00:00:00      1   \n",
       "9            18   5400000.0       61.00  2017-02-26T00:00:00      3   \n",
       "\n",
       "   ceiling_height  floors_total  living_area  floor is_apartment  ...  \\\n",
       "0            2.70          16.0        51.00      8          NaN  ...   \n",
       "1             NaN          11.0        18.60      1          NaN  ...   \n",
       "2             NaN           5.0        34.30      4          NaN  ...   \n",
       "3             NaN          14.0          NaN      9          NaN  ...   \n",
       "4            3.03          14.0        32.00     13          NaN  ...   \n",
       "5             NaN          12.0        14.40      5          NaN  ...   \n",
       "6             NaN          26.0        10.60      6          NaN  ...   \n",
       "7             NaN          24.0          NaN     22          NaN  ...   \n",
       "8             NaN          27.0        15.43     26          NaN  ...   \n",
       "9            2.50           9.0        43.60      7          NaN  ...   \n",
       "\n",
       "   kitchen_area  balcony              locality_name  airports_nearest  \\\n",
       "0         25.00      NaN            Санкт-Петербург           18863.0   \n",
       "1         11.00      2.0             посёлок Шушары           12817.0   \n",
       "2          8.30      0.0            Санкт-Петербург           21741.0   \n",
       "3           NaN      0.0            Санкт-Петербург           28098.0   \n",
       "4         41.00      NaN            Санкт-Петербург           31856.0   \n",
       "5          9.10      NaN  городской посёлок Янино-1               NaN   \n",
       "6         14.40      1.0          посёлок Парголово           52996.0   \n",
       "7         18.90      2.0            Санкт-Петербург           23982.0   \n",
       "8          8.81      NaN             посёлок Мурино               NaN   \n",
       "9          6.50      2.0            Санкт-Петербург           50898.0   \n",
       "\n",
       "  cityCenters_nearest  parks_around3000  parks_nearest  ponds_around3000  \\\n",
       "0             16028.0               1.0          482.0               2.0   \n",
       "1             18603.0               0.0            NaN               0.0   \n",
       "2             13933.0               1.0           90.0               2.0   \n",
       "3              6800.0               2.0           84.0               3.0   \n",
       "4              8098.0               2.0          112.0               1.0   \n",
       "5                 NaN               NaN            NaN               NaN   \n",
       "6             19143.0               0.0            NaN               0.0   \n",
       "7             11634.0               0.0            NaN               0.0   \n",
       "8                 NaN               NaN            NaN               NaN   \n",
       "9             15008.0               0.0            NaN               0.0   \n",
       "\n",
       "   ponds_nearest  days_exposition  \n",
       "0          755.0              NaN  \n",
       "1            NaN             81.0  \n",
       "2          574.0            558.0  \n",
       "3          234.0            424.0  \n",
       "4           48.0            121.0  \n",
       "5            NaN             55.0  \n",
       "6            NaN            155.0  \n",
       "7            NaN              NaN  \n",
       "8            NaN            189.0  \n",
       "9            NaN            289.0  \n",
       "\n",
       "[10 rows x 22 columns]"
      ]
     },
     "metadata": {},
     "output_type": "display_data"
    }
   ],
   "source": [
    "display (data.head(10))"
   ]
  },
  {
   "cell_type": "markdown",
   "metadata": {},
   "source": [
    "### Описание данных\n",
    "* `airports_nearest` — расстояние до ближайшего аэропорта в метрах (м)\n",
    "* `balcony` — число балконов\n",
    "* `ceiling_height` — высота потолков (м)\n",
    "* `cityCenters_nearest` — расстояние до центра города (м)\n",
    "* `days_exposition` — сколько дней было размещено объявление (от публикации до снятия)\n",
    "* `first_day_exposition` — дата публикации\n",
    "* `floor` — этаж\n",
    "* `floors_total` — всего этажей в доме\n",
    "* `is_apartment` — апартаменты (булев тип)\n",
    "* `kitchen_area` — площадь кухни в квадратных метрах (м²)\n",
    "* `last_price` — цена на момент снятия с публикации\n",
    "* `living_area` — жилая площадь в квадратных метрах (м²)\n",
    "* `locality_name` — название населённого пункта\n",
    "* `open_plan` — свободная планировка (булев тип)\n",
    "* `parks_around3000` — число парков в радиусе 3 км\n",
    "* `parks_nearest` — расстояние до ближайшего парка (м)\n",
    "* `ponds_around3000` — число водоёмов в радиусе 3 км\n",
    "* `ponds_nearest` — расстояние до ближайшего водоёма (м)\n",
    "* `rooms` — число комнат\n",
    "* `studio` — квартира-студия (булев тип)\n",
    "* `total_area` — площадь квартиры в квадратных метрах (м²)\n",
    "* `total_images` — число фотографий квартиры в объявлении"
   ]
  },
  {
   "cell_type": "markdown",
   "metadata": {},
   "source": [
    "### Вывод"
   ]
  },
  {
   "cell_type": "markdown",
   "metadata": {},
   "source": [
    "Проанализировав данные можно сделать соответсвующие выводы:\n",
    "* 1) first_day_exposition - object - должен быть тип datetime\n",
    "* 2) ceiling_height - нулевые значения\n",
    "* 3) floors_total - должен быть тип int, т.к. количество этажей - целое значение + нулевые значения\n",
    "* 4) is_apartment - должен быть тип bool + нулевые значения\n",
    "* 5) living_area - нулевые значения\n",
    "* 6) kitchen_area - нулевые значения\n",
    "* 7) balcony - нулевые значения\n",
    "* 8) locality_name - нулевые значения\n",
    "* 9) airports_nearest - нулевые значения\n",
    "* 10) cityCenters_nearest - нулевые значения\n",
    "* 11) parks_around3000 - тип должен быть int + нулевые значения\n",
    "* 12) parks_nearest - нулевые значения\n",
    "* 13) ponds_around3000 - тип должен быть int + нулевые значения\n",
    "* 14) ponds_nearest - нулевые значения\n",
    "* 15) days_exposition - тип должен быть int + нулевые значения"
   ]
  },
  {
   "cell_type": "markdown",
   "metadata": {},
   "source": [
    "## Предобработка данных"
   ]
  },
  {
   "cell_type": "code",
   "execution_count": 3,
   "metadata": {},
   "outputs": [],
   "source": [
    "#Основываясь на выводы из предыдущего пункта приступим к предобработке данных необходимых пунктов\n",
    "#1) переведем столбец с датой в формат даты без времени, т.к. время не указано\n",
    "data['first_day_exposition'] = pd.to_datetime(data['first_day_exposition'], format = '%Y-%m-%d')"
   ]
  },
  {
   "cell_type": "code",
   "execution_count": 4,
   "metadata": {},
   "outputs": [
    {
     "data": {
      "text/html": [
       "<div>\n",
       "<style scoped>\n",
       "    .dataframe tbody tr th:only-of-type {\n",
       "        vertical-align: middle;\n",
       "    }\n",
       "\n",
       "    .dataframe tbody tr th {\n",
       "        vertical-align: top;\n",
       "    }\n",
       "\n",
       "    .dataframe thead th {\n",
       "        text-align: right;\n",
       "    }\n",
       "</style>\n",
       "<table border=\"1\" class=\"dataframe\">\n",
       "  <thead>\n",
       "    <tr style=\"text-align: right;\">\n",
       "      <th></th>\n",
       "      <th>total_images</th>\n",
       "      <th>last_price</th>\n",
       "      <th>total_area</th>\n",
       "      <th>first_day_exposition</th>\n",
       "      <th>rooms</th>\n",
       "      <th>ceiling_height</th>\n",
       "      <th>floors_total</th>\n",
       "      <th>living_area</th>\n",
       "      <th>floor</th>\n",
       "      <th>is_apartment</th>\n",
       "      <th>...</th>\n",
       "      <th>kitchen_area</th>\n",
       "      <th>balcony</th>\n",
       "      <th>locality_name</th>\n",
       "      <th>airports_nearest</th>\n",
       "      <th>cityCenters_nearest</th>\n",
       "      <th>parks_around3000</th>\n",
       "      <th>parks_nearest</th>\n",
       "      <th>ponds_around3000</th>\n",
       "      <th>ponds_nearest</th>\n",
       "      <th>days_exposition</th>\n",
       "    </tr>\n",
       "  </thead>\n",
       "  <tbody>\n",
       "    <tr>\n",
       "      <td>21824</td>\n",
       "      <td>20</td>\n",
       "      <td>2450000.0</td>\n",
       "      <td>44.0</td>\n",
       "      <td>2019-02-12</td>\n",
       "      <td>2</td>\n",
       "      <td>27.0</td>\n",
       "      <td>2.0</td>\n",
       "      <td>38.0</td>\n",
       "      <td>2</td>\n",
       "      <td>False</td>\n",
       "      <td>...</td>\n",
       "      <td>8.6</td>\n",
       "      <td>2.0</td>\n",
       "      <td>городской поселок Большая Ижора</td>\n",
       "      <td>NaN</td>\n",
       "      <td>NaN</td>\n",
       "      <td>NaN</td>\n",
       "      <td>NaN</td>\n",
       "      <td>NaN</td>\n",
       "      <td>NaN</td>\n",
       "      <td>NaN</td>\n",
       "    </tr>\n",
       "    <tr>\n",
       "      <td>22938</td>\n",
       "      <td>14</td>\n",
       "      <td>4000000.0</td>\n",
       "      <td>98.0</td>\n",
       "      <td>2018-03-15</td>\n",
       "      <td>4</td>\n",
       "      <td>27.0</td>\n",
       "      <td>2.0</td>\n",
       "      <td>73.0</td>\n",
       "      <td>2</td>\n",
       "      <td>True</td>\n",
       "      <td>...</td>\n",
       "      <td>9.0</td>\n",
       "      <td>1.0</td>\n",
       "      <td>деревня Нижняя</td>\n",
       "      <td>NaN</td>\n",
       "      <td>NaN</td>\n",
       "      <td>NaN</td>\n",
       "      <td>NaN</td>\n",
       "      <td>NaN</td>\n",
       "      <td>NaN</td>\n",
       "      <td>27.0</td>\n",
       "    </tr>\n",
       "    <tr>\n",
       "      <td>4876</td>\n",
       "      <td>7</td>\n",
       "      <td>3000000.0</td>\n",
       "      <td>25.0</td>\n",
       "      <td>2017-09-27</td>\n",
       "      <td>0</td>\n",
       "      <td>27.0</td>\n",
       "      <td>25.0</td>\n",
       "      <td>17.0</td>\n",
       "      <td>17</td>\n",
       "      <td>NaN</td>\n",
       "      <td>...</td>\n",
       "      <td>NaN</td>\n",
       "      <td>2.0</td>\n",
       "      <td>посёлок Мурино</td>\n",
       "      <td>NaN</td>\n",
       "      <td>NaN</td>\n",
       "      <td>NaN</td>\n",
       "      <td>NaN</td>\n",
       "      <td>NaN</td>\n",
       "      <td>NaN</td>\n",
       "      <td>28.0</td>\n",
       "    </tr>\n",
       "    <tr>\n",
       "      <td>10773</td>\n",
       "      <td>8</td>\n",
       "      <td>3800000.0</td>\n",
       "      <td>58.0</td>\n",
       "      <td>2017-10-13</td>\n",
       "      <td>2</td>\n",
       "      <td>27.0</td>\n",
       "      <td>10.0</td>\n",
       "      <td>30.1</td>\n",
       "      <td>3</td>\n",
       "      <td>False</td>\n",
       "      <td>...</td>\n",
       "      <td>8.1</td>\n",
       "      <td>2.0</td>\n",
       "      <td>посёлок Мурино</td>\n",
       "      <td>NaN</td>\n",
       "      <td>NaN</td>\n",
       "      <td>NaN</td>\n",
       "      <td>NaN</td>\n",
       "      <td>NaN</td>\n",
       "      <td>NaN</td>\n",
       "      <td>71.0</td>\n",
       "    </tr>\n",
       "    <tr>\n",
       "      <td>20478</td>\n",
       "      <td>11</td>\n",
       "      <td>8000000.0</td>\n",
       "      <td>45.0</td>\n",
       "      <td>2017-07-18</td>\n",
       "      <td>1</td>\n",
       "      <td>27.0</td>\n",
       "      <td>4.0</td>\n",
       "      <td>22.0</td>\n",
       "      <td>2</td>\n",
       "      <td>NaN</td>\n",
       "      <td>...</td>\n",
       "      <td>10.0</td>\n",
       "      <td>1.0</td>\n",
       "      <td>Санкт-Петербург</td>\n",
       "      <td>18975.0</td>\n",
       "      <td>3246.0</td>\n",
       "      <td>0.0</td>\n",
       "      <td>NaN</td>\n",
       "      <td>3.0</td>\n",
       "      <td>449.0</td>\n",
       "      <td>429.0</td>\n",
       "    </tr>\n",
       "    <tr>\n",
       "      <td>17857</td>\n",
       "      <td>1</td>\n",
       "      <td>3900000.0</td>\n",
       "      <td>56.0</td>\n",
       "      <td>2017-12-22</td>\n",
       "      <td>3</td>\n",
       "      <td>27.0</td>\n",
       "      <td>5.0</td>\n",
       "      <td>33.0</td>\n",
       "      <td>4</td>\n",
       "      <td>False</td>\n",
       "      <td>...</td>\n",
       "      <td>NaN</td>\n",
       "      <td>NaN</td>\n",
       "      <td>Санкт-Петербург</td>\n",
       "      <td>41030.0</td>\n",
       "      <td>15543.0</td>\n",
       "      <td>0.0</td>\n",
       "      <td>NaN</td>\n",
       "      <td>0.0</td>\n",
       "      <td>NaN</td>\n",
       "      <td>73.0</td>\n",
       "    </tr>\n",
       "    <tr>\n",
       "      <td>21377</td>\n",
       "      <td>19</td>\n",
       "      <td>4900000.0</td>\n",
       "      <td>42.0</td>\n",
       "      <td>2017-04-18</td>\n",
       "      <td>1</td>\n",
       "      <td>27.5</td>\n",
       "      <td>24.0</td>\n",
       "      <td>37.7</td>\n",
       "      <td>19</td>\n",
       "      <td>False</td>\n",
       "      <td>...</td>\n",
       "      <td>11.0</td>\n",
       "      <td>2.0</td>\n",
       "      <td>Санкт-Петербург</td>\n",
       "      <td>42742.0</td>\n",
       "      <td>9760.0</td>\n",
       "      <td>0.0</td>\n",
       "      <td>NaN</td>\n",
       "      <td>0.0</td>\n",
       "      <td>NaN</td>\n",
       "      <td>61.0</td>\n",
       "    </tr>\n",
       "    <tr>\n",
       "      <td>22336</td>\n",
       "      <td>19</td>\n",
       "      <td>9999000.0</td>\n",
       "      <td>92.4</td>\n",
       "      <td>2019-04-05</td>\n",
       "      <td>2</td>\n",
       "      <td>32.0</td>\n",
       "      <td>6.0</td>\n",
       "      <td>55.5</td>\n",
       "      <td>5</td>\n",
       "      <td>False</td>\n",
       "      <td>...</td>\n",
       "      <td>16.5</td>\n",
       "      <td>4.0</td>\n",
       "      <td>Санкт-Петербург</td>\n",
       "      <td>18838.0</td>\n",
       "      <td>3506.0</td>\n",
       "      <td>0.0</td>\n",
       "      <td>NaN</td>\n",
       "      <td>3.0</td>\n",
       "      <td>511.0</td>\n",
       "      <td>NaN</td>\n",
       "    </tr>\n",
       "    <tr>\n",
       "      <td>3148</td>\n",
       "      <td>14</td>\n",
       "      <td>2900000.0</td>\n",
       "      <td>75.0</td>\n",
       "      <td>2018-11-12</td>\n",
       "      <td>3</td>\n",
       "      <td>32.0</td>\n",
       "      <td>3.0</td>\n",
       "      <td>53.0</td>\n",
       "      <td>2</td>\n",
       "      <td>NaN</td>\n",
       "      <td>...</td>\n",
       "      <td>8.0</td>\n",
       "      <td>NaN</td>\n",
       "      <td>Волхов</td>\n",
       "      <td>NaN</td>\n",
       "      <td>NaN</td>\n",
       "      <td>NaN</td>\n",
       "      <td>NaN</td>\n",
       "      <td>NaN</td>\n",
       "      <td>NaN</td>\n",
       "      <td>NaN</td>\n",
       "    </tr>\n",
       "    <tr>\n",
       "      <td>22869</td>\n",
       "      <td>0</td>\n",
       "      <td>15000000.0</td>\n",
       "      <td>25.0</td>\n",
       "      <td>2018-07-25</td>\n",
       "      <td>1</td>\n",
       "      <td>100.0</td>\n",
       "      <td>5.0</td>\n",
       "      <td>14.0</td>\n",
       "      <td>5</td>\n",
       "      <td>True</td>\n",
       "      <td>...</td>\n",
       "      <td>11.0</td>\n",
       "      <td>5.0</td>\n",
       "      <td>Санкт-Петербург</td>\n",
       "      <td>34963.0</td>\n",
       "      <td>8283.0</td>\n",
       "      <td>1.0</td>\n",
       "      <td>223.0</td>\n",
       "      <td>3.0</td>\n",
       "      <td>30.0</td>\n",
       "      <td>19.0</td>\n",
       "    </tr>\n",
       "  </tbody>\n",
       "</table>\n",
       "<p>10 rows × 22 columns</p>\n",
       "</div>"
      ],
      "text/plain": [
       "       total_images  last_price  total_area first_day_exposition  rooms  \\\n",
       "21824            20   2450000.0        44.0           2019-02-12      2   \n",
       "22938            14   4000000.0        98.0           2018-03-15      4   \n",
       "4876              7   3000000.0        25.0           2017-09-27      0   \n",
       "10773             8   3800000.0        58.0           2017-10-13      2   \n",
       "20478            11   8000000.0        45.0           2017-07-18      1   \n",
       "17857             1   3900000.0        56.0           2017-12-22      3   \n",
       "21377            19   4900000.0        42.0           2017-04-18      1   \n",
       "22336            19   9999000.0        92.4           2019-04-05      2   \n",
       "3148             14   2900000.0        75.0           2018-11-12      3   \n",
       "22869             0  15000000.0        25.0           2018-07-25      1   \n",
       "\n",
       "       ceiling_height  floors_total  living_area  floor is_apartment  ...  \\\n",
       "21824            27.0           2.0         38.0      2        False  ...   \n",
       "22938            27.0           2.0         73.0      2         True  ...   \n",
       "4876             27.0          25.0         17.0     17          NaN  ...   \n",
       "10773            27.0          10.0         30.1      3        False  ...   \n",
       "20478            27.0           4.0         22.0      2          NaN  ...   \n",
       "17857            27.0           5.0         33.0      4        False  ...   \n",
       "21377            27.5          24.0         37.7     19        False  ...   \n",
       "22336            32.0           6.0         55.5      5        False  ...   \n",
       "3148             32.0           3.0         53.0      2          NaN  ...   \n",
       "22869           100.0           5.0         14.0      5         True  ...   \n",
       "\n",
       "       kitchen_area  balcony                    locality_name  \\\n",
       "21824           8.6      2.0  городской поселок Большая Ижора   \n",
       "22938           9.0      1.0                   деревня Нижняя   \n",
       "4876            NaN      2.0                   посёлок Мурино   \n",
       "10773           8.1      2.0                   посёлок Мурино   \n",
       "20478          10.0      1.0                  Санкт-Петербург   \n",
       "17857           NaN      NaN                  Санкт-Петербург   \n",
       "21377          11.0      2.0                  Санкт-Петербург   \n",
       "22336          16.5      4.0                  Санкт-Петербург   \n",
       "3148            8.0      NaN                           Волхов   \n",
       "22869          11.0      5.0                  Санкт-Петербург   \n",
       "\n",
       "       airports_nearest cityCenters_nearest  parks_around3000  parks_nearest  \\\n",
       "21824               NaN                 NaN               NaN            NaN   \n",
       "22938               NaN                 NaN               NaN            NaN   \n",
       "4876                NaN                 NaN               NaN            NaN   \n",
       "10773               NaN                 NaN               NaN            NaN   \n",
       "20478           18975.0              3246.0               0.0            NaN   \n",
       "17857           41030.0             15543.0               0.0            NaN   \n",
       "21377           42742.0              9760.0               0.0            NaN   \n",
       "22336           18838.0              3506.0               0.0            NaN   \n",
       "3148                NaN                 NaN               NaN            NaN   \n",
       "22869           34963.0              8283.0               1.0          223.0   \n",
       "\n",
       "       ponds_around3000  ponds_nearest  days_exposition  \n",
       "21824               NaN            NaN              NaN  \n",
       "22938               NaN            NaN             27.0  \n",
       "4876                NaN            NaN             28.0  \n",
       "10773               NaN            NaN             71.0  \n",
       "20478               3.0          449.0            429.0  \n",
       "17857               0.0            NaN             73.0  \n",
       "21377               0.0            NaN             61.0  \n",
       "22336               3.0          511.0              NaN  \n",
       "3148                NaN            NaN              NaN  \n",
       "22869               3.0           30.0             19.0  \n",
       "\n",
       "[10 rows x 22 columns]"
      ]
     },
     "execution_count": 4,
     "metadata": {},
     "output_type": "execute_result"
    },
    {
     "data": {
      "image/png": "[encoded data removed]",
      "text/plain": [
       "<Figure size 432x288 with 1 Axes>"
      ]
     },
     "metadata": {
      "needs_background": "light"
     },
     "output_type": "display_data"
    }
   ],
   "source": [
    "#посмотрим параметр ceiling_height, видим что есть необоснованно большие значения но пока оставим их как есть,\n",
    "#медиана от среднего отличается не сильно из-за этих выбросов во всей выборке\n",
    "data['ceiling_height'].sort_values().plot(y = 'ceiling_height', kind = 'hist', bins = 30, range=(2,5))\n",
    "data['ceiling_height'].value_counts()\n",
    "data['ceiling_height'].describe()\n",
    "data[data['ceiling_height'] > 4].sort_values('ceiling_height').tail(10)"
   ]
  },
  {
   "cell_type": "code",
   "execution_count": 5,
   "metadata": {},
   "outputs": [
    {
     "data": {
      "text/html": [
       "<div>\n",
       "<style scoped>\n",
       "    .dataframe tbody tr th:only-of-type {\n",
       "        vertical-align: middle;\n",
       "    }\n",
       "\n",
       "    .dataframe tbody tr th {\n",
       "        vertical-align: top;\n",
       "    }\n",
       "\n",
       "    .dataframe thead th {\n",
       "        text-align: right;\n",
       "    }\n",
       "</style>\n",
       "<table border=\"1\" class=\"dataframe\">\n",
       "  <thead>\n",
       "    <tr style=\"text-align: right;\">\n",
       "      <th></th>\n",
       "      <th>total_images</th>\n",
       "      <th>last_price</th>\n",
       "      <th>total_area</th>\n",
       "      <th>first_day_exposition</th>\n",
       "      <th>rooms</th>\n",
       "      <th>ceiling_height</th>\n",
       "      <th>floors_total</th>\n",
       "      <th>living_area</th>\n",
       "      <th>floor</th>\n",
       "      <th>is_apartment</th>\n",
       "      <th>...</th>\n",
       "      <th>kitchen_area</th>\n",
       "      <th>balcony</th>\n",
       "      <th>locality_name</th>\n",
       "      <th>airports_nearest</th>\n",
       "      <th>cityCenters_nearest</th>\n",
       "      <th>parks_around3000</th>\n",
       "      <th>parks_nearest</th>\n",
       "      <th>ponds_around3000</th>\n",
       "      <th>ponds_nearest</th>\n",
       "      <th>days_exposition</th>\n",
       "    </tr>\n",
       "  </thead>\n",
       "  <tbody>\n",
       "    <tr>\n",
       "      <td>186</td>\n",
       "      <td>12</td>\n",
       "      <td>11640000.0</td>\n",
       "      <td>65.2</td>\n",
       "      <td>2018-10-02</td>\n",
       "      <td>2</td>\n",
       "      <td>NaN</td>\n",
       "      <td>NaN</td>\n",
       "      <td>30.80</td>\n",
       "      <td>4</td>\n",
       "      <td>NaN</td>\n",
       "      <td>...</td>\n",
       "      <td>12.00</td>\n",
       "      <td>NaN</td>\n",
       "      <td>Санкт-Петербург</td>\n",
       "      <td>39197.0</td>\n",
       "      <td>12373.0</td>\n",
       "      <td>1.0</td>\n",
       "      <td>123.0</td>\n",
       "      <td>0.0</td>\n",
       "      <td>NaN</td>\n",
       "      <td>49.0</td>\n",
       "    </tr>\n",
       "    <tr>\n",
       "      <td>237</td>\n",
       "      <td>4</td>\n",
       "      <td>2438033.0</td>\n",
       "      <td>28.1</td>\n",
       "      <td>2016-11-23</td>\n",
       "      <td>1</td>\n",
       "      <td>NaN</td>\n",
       "      <td>NaN</td>\n",
       "      <td>20.75</td>\n",
       "      <td>1</td>\n",
       "      <td>NaN</td>\n",
       "      <td>...</td>\n",
       "      <td>NaN</td>\n",
       "      <td>0.0</td>\n",
       "      <td>Санкт-Петербург</td>\n",
       "      <td>22041.0</td>\n",
       "      <td>17369.0</td>\n",
       "      <td>0.0</td>\n",
       "      <td>NaN</td>\n",
       "      <td>1.0</td>\n",
       "      <td>374.0</td>\n",
       "      <td>251.0</td>\n",
       "    </tr>\n",
       "    <tr>\n",
       "      <td>457</td>\n",
       "      <td>4</td>\n",
       "      <td>9788348.0</td>\n",
       "      <td>70.8</td>\n",
       "      <td>2015-08-01</td>\n",
       "      <td>2</td>\n",
       "      <td>NaN</td>\n",
       "      <td>NaN</td>\n",
       "      <td>38.40</td>\n",
       "      <td>12</td>\n",
       "      <td>NaN</td>\n",
       "      <td>...</td>\n",
       "      <td>10.63</td>\n",
       "      <td>0.0</td>\n",
       "      <td>Санкт-Петербург</td>\n",
       "      <td>37364.0</td>\n",
       "      <td>8322.0</td>\n",
       "      <td>2.0</td>\n",
       "      <td>309.0</td>\n",
       "      <td>2.0</td>\n",
       "      <td>706.0</td>\n",
       "      <td>727.0</td>\n",
       "    </tr>\n",
       "    <tr>\n",
       "      <td>671</td>\n",
       "      <td>4</td>\n",
       "      <td>6051191.0</td>\n",
       "      <td>93.6</td>\n",
       "      <td>2017-04-06</td>\n",
       "      <td>3</td>\n",
       "      <td>NaN</td>\n",
       "      <td>NaN</td>\n",
       "      <td>47.10</td>\n",
       "      <td>8</td>\n",
       "      <td>NaN</td>\n",
       "      <td>...</td>\n",
       "      <td>16.80</td>\n",
       "      <td>0.0</td>\n",
       "      <td>Санкт-Петербург</td>\n",
       "      <td>22041.0</td>\n",
       "      <td>17369.0</td>\n",
       "      <td>0.0</td>\n",
       "      <td>NaN</td>\n",
       "      <td>1.0</td>\n",
       "      <td>374.0</td>\n",
       "      <td>123.0</td>\n",
       "    </tr>\n",
       "    <tr>\n",
       "      <td>1757</td>\n",
       "      <td>5</td>\n",
       "      <td>3600000.0</td>\n",
       "      <td>39.0</td>\n",
       "      <td>2017-04-22</td>\n",
       "      <td>1</td>\n",
       "      <td>NaN</td>\n",
       "      <td>NaN</td>\n",
       "      <td>NaN</td>\n",
       "      <td>9</td>\n",
       "      <td>NaN</td>\n",
       "      <td>...</td>\n",
       "      <td>NaN</td>\n",
       "      <td>0.0</td>\n",
       "      <td>Санкт-Петербург</td>\n",
       "      <td>22735.0</td>\n",
       "      <td>11618.0</td>\n",
       "      <td>1.0</td>\n",
       "      <td>835.0</td>\n",
       "      <td>1.0</td>\n",
       "      <td>652.0</td>\n",
       "      <td>77.0</td>\n",
       "    </tr>\n",
       "    <tr>\n",
       "      <td>...</td>\n",
       "      <td>...</td>\n",
       "      <td>...</td>\n",
       "      <td>...</td>\n",
       "      <td>...</td>\n",
       "      <td>...</td>\n",
       "      <td>...</td>\n",
       "      <td>...</td>\n",
       "      <td>...</td>\n",
       "      <td>...</td>\n",
       "      <td>...</td>\n",
       "      <td>...</td>\n",
       "      <td>...</td>\n",
       "      <td>...</td>\n",
       "      <td>...</td>\n",
       "      <td>...</td>\n",
       "      <td>...</td>\n",
       "      <td>...</td>\n",
       "      <td>...</td>\n",
       "      <td>...</td>\n",
       "      <td>...</td>\n",
       "      <td>...</td>\n",
       "    </tr>\n",
       "    <tr>\n",
       "      <td>22542</td>\n",
       "      <td>5</td>\n",
       "      <td>8500000.0</td>\n",
       "      <td>63.5</td>\n",
       "      <td>2017-05-24</td>\n",
       "      <td>2</td>\n",
       "      <td>2.8</td>\n",
       "      <td>NaN</td>\n",
       "      <td>NaN</td>\n",
       "      <td>3</td>\n",
       "      <td>NaN</td>\n",
       "      <td>...</td>\n",
       "      <td>NaN</td>\n",
       "      <td>NaN</td>\n",
       "      <td>Санкт-Петербург</td>\n",
       "      <td>51340.0</td>\n",
       "      <td>15363.0</td>\n",
       "      <td>0.0</td>\n",
       "      <td>NaN</td>\n",
       "      <td>1.0</td>\n",
       "      <td>853.0</td>\n",
       "      <td>512.0</td>\n",
       "    </tr>\n",
       "    <tr>\n",
       "      <td>22656</td>\n",
       "      <td>4</td>\n",
       "      <td>4574160.0</td>\n",
       "      <td>64.5</td>\n",
       "      <td>2017-04-02</td>\n",
       "      <td>2</td>\n",
       "      <td>NaN</td>\n",
       "      <td>NaN</td>\n",
       "      <td>31.70</td>\n",
       "      <td>20</td>\n",
       "      <td>NaN</td>\n",
       "      <td>...</td>\n",
       "      <td>14.40</td>\n",
       "      <td>0.0</td>\n",
       "      <td>Санкт-Петербург</td>\n",
       "      <td>22041.0</td>\n",
       "      <td>17369.0</td>\n",
       "      <td>0.0</td>\n",
       "      <td>NaN</td>\n",
       "      <td>1.0</td>\n",
       "      <td>374.0</td>\n",
       "      <td>127.0</td>\n",
       "    </tr>\n",
       "    <tr>\n",
       "      <td>22808</td>\n",
       "      <td>0</td>\n",
       "      <td>14569263.0</td>\n",
       "      <td>110.4</td>\n",
       "      <td>2016-11-20</td>\n",
       "      <td>3</td>\n",
       "      <td>NaN</td>\n",
       "      <td>NaN</td>\n",
       "      <td>45.38</td>\n",
       "      <td>6</td>\n",
       "      <td>NaN</td>\n",
       "      <td>...</td>\n",
       "      <td>23.42</td>\n",
       "      <td>0.0</td>\n",
       "      <td>Санкт-Петербург</td>\n",
       "      <td>19095.0</td>\n",
       "      <td>4529.0</td>\n",
       "      <td>0.0</td>\n",
       "      <td>NaN</td>\n",
       "      <td>0.0</td>\n",
       "      <td>NaN</td>\n",
       "      <td>260.0</td>\n",
       "    </tr>\n",
       "    <tr>\n",
       "      <td>23590</td>\n",
       "      <td>0</td>\n",
       "      <td>21187872.0</td>\n",
       "      <td>123.3</td>\n",
       "      <td>2017-04-25</td>\n",
       "      <td>3</td>\n",
       "      <td>NaN</td>\n",
       "      <td>NaN</td>\n",
       "      <td>50.40</td>\n",
       "      <td>18</td>\n",
       "      <td>NaN</td>\n",
       "      <td>...</td>\n",
       "      <td>23.60</td>\n",
       "      <td>0.0</td>\n",
       "      <td>Санкт-Петербург</td>\n",
       "      <td>19095.0</td>\n",
       "      <td>4529.0</td>\n",
       "      <td>0.0</td>\n",
       "      <td>NaN</td>\n",
       "      <td>0.0</td>\n",
       "      <td>NaN</td>\n",
       "      <td>104.0</td>\n",
       "    </tr>\n",
       "    <tr>\n",
       "      <td>23658</td>\n",
       "      <td>6</td>\n",
       "      <td>3063600.0</td>\n",
       "      <td>43.8</td>\n",
       "      <td>2016-11-28</td>\n",
       "      <td>1</td>\n",
       "      <td>2.7</td>\n",
       "      <td>NaN</td>\n",
       "      <td>14.00</td>\n",
       "      <td>8</td>\n",
       "      <td>NaN</td>\n",
       "      <td>...</td>\n",
       "      <td>15.50</td>\n",
       "      <td>2.0</td>\n",
       "      <td>Санкт-Петербург</td>\n",
       "      <td>8426.0</td>\n",
       "      <td>12082.0</td>\n",
       "      <td>2.0</td>\n",
       "      <td>24.0</td>\n",
       "      <td>1.0</td>\n",
       "      <td>271.0</td>\n",
       "      <td>246.0</td>\n",
       "    </tr>\n",
       "  </tbody>\n",
       "</table>\n",
       "<p>86 rows × 22 columns</p>\n",
       "</div>"
      ],
      "text/plain": [
       "       total_images  last_price  total_area first_day_exposition  rooms  \\\n",
       "186              12  11640000.0        65.2           2018-10-02      2   \n",
       "237               4   2438033.0        28.1           2016-11-23      1   \n",
       "457               4   9788348.0        70.8           2015-08-01      2   \n",
       "671               4   6051191.0        93.6           2017-04-06      3   \n",
       "1757              5   3600000.0        39.0           2017-04-22      1   \n",
       "...             ...         ...         ...                  ...    ...   \n",
       "22542             5   8500000.0        63.5           2017-05-24      2   \n",
       "22656             4   4574160.0        64.5           2017-04-02      2   \n",
       "22808             0  14569263.0       110.4           2016-11-20      3   \n",
       "23590             0  21187872.0       123.3           2017-04-25      3   \n",
       "23658             6   3063600.0        43.8           2016-11-28      1   \n",
       "\n",
       "       ceiling_height  floors_total  living_area  floor is_apartment  ...  \\\n",
       "186               NaN           NaN        30.80      4          NaN  ...   \n",
       "237               NaN           NaN        20.75      1          NaN  ...   \n",
       "457               NaN           NaN        38.40     12          NaN  ...   \n",
       "671               NaN           NaN        47.10      8          NaN  ...   \n",
       "1757              NaN           NaN          NaN      9          NaN  ...   \n",
       "...               ...           ...          ...    ...          ...  ...   \n",
       "22542             2.8           NaN          NaN      3          NaN  ...   \n",
       "22656             NaN           NaN        31.70     20          NaN  ...   \n",
       "22808             NaN           NaN        45.38      6          NaN  ...   \n",
       "23590             NaN           NaN        50.40     18          NaN  ...   \n",
       "23658             2.7           NaN        14.00      8          NaN  ...   \n",
       "\n",
       "       kitchen_area  balcony    locality_name  airports_nearest  \\\n",
       "186           12.00      NaN  Санкт-Петербург           39197.0   \n",
       "237             NaN      0.0  Санкт-Петербург           22041.0   \n",
       "457           10.63      0.0  Санкт-Петербург           37364.0   \n",
       "671           16.80      0.0  Санкт-Петербург           22041.0   \n",
       "1757            NaN      0.0  Санкт-Петербург           22735.0   \n",
       "...             ...      ...              ...               ...   \n",
       "22542           NaN      NaN  Санкт-Петербург           51340.0   \n",
       "22656         14.40      0.0  Санкт-Петербург           22041.0   \n",
       "22808         23.42      0.0  Санкт-Петербург           19095.0   \n",
       "23590         23.60      0.0  Санкт-Петербург           19095.0   \n",
       "23658         15.50      2.0  Санкт-Петербург            8426.0   \n",
       "\n",
       "      cityCenters_nearest  parks_around3000  parks_nearest  ponds_around3000  \\\n",
       "186               12373.0               1.0          123.0               0.0   \n",
       "237               17369.0               0.0            NaN               1.0   \n",
       "457                8322.0               2.0          309.0               2.0   \n",
       "671               17369.0               0.0            NaN               1.0   \n",
       "1757              11618.0               1.0          835.0               1.0   \n",
       "...                   ...               ...            ...               ...   \n",
       "22542             15363.0               0.0            NaN               1.0   \n",
       "22656             17369.0               0.0            NaN               1.0   \n",
       "22808              4529.0               0.0            NaN               0.0   \n",
       "23590              4529.0               0.0            NaN               0.0   \n",
       "23658             12082.0               2.0           24.0               1.0   \n",
       "\n",
       "       ponds_nearest  days_exposition  \n",
       "186              NaN             49.0  \n",
       "237            374.0            251.0  \n",
       "457            706.0            727.0  \n",
       "671            374.0            123.0  \n",
       "1757           652.0             77.0  \n",
       "...              ...              ...  \n",
       "22542          853.0            512.0  \n",
       "22656          374.0            127.0  \n",
       "22808            NaN            260.0  \n",
       "23590            NaN            104.0  \n",
       "23658          271.0            246.0  \n",
       "\n",
       "[86 rows x 22 columns]"
      ]
     },
     "execution_count": 5,
     "metadata": {},
     "output_type": "execute_result"
    }
   ],
   "source": [
    "#посмотрим данные с пропущенными значениями в floors_total- ничего общего между ними нет, оставим как есть\n",
    "# в дальнейшем будет применена группировка\n",
    "data[data['floors_total'].isna()]"
   ]
  },
  {
   "cell_type": "code",
   "execution_count": 6,
   "metadata": {},
   "outputs": [],
   "source": [
    "#столбец апартаменты видимо появился не вместе с началом ведения записей, все пропущенные значения заменим на False, \n",
    "#апартаменты появились относительно недавно\n",
    "data['is_apartment'] = data['is_apartment'].fillna(False)"
   ]
  },
  {
   "cell_type": "code",
   "execution_count": 7,
   "metadata": {},
   "outputs": [
    {
     "data": {
      "text/plain": [
       "count    21796.000000\n",
       "mean        34.457852\n",
       "std         22.030445\n",
       "min          2.000000\n",
       "25%         18.600000\n",
       "50%         30.000000\n",
       "75%         42.300000\n",
       "max        409.700000\n",
       "Name: living_area, dtype: float64"
      ]
     },
     "execution_count": 7,
     "metadata": {},
     "output_type": "execute_result"
    }
   ],
   "source": [
    "#living_area слишком много знаков после запятой и есть пропущенные значения, \n",
    "#можно посчитать средний процент жилой площади от всей площади по всей выборке\n",
    "#и высчитать для строк с пропусками жилую площадь как вариант, но мы поступим иначе и проще\n",
    "data['living_area'].value_counts()\n",
    "data['living_area'].describe()"
   ]
  },
  {
   "cell_type": "code",
   "execution_count": 8,
   "metadata": {},
   "outputs": [
    {
     "data": {
      "text/plain": [
       "Санкт-Петербург             15721\n",
       "посёлок Мурино                522\n",
       "посёлок Шушары                440\n",
       "Всеволожск                    398\n",
       "Пушкин                        369\n",
       "                            ...  \n",
       "деревня Котлы                   1\n",
       "поселок Гаврилово               1\n",
       "деревня Старое Хинколово        1\n",
       "посёлок Высокоключевой          1\n",
       "посёлок Петро-Славянка          1\n",
       "Name: locality_name, Length: 364, dtype: int64"
      ]
     },
     "execution_count": 8,
     "metadata": {},
     "output_type": "execute_result"
    }
   ],
   "source": [
    "#пропущенные значения в locality_name не будем трогать, причина не понятна\n",
    "data['locality_name'].value_counts()"
   ]
  },
  {
   "cell_type": "code",
   "execution_count": 9,
   "metadata": {},
   "outputs": [],
   "source": [
    "#заменим пропуски в balcony на 0 и изменим тип данных на int\n",
    "data['balcony'].value_counts()\n",
    "data['balcony'] = data['balcony'].fillna(0)\n",
    "data['balcony'] = data['balcony'].astype('int')"
   ]
  },
  {
   "cell_type": "code",
   "execution_count": 10,
   "metadata": {},
   "outputs": [
    {
     "data": {
      "text/plain": [
       "0        13000000\n",
       "1         3350000\n",
       "2         5196000\n",
       "3        64900000\n",
       "4        10000000\n",
       "           ...   \n",
       "23694     9700000\n",
       "23695     3100000\n",
       "23696     2500000\n",
       "23697    11475000\n",
       "23698     1350000\n",
       "Name: last_price, Length: 23699, dtype: int64"
      ]
     },
     "execution_count": 10,
     "metadata": {},
     "output_type": "execute_result"
    }
   ],
   "source": [
    "#изменим цену на тип int для удобства просмотра\n",
    "data['last_price'] = data['last_price'].astype('int')\n",
    "data['last_price']"
   ]
  },
  {
   "cell_type": "code",
   "execution_count": 11,
   "metadata": {},
   "outputs": [],
   "source": [
    "#заменим пропуски в days_exposition и заменим тип данных\n",
    "data['days_exposition'] = data['days_exposition'].fillna(0).astype('int')"
   ]
  },
  {
   "cell_type": "code",
   "execution_count": 12,
   "metadata": {},
   "outputs": [
    {
     "data": {
      "text/html": [
       "<div>\n",
       "<style scoped>\n",
       "    .dataframe tbody tr th:only-of-type {\n",
       "        vertical-align: middle;\n",
       "    }\n",
       "\n",
       "    .dataframe tbody tr th {\n",
       "        vertical-align: top;\n",
       "    }\n",
       "\n",
       "    .dataframe thead th {\n",
       "        text-align: right;\n",
       "    }\n",
       "</style>\n",
       "<table border=\"1\" class=\"dataframe\">\n",
       "  <thead>\n",
       "    <tr style=\"text-align: right;\">\n",
       "      <th></th>\n",
       "      <th>total_images</th>\n",
       "      <th>last_price</th>\n",
       "      <th>total_area</th>\n",
       "      <th>first_day_exposition</th>\n",
       "      <th>rooms</th>\n",
       "      <th>ceiling_height</th>\n",
       "      <th>floors_total</th>\n",
       "      <th>living_area</th>\n",
       "      <th>floor</th>\n",
       "      <th>is_apartment</th>\n",
       "      <th>...</th>\n",
       "      <th>kitchen_area</th>\n",
       "      <th>balcony</th>\n",
       "      <th>locality_name</th>\n",
       "      <th>airports_nearest</th>\n",
       "      <th>cityCenters_nearest</th>\n",
       "      <th>parks_around3000</th>\n",
       "      <th>parks_nearest</th>\n",
       "      <th>ponds_around3000</th>\n",
       "      <th>ponds_nearest</th>\n",
       "      <th>days_exposition</th>\n",
       "    </tr>\n",
       "  </thead>\n",
       "  <tbody>\n",
       "    <tr>\n",
       "      <td>186</td>\n",
       "      <td>12</td>\n",
       "      <td>11640000</td>\n",
       "      <td>65.2</td>\n",
       "      <td>2018-10-02</td>\n",
       "      <td>2</td>\n",
       "      <td>NaN</td>\n",
       "      <td>NaN</td>\n",
       "      <td>30.80</td>\n",
       "      <td>4</td>\n",
       "      <td>False</td>\n",
       "      <td>...</td>\n",
       "      <td>12.00</td>\n",
       "      <td>0</td>\n",
       "      <td>Санкт-Петербург</td>\n",
       "      <td>39197.0</td>\n",
       "      <td>12373.0</td>\n",
       "      <td>1.0</td>\n",
       "      <td>123.0</td>\n",
       "      <td>0.0</td>\n",
       "      <td>NaN</td>\n",
       "      <td>49</td>\n",
       "    </tr>\n",
       "    <tr>\n",
       "      <td>237</td>\n",
       "      <td>4</td>\n",
       "      <td>2438033</td>\n",
       "      <td>28.1</td>\n",
       "      <td>2016-11-23</td>\n",
       "      <td>1</td>\n",
       "      <td>NaN</td>\n",
       "      <td>NaN</td>\n",
       "      <td>20.75</td>\n",
       "      <td>1</td>\n",
       "      <td>False</td>\n",
       "      <td>...</td>\n",
       "      <td>NaN</td>\n",
       "      <td>0</td>\n",
       "      <td>Санкт-Петербург</td>\n",
       "      <td>22041.0</td>\n",
       "      <td>17369.0</td>\n",
       "      <td>0.0</td>\n",
       "      <td>NaN</td>\n",
       "      <td>1.0</td>\n",
       "      <td>374.0</td>\n",
       "      <td>251</td>\n",
       "    </tr>\n",
       "    <tr>\n",
       "      <td>457</td>\n",
       "      <td>4</td>\n",
       "      <td>9788348</td>\n",
       "      <td>70.8</td>\n",
       "      <td>2015-08-01</td>\n",
       "      <td>2</td>\n",
       "      <td>NaN</td>\n",
       "      <td>NaN</td>\n",
       "      <td>38.40</td>\n",
       "      <td>12</td>\n",
       "      <td>False</td>\n",
       "      <td>...</td>\n",
       "      <td>10.63</td>\n",
       "      <td>0</td>\n",
       "      <td>Санкт-Петербург</td>\n",
       "      <td>37364.0</td>\n",
       "      <td>8322.0</td>\n",
       "      <td>2.0</td>\n",
       "      <td>309.0</td>\n",
       "      <td>2.0</td>\n",
       "      <td>706.0</td>\n",
       "      <td>727</td>\n",
       "    </tr>\n",
       "    <tr>\n",
       "      <td>671</td>\n",
       "      <td>4</td>\n",
       "      <td>6051191</td>\n",
       "      <td>93.6</td>\n",
       "      <td>2017-04-06</td>\n",
       "      <td>3</td>\n",
       "      <td>NaN</td>\n",
       "      <td>NaN</td>\n",
       "      <td>47.10</td>\n",
       "      <td>8</td>\n",
       "      <td>False</td>\n",
       "      <td>...</td>\n",
       "      <td>16.80</td>\n",
       "      <td>0</td>\n",
       "      <td>Санкт-Петербург</td>\n",
       "      <td>22041.0</td>\n",
       "      <td>17369.0</td>\n",
       "      <td>0.0</td>\n",
       "      <td>NaN</td>\n",
       "      <td>1.0</td>\n",
       "      <td>374.0</td>\n",
       "      <td>123</td>\n",
       "    </tr>\n",
       "    <tr>\n",
       "      <td>1757</td>\n",
       "      <td>5</td>\n",
       "      <td>3600000</td>\n",
       "      <td>39.0</td>\n",
       "      <td>2017-04-22</td>\n",
       "      <td>1</td>\n",
       "      <td>NaN</td>\n",
       "      <td>NaN</td>\n",
       "      <td>NaN</td>\n",
       "      <td>9</td>\n",
       "      <td>False</td>\n",
       "      <td>...</td>\n",
       "      <td>NaN</td>\n",
       "      <td>0</td>\n",
       "      <td>Санкт-Петербург</td>\n",
       "      <td>22735.0</td>\n",
       "      <td>11618.0</td>\n",
       "      <td>1.0</td>\n",
       "      <td>835.0</td>\n",
       "      <td>1.0</td>\n",
       "      <td>652.0</td>\n",
       "      <td>77</td>\n",
       "    </tr>\n",
       "    <tr>\n",
       "      <td>...</td>\n",
       "      <td>...</td>\n",
       "      <td>...</td>\n",
       "      <td>...</td>\n",
       "      <td>...</td>\n",
       "      <td>...</td>\n",
       "      <td>...</td>\n",
       "      <td>...</td>\n",
       "      <td>...</td>\n",
       "      <td>...</td>\n",
       "      <td>...</td>\n",
       "      <td>...</td>\n",
       "      <td>...</td>\n",
       "      <td>...</td>\n",
       "      <td>...</td>\n",
       "      <td>...</td>\n",
       "      <td>...</td>\n",
       "      <td>...</td>\n",
       "      <td>...</td>\n",
       "      <td>...</td>\n",
       "      <td>...</td>\n",
       "      <td>...</td>\n",
       "    </tr>\n",
       "    <tr>\n",
       "      <td>22542</td>\n",
       "      <td>5</td>\n",
       "      <td>8500000</td>\n",
       "      <td>63.5</td>\n",
       "      <td>2017-05-24</td>\n",
       "      <td>2</td>\n",
       "      <td>2.8</td>\n",
       "      <td>NaN</td>\n",
       "      <td>NaN</td>\n",
       "      <td>3</td>\n",
       "      <td>False</td>\n",
       "      <td>...</td>\n",
       "      <td>NaN</td>\n",
       "      <td>0</td>\n",
       "      <td>Санкт-Петербург</td>\n",
       "      <td>51340.0</td>\n",
       "      <td>15363.0</td>\n",
       "      <td>0.0</td>\n",
       "      <td>NaN</td>\n",
       "      <td>1.0</td>\n",
       "      <td>853.0</td>\n",
       "      <td>512</td>\n",
       "    </tr>\n",
       "    <tr>\n",
       "      <td>22656</td>\n",
       "      <td>4</td>\n",
       "      <td>4574160</td>\n",
       "      <td>64.5</td>\n",
       "      <td>2017-04-02</td>\n",
       "      <td>2</td>\n",
       "      <td>NaN</td>\n",
       "      <td>NaN</td>\n",
       "      <td>31.70</td>\n",
       "      <td>20</td>\n",
       "      <td>False</td>\n",
       "      <td>...</td>\n",
       "      <td>14.40</td>\n",
       "      <td>0</td>\n",
       "      <td>Санкт-Петербург</td>\n",
       "      <td>22041.0</td>\n",
       "      <td>17369.0</td>\n",
       "      <td>0.0</td>\n",
       "      <td>NaN</td>\n",
       "      <td>1.0</td>\n",
       "      <td>374.0</td>\n",
       "      <td>127</td>\n",
       "    </tr>\n",
       "    <tr>\n",
       "      <td>22808</td>\n",
       "      <td>0</td>\n",
       "      <td>14569263</td>\n",
       "      <td>110.4</td>\n",
       "      <td>2016-11-20</td>\n",
       "      <td>3</td>\n",
       "      <td>NaN</td>\n",
       "      <td>NaN</td>\n",
       "      <td>45.38</td>\n",
       "      <td>6</td>\n",
       "      <td>False</td>\n",
       "      <td>...</td>\n",
       "      <td>23.42</td>\n",
       "      <td>0</td>\n",
       "      <td>Санкт-Петербург</td>\n",
       "      <td>19095.0</td>\n",
       "      <td>4529.0</td>\n",
       "      <td>0.0</td>\n",
       "      <td>NaN</td>\n",
       "      <td>0.0</td>\n",
       "      <td>NaN</td>\n",
       "      <td>260</td>\n",
       "    </tr>\n",
       "    <tr>\n",
       "      <td>23590</td>\n",
       "      <td>0</td>\n",
       "      <td>21187872</td>\n",
       "      <td>123.3</td>\n",
       "      <td>2017-04-25</td>\n",
       "      <td>3</td>\n",
       "      <td>NaN</td>\n",
       "      <td>NaN</td>\n",
       "      <td>50.40</td>\n",
       "      <td>18</td>\n",
       "      <td>False</td>\n",
       "      <td>...</td>\n",
       "      <td>23.60</td>\n",
       "      <td>0</td>\n",
       "      <td>Санкт-Петербург</td>\n",
       "      <td>19095.0</td>\n",
       "      <td>4529.0</td>\n",
       "      <td>0.0</td>\n",
       "      <td>NaN</td>\n",
       "      <td>0.0</td>\n",
       "      <td>NaN</td>\n",
       "      <td>104</td>\n",
       "    </tr>\n",
       "    <tr>\n",
       "      <td>23658</td>\n",
       "      <td>6</td>\n",
       "      <td>3063600</td>\n",
       "      <td>43.8</td>\n",
       "      <td>2016-11-28</td>\n",
       "      <td>1</td>\n",
       "      <td>2.7</td>\n",
       "      <td>NaN</td>\n",
       "      <td>14.00</td>\n",
       "      <td>8</td>\n",
       "      <td>False</td>\n",
       "      <td>...</td>\n",
       "      <td>15.50</td>\n",
       "      <td>2</td>\n",
       "      <td>Санкт-Петербург</td>\n",
       "      <td>8426.0</td>\n",
       "      <td>12082.0</td>\n",
       "      <td>2.0</td>\n",
       "      <td>24.0</td>\n",
       "      <td>1.0</td>\n",
       "      <td>271.0</td>\n",
       "      <td>246</td>\n",
       "    </tr>\n",
       "  </tbody>\n",
       "</table>\n",
       "<p>86 rows × 22 columns</p>\n",
       "</div>"
      ],
      "text/plain": [
       "       total_images  last_price  total_area first_day_exposition  rooms  \\\n",
       "186              12    11640000        65.2           2018-10-02      2   \n",
       "237               4     2438033        28.1           2016-11-23      1   \n",
       "457               4     9788348        70.8           2015-08-01      2   \n",
       "671               4     6051191        93.6           2017-04-06      3   \n",
       "1757              5     3600000        39.0           2017-04-22      1   \n",
       "...             ...         ...         ...                  ...    ...   \n",
       "22542             5     8500000        63.5           2017-05-24      2   \n",
       "22656             4     4574160        64.5           2017-04-02      2   \n",
       "22808             0    14569263       110.4           2016-11-20      3   \n",
       "23590             0    21187872       123.3           2017-04-25      3   \n",
       "23658             6     3063600        43.8           2016-11-28      1   \n",
       "\n",
       "       ceiling_height  floors_total  living_area  floor  is_apartment  ...  \\\n",
       "186               NaN           NaN        30.80      4         False  ...   \n",
       "237               NaN           NaN        20.75      1         False  ...   \n",
       "457               NaN           NaN        38.40     12         False  ...   \n",
       "671               NaN           NaN        47.10      8         False  ...   \n",
       "1757              NaN           NaN          NaN      9         False  ...   \n",
       "...               ...           ...          ...    ...           ...  ...   \n",
       "22542             2.8           NaN          NaN      3         False  ...   \n",
       "22656             NaN           NaN        31.70     20         False  ...   \n",
       "22808             NaN           NaN        45.38      6         False  ...   \n",
       "23590             NaN           NaN        50.40     18         False  ...   \n",
       "23658             2.7           NaN        14.00      8         False  ...   \n",
       "\n",
       "       kitchen_area  balcony    locality_name  airports_nearest  \\\n",
       "186           12.00        0  Санкт-Петербург           39197.0   \n",
       "237             NaN        0  Санкт-Петербург           22041.0   \n",
       "457           10.63        0  Санкт-Петербург           37364.0   \n",
       "671           16.80        0  Санкт-Петербург           22041.0   \n",
       "1757            NaN        0  Санкт-Петербург           22735.0   \n",
       "...             ...      ...              ...               ...   \n",
       "22542           NaN        0  Санкт-Петербург           51340.0   \n",
       "22656         14.40        0  Санкт-Петербург           22041.0   \n",
       "22808         23.42        0  Санкт-Петербург           19095.0   \n",
       "23590         23.60        0  Санкт-Петербург           19095.0   \n",
       "23658         15.50        2  Санкт-Петербург            8426.0   \n",
       "\n",
       "      cityCenters_nearest  parks_around3000  parks_nearest  ponds_around3000  \\\n",
       "186               12373.0               1.0          123.0               0.0   \n",
       "237               17369.0               0.0            NaN               1.0   \n",
       "457                8322.0               2.0          309.0               2.0   \n",
       "671               17369.0               0.0            NaN               1.0   \n",
       "1757              11618.0               1.0          835.0               1.0   \n",
       "...                   ...               ...            ...               ...   \n",
       "22542             15363.0               0.0            NaN               1.0   \n",
       "22656             17369.0               0.0            NaN               1.0   \n",
       "22808              4529.0               0.0            NaN               0.0   \n",
       "23590              4529.0               0.0            NaN               0.0   \n",
       "23658             12082.0               2.0           24.0               1.0   \n",
       "\n",
       "       ponds_nearest  days_exposition  \n",
       "186              NaN               49  \n",
       "237            374.0              251  \n",
       "457            706.0              727  \n",
       "671            374.0              123  \n",
       "1757           652.0               77  \n",
       "...              ...              ...  \n",
       "22542          853.0              512  \n",
       "22656          374.0              127  \n",
       "22808            NaN              260  \n",
       "23590            NaN              104  \n",
       "23658          271.0              246  \n",
       "\n",
       "[86 rows x 22 columns]"
      ]
     },
     "execution_count": 12,
     "metadata": {},
     "output_type": "execute_result"
    }
   ],
   "source": [
    "#посмотрим данные с пропущенными значениями в floors_total- ничего общего между ними нет, оставим как есть\n",
    "data[data['floors_total'].isna()]"
   ]
  },
  {
   "cell_type": "code",
   "execution_count": 13,
   "metadata": {},
   "outputs": [],
   "source": [
    "# функция, получающая на вход название признака, и возвращающая число пропущенных значений\n",
    "def print_nan_ratio(column):\n",
    "    return print('Пропущено {:.1%}'. format(data[column].isna().value_counts()[1] / len(data), 2) + ' значений')"
   ]
  },
  {
   "cell_type": "code",
   "execution_count": 14,
   "metadata": {},
   "outputs": [
    {
     "name": "stdout",
     "output_type": "stream",
     "text": [
      "Пропущено 38.8% значений\n"
     ]
    },
    {
     "data": {
      "text/html": [
       "<div>\n",
       "<style scoped>\n",
       "    .dataframe tbody tr th:only-of-type {\n",
       "        vertical-align: middle;\n",
       "    }\n",
       "\n",
       "    .dataframe tbody tr th {\n",
       "        vertical-align: top;\n",
       "    }\n",
       "\n",
       "    .dataframe thead th {\n",
       "        text-align: right;\n",
       "    }\n",
       "</style>\n",
       "<table border=\"1\" class=\"dataframe\">\n",
       "  <thead>\n",
       "    <tr style=\"text-align: right;\">\n",
       "      <th></th>\n",
       "      <th>median</th>\n",
       "      <th>count</th>\n",
       "    </tr>\n",
       "    <tr>\n",
       "      <th>floors_total</th>\n",
       "      <th></th>\n",
       "      <th></th>\n",
       "    </tr>\n",
       "  </thead>\n",
       "  <tbody>\n",
       "    <tr>\n",
       "      <td>1.0</td>\n",
       "      <td>2.80</td>\n",
       "      <td>10</td>\n",
       "    </tr>\n",
       "    <tr>\n",
       "      <td>2.0</td>\n",
       "      <td>2.70</td>\n",
       "      <td>215</td>\n",
       "    </tr>\n",
       "    <tr>\n",
       "      <td>3.0</td>\n",
       "      <td>2.80</td>\n",
       "      <td>399</td>\n",
       "    </tr>\n",
       "    <tr>\n",
       "      <td>4.0</td>\n",
       "      <td>3.00</td>\n",
       "      <td>789</td>\n",
       "    </tr>\n",
       "    <tr>\n",
       "      <td>5.0</td>\n",
       "      <td>2.55</td>\n",
       "      <td>3666</td>\n",
       "    </tr>\n",
       "  </tbody>\n",
       "</table>\n",
       "</div>"
      ],
      "text/plain": [
       "              median  count\n",
       "floors_total               \n",
       "1.0             2.80     10\n",
       "2.0             2.70    215\n",
       "3.0             2.80    399\n",
       "4.0             3.00    789\n",
       "5.0             2.55   3666"
      ]
     },
     "execution_count": 14,
     "metadata": {},
     "output_type": "execute_result"
    }
   ],
   "source": [
    "print_nan_ratio('ceiling_height')\n",
    "ceiling_medians = data.pivot_table(index='floors_total', values='ceiling_height', aggfunc=['median', 'count'])\n",
    "ceiling_medians.columns = ['median', 'count']\n",
    "ceiling_medians.head()"
   ]
  },
  {
   "cell_type": "code",
   "execution_count": 15,
   "metadata": {},
   "outputs": [],
   "source": [
    "# заменяем значения высоты потолков на общую медиану для отсутствующих значений этажности дома\n",
    "for floor in ceiling_medians.index:\n",
    "    data.loc[(data['floors_total'].isna()) | \n",
    "             ((data['floors_total'] == floor) & (ceiling_medians.loc[floor, 'count'] == 0)), \n",
    "             'ceiling_height'] = data['ceiling_height'].describe()[5]"
   ]
  },
  {
   "cell_type": "code",
   "execution_count": 16,
   "metadata": {},
   "outputs": [],
   "source": [
    "# медианы из сгруппированной таблицы вставляем на места пропущенных значений высоты потолков для дома соответствующей этажности\n",
    "for floor in ceiling_medians.index:\n",
    "    data.loc[(data['ceiling_height'].isna()) & \n",
    "             (data['floors_total'] == floor), \n",
    "             'ceiling_height'] = ceiling_medians.loc[floor, 'median']"
   ]
  },
  {
   "cell_type": "code",
   "execution_count": 17,
   "metadata": {},
   "outputs": [
    {
     "data": {
      "text/plain": [
       "False    23699\n",
       "Name: ceiling_height, dtype: int64"
      ]
     },
     "execution_count": 17,
     "metadata": {},
     "output_type": "execute_result"
    }
   ],
   "source": [
    "# посчитаем количество пропущенных значений после проделанной замены\n",
    "data['ceiling_height'].isna().value_counts()"
   ]
  },
  {
   "cell_type": "code",
   "execution_count": 18,
   "metadata": {},
   "outputs": [
    {
     "name": "stdout",
     "output_type": "stream",
     "text": [
      "Пропущено 0.4% значений\n"
     ]
    }
   ],
   "source": [
    "# посчитаем количество пропущенных значений \n",
    "print_nan_ratio('floors_total')\n",
    "data.dropna(subset=['floors_total'], inplace=True)"
   ]
  },
  {
   "cell_type": "code",
   "execution_count": 19,
   "metadata": {},
   "outputs": [],
   "source": [
    "data['floors_total'] = data['floors_total'].fillna(0).astype('int')"
   ]
  },
  {
   "cell_type": "code",
   "execution_count": 20,
   "metadata": {},
   "outputs": [
    {
     "name": "stdout",
     "output_type": "stream",
     "text": [
      "Пропущено 0.2% значений\n"
     ]
    }
   ],
   "source": [
    "print_nan_ratio('locality_name')\n",
    "data.dropna(subset=['locality_name'], inplace=True)"
   ]
  },
  {
   "cell_type": "code",
   "execution_count": 21,
   "metadata": {},
   "outputs": [],
   "source": [
    "data['locality_name'] = data['locality_name'].fillna('NaN')"
   ]
  },
  {
   "cell_type": "markdown",
   "metadata": {},
   "source": [
    "## Расчёты и добавление результатов в таблицу"
   ]
  },
  {
   "cell_type": "markdown",
   "metadata": {},
   "source": [
    "Необходимо подсчитать и добавить в таблицу такие параметры как:\n",
    "* цену квадратного метра;\n",
    "* день недели, месяц и год публикации объявления;\n",
    "* этаж квартиры; варианты — первый, последний, другой;\n",
    "* соотношение жилой и общей площади, а также отношение площади кухни к общей."
   ]
  },
  {
   "cell_type": "code",
   "execution_count": 22,
   "metadata": {},
   "outputs": [],
   "source": [
    "#посчитаем цену квадратного метра и приведем его к типо int\n",
    "data['price_per_square_meter'] = data['last_price'] / data['total_area']\n",
    "data['price_per_square_meter'] = data['price_per_square_meter'].astype('int')"
   ]
  },
  {
   "cell_type": "code",
   "execution_count": 23,
   "metadata": {},
   "outputs": [],
   "source": [
    "#создаю столбец дня недели\n",
    "data['weekday_exposition'] = data['first_day_exposition'].dt.weekday\n",
    "\n",
    "#создаю столбец месяца\n",
    "data['month_exposition'] = data['first_day_exposition'].dt.month\n",
    "\n",
    "#создаю столбец года\n",
    "data['year_exposition'] = data['first_day_exposition'].dt.year"
   ]
  },
  {
   "cell_type": "code",
   "execution_count": 24,
   "metadata": {},
   "outputs": [],
   "source": [
    "#напишем функцию категоризации по этажам, используя метод apply применимо к каждой строке датафрейма через axis = 1\n",
    "def floor_category(row):\n",
    "    floors_total = row['floors_total']\n",
    "    floor = row['floor']\n",
    "    if floor == 1:\n",
    "        return 'первый'\n",
    "    elif floor == floors_total:\n",
    "        return 'последний'\n",
    "    elif 1 < floor < floors_total:\n",
    "        return 'другой'\n",
    "\n",
    "#категоризуем этажи с помощью функции  \n",
    "data['floor_category'] = data.apply(floor_category, axis = 1)"
   ]
  },
  {
   "cell_type": "code",
   "execution_count": 25,
   "metadata": {},
   "outputs": [],
   "source": [
    "#добавим столбец соотношения жилой плозади к общей\n",
    "data['useful_area_ratio'] = data['living_area'] / data['total_area']\n",
    "\n",
    "#добавим столбец отношения площади кухни к общей\n",
    "data['kitchen_area_ratio'] = data['kitchen_area'] / data['total_area']"
   ]
  },
  {
   "cell_type": "markdown",
   "metadata": {},
   "source": [
    "## Исследовательский анализ данных"
   ]
  },
  {
   "cell_type": "markdown",
   "metadata": {},
   "source": [
    "**Проведем исследовательский анализ данных.**\n",
    "\n",
    "**1) Изучим следующие параметры: площадь, цена, число комнат, высота потолков. Построем гистограммы для каждого параметра.**"
   ]
  },
  {
   "cell_type": "code",
   "execution_count": 26,
   "metadata": {},
   "outputs": [
    {
     "data": {
      "text/html": [
       "<div>\n",
       "<style scoped>\n",
       "    .dataframe tbody tr th:only-of-type {\n",
       "        vertical-align: middle;\n",
       "    }\n",
       "\n",
       "    .dataframe tbody tr th {\n",
       "        vertical-align: top;\n",
       "    }\n",
       "\n",
       "    .dataframe thead th {\n",
       "        text-align: right;\n",
       "    }\n",
       "</style>\n",
       "<table border=\"1\" class=\"dataframe\">\n",
       "  <thead>\n",
       "    <tr style=\"text-align: right;\">\n",
       "      <th></th>\n",
       "      <th>total_area</th>\n",
       "      <th>last_price</th>\n",
       "      <th>rooms</th>\n",
       "      <th>ceiling_height</th>\n",
       "    </tr>\n",
       "  </thead>\n",
       "  <tbody>\n",
       "    <tr>\n",
       "      <td>count</td>\n",
       "      <td>23565.000000</td>\n",
       "      <td>2.356500e+04</td>\n",
       "      <td>23565.000000</td>\n",
       "      <td>23565.000000</td>\n",
       "    </tr>\n",
       "    <tr>\n",
       "      <td>mean</td>\n",
       "      <td>60.322824</td>\n",
       "      <td>6.540058e+06</td>\n",
       "      <td>2.070656</td>\n",
       "      <td>2.735737</td>\n",
       "    </tr>\n",
       "    <tr>\n",
       "      <td>std</td>\n",
       "      <td>35.657060</td>\n",
       "      <td>1.091093e+07</td>\n",
       "      <td>1.078591</td>\n",
       "      <td>0.996999</td>\n",
       "    </tr>\n",
       "    <tr>\n",
       "      <td>min</td>\n",
       "      <td>12.000000</td>\n",
       "      <td>1.219000e+04</td>\n",
       "      <td>0.000000</td>\n",
       "      <td>1.000000</td>\n",
       "    </tr>\n",
       "    <tr>\n",
       "      <td>25%</td>\n",
       "      <td>40.000000</td>\n",
       "      <td>3.400000e+06</td>\n",
       "      <td>1.000000</td>\n",
       "      <td>2.550000</td>\n",
       "    </tr>\n",
       "    <tr>\n",
       "      <td>50%</td>\n",
       "      <td>52.000000</td>\n",
       "      <td>4.646000e+06</td>\n",
       "      <td>2.000000</td>\n",
       "      <td>2.650000</td>\n",
       "    </tr>\n",
       "    <tr>\n",
       "      <td>75%</td>\n",
       "      <td>69.700000</td>\n",
       "      <td>6.790000e+06</td>\n",
       "      <td>3.000000</td>\n",
       "      <td>2.750000</td>\n",
       "    </tr>\n",
       "    <tr>\n",
       "      <td>max</td>\n",
       "      <td>900.000000</td>\n",
       "      <td>7.630000e+08</td>\n",
       "      <td>19.000000</td>\n",
       "      <td>100.000000</td>\n",
       "    </tr>\n",
       "  </tbody>\n",
       "</table>\n",
       "</div>"
      ],
      "text/plain": [
       "         total_area    last_price         rooms  ceiling_height\n",
       "count  23565.000000  2.356500e+04  23565.000000    23565.000000\n",
       "mean      60.322824  6.540058e+06      2.070656        2.735737\n",
       "std       35.657060  1.091093e+07      1.078591        0.996999\n",
       "min       12.000000  1.219000e+04      0.000000        1.000000\n",
       "25%       40.000000  3.400000e+06      1.000000        2.550000\n",
       "50%       52.000000  4.646000e+06      2.000000        2.650000\n",
       "75%       69.700000  6.790000e+06      3.000000        2.750000\n",
       "max      900.000000  7.630000e+08     19.000000      100.000000"
      ]
     },
     "execution_count": 26,
     "metadata": {},
     "output_type": "execute_result"
    }
   ],
   "source": [
    "data[['total_area', 'last_price', 'rooms', 'ceiling_height']].describe()"
   ]
  },
  {
   "cell_type": "markdown",
   "metadata": {},
   "source": [
    "**Предварительный анализ дал следующее:**\n",
    "\n",
    "по площади есть как квартира 12 кв.м., так и 900 кв.м. Но среднее значение выглядит более здравым;\n",
    "по цене за квартиру - есть варианты и за 12 тысяч рублей, есть за 763 млн, любой покупатель найдет свой вариант;\n",
    "число комнат - от 0 (студия) до 19. Возможно, это общежития или нежилые помещения;\n",
    "высота потолков - от 1 до 100 метров."
   ]
  },
  {
   "cell_type": "code",
   "execution_count": 27,
   "metadata": {},
   "outputs": [
    {
     "data": {
      "image/png": "[encoded data removed]",
      "text/plain": [
       "<Figure size 3600x1800 with 4 Axes>"
      ]
     },
     "metadata": {
      "needs_background": "light"
     },
     "output_type": "display_data"
    }
   ],
   "source": [
    "#определим выбросы по каждому из набора данных\n",
    "import matplotlib.pyplot as plt\n",
    "rows = 2\n",
    "cols = 2\n",
    "fig, axes = plt.subplots(rows, cols, figsize=(50,25))\n",
    "column_list = ['total_area', 'last_price', 'rooms', 'ceiling_height']\n",
    "ylims = [600, 13000, 10, 5]\n",
    "count = 0\n",
    "for r in range(rows):\n",
    "    for c in range(cols):\n",
    "        ax = data.boxplot(column=column_list[count], ax=axes[r,c], fontsize=40)\n",
    "        ax.set_ylim([0, ylims[count]])\n",
    "        count += 1"
   ]
  },
  {
   "cell_type": "markdown",
   "metadata": {},
   "source": [
    "**Определяем границы:**\n",
    "\n",
    "- total_area - 20-120 кв.м.;\n",
    "- last_price - 0-12 млн р.;\n",
    "- rooms - 0-6 комнат;\n",
    "- ceiling_height - 2,4-3,25м."
   ]
  },
  {
   "cell_type": "code",
   "execution_count": 28,
   "metadata": {},
   "outputs": [
    {
     "data": {
      "text/plain": [
       "count    23565.000000\n",
       "mean        60.322824\n",
       "std         35.657060\n",
       "min         12.000000\n",
       "25%         40.000000\n",
       "50%         52.000000\n",
       "75%         69.700000\n",
       "max        900.000000\n",
       "Name: total_area, dtype: float64"
      ]
     },
     "execution_count": 28,
     "metadata": {},
     "output_type": "execute_result"
    },
    {
     "data": {
      "image/png": "[encoded data removed]",
      "text/plain": [
       "<Figure size 360x216 with 1 Axes>"
      ]
     },
     "metadata": {
      "needs_background": "light"
     },
     "output_type": "display_data"
    }
   ],
   "source": [
    "#Изучим общую площадь\n",
    "data.plot(y = 'total_area', kind = 'hist', bins = 100, grid=True, figsize = (5,3), range = (0,500))\n",
    "data['total_area'].describe()\n",
    "#распределение данных в целом нормальное, есть некторые выбросы, но они в целом не портят общую картину"
   ]
  },
  {
   "cell_type": "code",
   "execution_count": 29,
   "metadata": {},
   "outputs": [
    {
     "data": {
      "text/plain": [
       "count    2.356500e+04\n",
       "mean     6.540058e+06\n",
       "std      1.091093e+07\n",
       "min      1.219000e+04\n",
       "25%      3.400000e+06\n",
       "50%      4.646000e+06\n",
       "75%      6.790000e+06\n",
       "max      7.630000e+08\n",
       "Name: last_price, dtype: float64"
      ]
     },
     "execution_count": 29,
     "metadata": {},
     "output_type": "execute_result"
    },
    {
     "data": {
      "image/png": "[encoded data removed]",
      "text/plain": [
       "<Figure size 360x216 with 1 Axes>"
      ]
     },
     "metadata": {
      "needs_background": "light"
     },
     "output_type": "display_data"
    }
   ],
   "source": [
    "#Изучим цену\n",
    "#data['last_price'] = data['last_price']/1000000\n",
    "data.plot(y = 'last_price', kind = 'hist', bins = 100, grid=True, range = (0,15000000), figsize = (5,3))\n",
    "data['last_price'].describe()\n",
    "#с данными все впорядке, но значения выводятся в экспоненциальной записи чисел\n",
    "# сейчас бы такие цены в Москве)"
   ]
  },
  {
   "cell_type": "code",
   "execution_count": 30,
   "metadata": {},
   "outputs": [
    {
     "data": {
      "text/plain": [
       "count    23565.000000\n",
       "mean         2.070656\n",
       "std          1.078591\n",
       "min          0.000000\n",
       "25%          1.000000\n",
       "50%          2.000000\n",
       "75%          3.000000\n",
       "max         19.000000\n",
       "Name: rooms, dtype: float64"
      ]
     },
     "execution_count": 30,
     "metadata": {},
     "output_type": "execute_result"
    },
    {
     "data": {
      "image/png": "[encoded data removed]",
      "text/plain": [
       "<Figure size 432x216 with 1 Axes>"
      ]
     },
     "metadata": {
      "needs_background": "light"
     },
     "output_type": "display_data"
    }
   ],
   "source": [
    "#Изучим число комнат\n",
    "data.plot(y = 'rooms', kind = 'hist', bins = 30, grid=True, figsize = (6,3))\n",
    "data['rooms'].describe()\n",
    "#с данными все впорядке"
   ]
  },
  {
   "cell_type": "code",
   "execution_count": 31,
   "metadata": {},
   "outputs": [
    {
     "data": {
      "text/plain": [
       "count    23565.000000\n",
       "mean         2.735737\n",
       "std          0.996999\n",
       "min          1.000000\n",
       "25%          2.550000\n",
       "50%          2.650000\n",
       "75%          2.750000\n",
       "max        100.000000\n",
       "Name: ceiling_height, dtype: float64"
      ]
     },
     "execution_count": 31,
     "metadata": {},
     "output_type": "execute_result"
    },
    {
     "data": {
      "image/png": "[encoded data removed]",
      "text/plain": [
       "<Figure size 360x216 with 1 Axes>"
      ]
     },
     "metadata": {
      "needs_background": "light"
     },
     "output_type": "display_data"
    }
   ],
   "source": [
    "#Изучим высоту потолков\n",
    "data.plot(y = 'ceiling_height', kind = 'hist', bins = 30, range = (2,5), grid=True, figsize = (5,3))\n",
    "data['ceiling_height'].describe()\n",
    "#с данными все впорядке"
   ]
  },
  {
   "cell_type": "markdown",
   "metadata": {},
   "source": [
    "**Вывод 1**\n",
    "* 1) Общая площадь в нашей выборке колеблется от 12 до 900 м2, среднее значение 60, а медиана 52 м2. Распределение данных Гаусса.\n",
    "\n",
    "* 2) Цены на недвижимость имеют среднее значение в 6,5 млн руб., медиана 4,6 млн руб. Распределение данных Гаусса.\n",
    "\n",
    "* 3) Количество комнат колеблется от 1 до 19. Больше всего однокомнатных квартир.\n",
    "\n",
    "* 4) Высота потолков в среднем составляет 2,77 м, медиана 2,65 м.\n",
    "\n",
    "Во всех данных есть неадекватные значения, наподобе 0 комнат, высоты потолков в 1 или 100 метров, а также цена квартиры в 12190 рублей. О данных неадекватных значениях мы спросим у сотрудников, предоставивших нам выборку данных, для общего изучения данных, мы не станем убирать эти выбивающиеся значения."
   ]
  },
  {
   "cell_type": "markdown",
   "metadata": {},
   "source": [
    "**Изучим время продажи квартиры. Построем гистограмму. Посчитаем среднее и медиану. Опишем, сколько обычно занимает продажа. Когда можно считать, что продажи прошли очень быстро, а когда необычно долго?**"
   ]
  },
  {
   "cell_type": "code",
   "execution_count": 32,
   "metadata": {},
   "outputs": [
    {
     "data": {
      "text/plain": [
       "count    20394.000000\n",
       "mean       180.741395\n",
       "std        219.732782\n",
       "min          1.000000\n",
       "25%         45.000000\n",
       "50%         95.000000\n",
       "75%        231.000000\n",
       "max       1580.000000\n",
       "Name: days_exposition, dtype: float64"
      ]
     },
     "execution_count": 32,
     "metadata": {},
     "output_type": "execute_result"
    },
    {
     "data": {
      "image/png": "[encoded data removed]",
      "text/plain": [
       "<Figure size 432x288 with 1 Axes>"
      ]
     },
     "metadata": {
      "needs_background": "light"
     },
     "output_type": "display_data"
    },
    {
     "data": {
      "image/png": "[encoded data removed]",
      "text/plain": [
       "<Figure size 432x288 with 1 Axes>"
      ]
     },
     "metadata": {
      "needs_background": "light"
     },
     "output_type": "display_data"
    },
    {
     "data": {
      "image/png": "[encoded data removed]",
      "text/plain": [
       "<Figure size 432x288 with 1 Axes>"
      ]
     },
     "metadata": {
      "needs_background": "light"
     },
     "output_type": "display_data"
    }
   ],
   "source": [
    "#диаграмма размаха\n",
    "data.boxplot(column='days_exposition')\n",
    "\n",
    "data.plot(y = 'days_exposition', kind = 'hist', bins = 30, grid = True, range = (1,1600))\n",
    "data.plot(y = 'days_exposition', kind = 'hist', bins = 100, grid = True, range = (1,200))\n",
    "\n",
    "#среднее значение, медиана и межквартильный размах\n",
    "data[data['days_exposition']!=0]['days_exposition'].describe()\n",
    "#data[data['days_exposition']!=0]['days_exposition'].value_counts()"
   ]
  },
  {
   "cell_type": "markdown",
   "metadata": {},
   "source": [
    "**Вывод** \n",
    "\n",
    "Судя по гистограмме - мы имеем распределение Пуассона. Среднее значение - 180 дней, а медиана - 95 дней. Сделав гистограмму со значениями от 0 до 200 с кол-вом корзин 100, обнаружили выбивающиеся значения и методом value_counts убедились в этом - у нас аномалии на 45, 60, 7, 30, 90 днях - это наиболее популярное количество дней до снятия объявления.\n",
    "\n",
    "*Согласно правилам размещения объявлений в Яндекс Недвижимость, оказалось что именно после этих сроков объявление считается неактуальным и снимается автоматически. https://yandex.ru/support/realty/owner/home/add-ads-housing.html Наверное, нам нужно убрать эти значения из выборки, но нужно подумать есть ли еще критерии для снятия таких объявлений, ведь часть из таких квартир могла и правда продаться в этот срок.*"
   ]
  },
  {
   "cell_type": "code",
   "execution_count": 33,
   "metadata": {},
   "outputs": [
    {
     "data": {
      "text/html": [
       "<div>\n",
       "<style scoped>\n",
       "    .dataframe tbody tr th:only-of-type {\n",
       "        vertical-align: middle;\n",
       "    }\n",
       "\n",
       "    .dataframe tbody tr th {\n",
       "        vertical-align: top;\n",
       "    }\n",
       "\n",
       "    .dataframe thead th {\n",
       "        text-align: right;\n",
       "    }\n",
       "</style>\n",
       "<table border=\"1\" class=\"dataframe\">\n",
       "  <thead>\n",
       "    <tr style=\"text-align: right;\">\n",
       "      <th></th>\n",
       "      <th>total_images</th>\n",
       "      <th>last_price</th>\n",
       "      <th>total_area</th>\n",
       "      <th>first_day_exposition</th>\n",
       "      <th>rooms</th>\n",
       "      <th>ceiling_height</th>\n",
       "      <th>floors_total</th>\n",
       "      <th>living_area</th>\n",
       "      <th>floor</th>\n",
       "      <th>is_apartment</th>\n",
       "      <th>...</th>\n",
       "      <th>ponds_around3000</th>\n",
       "      <th>ponds_nearest</th>\n",
       "      <th>days_exposition</th>\n",
       "      <th>price_per_square_meter</th>\n",
       "      <th>weekday_exposition</th>\n",
       "      <th>month_exposition</th>\n",
       "      <th>year_exposition</th>\n",
       "      <th>floor_category</th>\n",
       "      <th>useful_area_ratio</th>\n",
       "      <th>kitchen_area_ratio</th>\n",
       "    </tr>\n",
       "  </thead>\n",
       "  <tbody>\n",
       "    <tr>\n",
       "      <td>78</td>\n",
       "      <td>9</td>\n",
       "      <td>4350000</td>\n",
       "      <td>37.0</td>\n",
       "      <td>2018-02-22</td>\n",
       "      <td>1</td>\n",
       "      <td>2.75</td>\n",
       "      <td>19</td>\n",
       "      <td>18.0</td>\n",
       "      <td>6</td>\n",
       "      <td>False</td>\n",
       "      <td>...</td>\n",
       "      <td>0.0</td>\n",
       "      <td>NaN</td>\n",
       "      <td>45</td>\n",
       "      <td>117567</td>\n",
       "      <td>3</td>\n",
       "      <td>2</td>\n",
       "      <td>2018</td>\n",
       "      <td>другой</td>\n",
       "      <td>0.486486</td>\n",
       "      <td>0.289189</td>\n",
       "    </tr>\n",
       "    <tr>\n",
       "      <td>89</td>\n",
       "      <td>9</td>\n",
       "      <td>2500000</td>\n",
       "      <td>63.0</td>\n",
       "      <td>2018-10-25</td>\n",
       "      <td>3</td>\n",
       "      <td>2.50</td>\n",
       "      <td>5</td>\n",
       "      <td>43.0</td>\n",
       "      <td>4</td>\n",
       "      <td>False</td>\n",
       "      <td>...</td>\n",
       "      <td>NaN</td>\n",
       "      <td>NaN</td>\n",
       "      <td>45</td>\n",
       "      <td>39682</td>\n",
       "      <td>3</td>\n",
       "      <td>10</td>\n",
       "      <td>2018</td>\n",
       "      <td>другой</td>\n",
       "      <td>0.682540</td>\n",
       "      <td>0.142857</td>\n",
       "    </tr>\n",
       "    <tr>\n",
       "      <td>110</td>\n",
       "      <td>6</td>\n",
       "      <td>3850000</td>\n",
       "      <td>72.3</td>\n",
       "      <td>2017-09-29</td>\n",
       "      <td>2</td>\n",
       "      <td>2.80</td>\n",
       "      <td>3</td>\n",
       "      <td>27.4</td>\n",
       "      <td>2</td>\n",
       "      <td>False</td>\n",
       "      <td>...</td>\n",
       "      <td>NaN</td>\n",
       "      <td>NaN</td>\n",
       "      <td>45</td>\n",
       "      <td>53250</td>\n",
       "      <td>4</td>\n",
       "      <td>9</td>\n",
       "      <td>2017</td>\n",
       "      <td>другой</td>\n",
       "      <td>0.378976</td>\n",
       "      <td>0.326418</td>\n",
       "    </tr>\n",
       "    <tr>\n",
       "      <td>153</td>\n",
       "      <td>12</td>\n",
       "      <td>4350000</td>\n",
       "      <td>55.0</td>\n",
       "      <td>2017-05-21</td>\n",
       "      <td>2</td>\n",
       "      <td>2.57</td>\n",
       "      <td>9</td>\n",
       "      <td>31.2</td>\n",
       "      <td>2</td>\n",
       "      <td>False</td>\n",
       "      <td>...</td>\n",
       "      <td>0.0</td>\n",
       "      <td>NaN</td>\n",
       "      <td>45</td>\n",
       "      <td>79090</td>\n",
       "      <td>6</td>\n",
       "      <td>5</td>\n",
       "      <td>2017</td>\n",
       "      <td>другой</td>\n",
       "      <td>0.567273</td>\n",
       "      <td>0.150909</td>\n",
       "    </tr>\n",
       "    <tr>\n",
       "      <td>158</td>\n",
       "      <td>15</td>\n",
       "      <td>3100000</td>\n",
       "      <td>47.3</td>\n",
       "      <td>2017-11-07</td>\n",
       "      <td>2</td>\n",
       "      <td>2.55</td>\n",
       "      <td>5</td>\n",
       "      <td>27.5</td>\n",
       "      <td>2</td>\n",
       "      <td>False</td>\n",
       "      <td>...</td>\n",
       "      <td>NaN</td>\n",
       "      <td>NaN</td>\n",
       "      <td>45</td>\n",
       "      <td>65539</td>\n",
       "      <td>1</td>\n",
       "      <td>11</td>\n",
       "      <td>2017</td>\n",
       "      <td>другой</td>\n",
       "      <td>0.581395</td>\n",
       "      <td>0.179704</td>\n",
       "    </tr>\n",
       "    <tr>\n",
       "      <td>...</td>\n",
       "      <td>...</td>\n",
       "      <td>...</td>\n",
       "      <td>...</td>\n",
       "      <td>...</td>\n",
       "      <td>...</td>\n",
       "      <td>...</td>\n",
       "      <td>...</td>\n",
       "      <td>...</td>\n",
       "      <td>...</td>\n",
       "      <td>...</td>\n",
       "      <td>...</td>\n",
       "      <td>...</td>\n",
       "      <td>...</td>\n",
       "      <td>...</td>\n",
       "      <td>...</td>\n",
       "      <td>...</td>\n",
       "      <td>...</td>\n",
       "      <td>...</td>\n",
       "      <td>...</td>\n",
       "      <td>...</td>\n",
       "      <td>...</td>\n",
       "    </tr>\n",
       "    <tr>\n",
       "      <td>23601</td>\n",
       "      <td>10</td>\n",
       "      <td>2900000</td>\n",
       "      <td>43.4</td>\n",
       "      <td>2018-01-11</td>\n",
       "      <td>2</td>\n",
       "      <td>2.55</td>\n",
       "      <td>5</td>\n",
       "      <td>NaN</td>\n",
       "      <td>1</td>\n",
       "      <td>False</td>\n",
       "      <td>...</td>\n",
       "      <td>2.0</td>\n",
       "      <td>397.0</td>\n",
       "      <td>45</td>\n",
       "      <td>66820</td>\n",
       "      <td>3</td>\n",
       "      <td>1</td>\n",
       "      <td>2018</td>\n",
       "      <td>первый</td>\n",
       "      <td>NaN</td>\n",
       "      <td>NaN</td>\n",
       "    </tr>\n",
       "    <tr>\n",
       "      <td>23613</td>\n",
       "      <td>4</td>\n",
       "      <td>3950000</td>\n",
       "      <td>52.0</td>\n",
       "      <td>2018-03-04</td>\n",
       "      <td>3</td>\n",
       "      <td>2.55</td>\n",
       "      <td>5</td>\n",
       "      <td>NaN</td>\n",
       "      <td>2</td>\n",
       "      <td>False</td>\n",
       "      <td>...</td>\n",
       "      <td>0.0</td>\n",
       "      <td>NaN</td>\n",
       "      <td>45</td>\n",
       "      <td>75961</td>\n",
       "      <td>6</td>\n",
       "      <td>3</td>\n",
       "      <td>2018</td>\n",
       "      <td>другой</td>\n",
       "      <td>NaN</td>\n",
       "      <td>NaN</td>\n",
       "    </tr>\n",
       "    <tr>\n",
       "      <td>23670</td>\n",
       "      <td>9</td>\n",
       "      <td>2450000</td>\n",
       "      <td>45.6</td>\n",
       "      <td>2018-02-08</td>\n",
       "      <td>1</td>\n",
       "      <td>2.80</td>\n",
       "      <td>9</td>\n",
       "      <td>NaN</td>\n",
       "      <td>2</td>\n",
       "      <td>False</td>\n",
       "      <td>...</td>\n",
       "      <td>NaN</td>\n",
       "      <td>NaN</td>\n",
       "      <td>45</td>\n",
       "      <td>53728</td>\n",
       "      <td>3</td>\n",
       "      <td>2</td>\n",
       "      <td>2018</td>\n",
       "      <td>другой</td>\n",
       "      <td>NaN</td>\n",
       "      <td>NaN</td>\n",
       "    </tr>\n",
       "    <tr>\n",
       "      <td>23679</td>\n",
       "      <td>0</td>\n",
       "      <td>2500000</td>\n",
       "      <td>35.0</td>\n",
       "      <td>2017-12-08</td>\n",
       "      <td>1</td>\n",
       "      <td>2.55</td>\n",
       "      <td>9</td>\n",
       "      <td>NaN</td>\n",
       "      <td>4</td>\n",
       "      <td>False</td>\n",
       "      <td>...</td>\n",
       "      <td>NaN</td>\n",
       "      <td>NaN</td>\n",
       "      <td>45</td>\n",
       "      <td>71428</td>\n",
       "      <td>4</td>\n",
       "      <td>12</td>\n",
       "      <td>2017</td>\n",
       "      <td>другой</td>\n",
       "      <td>NaN</td>\n",
       "      <td>NaN</td>\n",
       "    </tr>\n",
       "    <tr>\n",
       "      <td>23695</td>\n",
       "      <td>14</td>\n",
       "      <td>3100000</td>\n",
       "      <td>59.0</td>\n",
       "      <td>2018-01-15</td>\n",
       "      <td>3</td>\n",
       "      <td>2.55</td>\n",
       "      <td>5</td>\n",
       "      <td>38.0</td>\n",
       "      <td>4</td>\n",
       "      <td>False</td>\n",
       "      <td>...</td>\n",
       "      <td>NaN</td>\n",
       "      <td>NaN</td>\n",
       "      <td>45</td>\n",
       "      <td>52542</td>\n",
       "      <td>0</td>\n",
       "      <td>1</td>\n",
       "      <td>2018</td>\n",
       "      <td>другой</td>\n",
       "      <td>0.644068</td>\n",
       "      <td>0.144068</td>\n",
       "    </tr>\n",
       "  </tbody>\n",
       "</table>\n",
       "<p>879 rows × 29 columns</p>\n",
       "</div>"
      ],
      "text/plain": [
       "       total_images  last_price  total_area first_day_exposition  rooms  \\\n",
       "78                9     4350000        37.0           2018-02-22      1   \n",
       "89                9     2500000        63.0           2018-10-25      3   \n",
       "110               6     3850000        72.3           2017-09-29      2   \n",
       "153              12     4350000        55.0           2017-05-21      2   \n",
       "158              15     3100000        47.3           2017-11-07      2   \n",
       "...             ...         ...         ...                  ...    ...   \n",
       "23601            10     2900000        43.4           2018-01-11      2   \n",
       "23613             4     3950000        52.0           2018-03-04      3   \n",
       "23670             9     2450000        45.6           2018-02-08      1   \n",
       "23679             0     2500000        35.0           2017-12-08      1   \n",
       "23695            14     3100000        59.0           2018-01-15      3   \n",
       "\n",
       "       ceiling_height  floors_total  living_area  floor  is_apartment  ...  \\\n",
       "78               2.75            19         18.0      6         False  ...   \n",
       "89               2.50             5         43.0      4         False  ...   \n",
       "110              2.80             3         27.4      2         False  ...   \n",
       "153              2.57             9         31.2      2         False  ...   \n",
       "158              2.55             5         27.5      2         False  ...   \n",
       "...               ...           ...          ...    ...           ...  ...   \n",
       "23601            2.55             5          NaN      1         False  ...   \n",
       "23613            2.55             5          NaN      2         False  ...   \n",
       "23670            2.80             9          NaN      2         False  ...   \n",
       "23679            2.55             9          NaN      4         False  ...   \n",
       "23695            2.55             5         38.0      4         False  ...   \n",
       "\n",
       "       ponds_around3000  ponds_nearest  days_exposition  \\\n",
       "78                  0.0            NaN               45   \n",
       "89                  NaN            NaN               45   \n",
       "110                 NaN            NaN               45   \n",
       "153                 0.0            NaN               45   \n",
       "158                 NaN            NaN               45   \n",
       "...                 ...            ...              ...   \n",
       "23601               2.0          397.0               45   \n",
       "23613               0.0            NaN               45   \n",
       "23670               NaN            NaN               45   \n",
       "23679               NaN            NaN               45   \n",
       "23695               NaN            NaN               45   \n",
       "\n",
       "       price_per_square_meter weekday_exposition  month_exposition  \\\n",
       "78                     117567                  3                 2   \n",
       "89                      39682                  3                10   \n",
       "110                     53250                  4                 9   \n",
       "153                     79090                  6                 5   \n",
       "158                     65539                  1                11   \n",
       "...                       ...                ...               ...   \n",
       "23601                   66820                  3                 1   \n",
       "23613                   75961                  6                 3   \n",
       "23670                   53728                  3                 2   \n",
       "23679                   71428                  4                12   \n",
       "23695                   52542                  0                 1   \n",
       "\n",
       "       year_exposition  floor_category  useful_area_ratio  kitchen_area_ratio  \n",
       "78                2018          другой           0.486486            0.289189  \n",
       "89                2018          другой           0.682540            0.142857  \n",
       "110               2017          другой           0.378976            0.326418  \n",
       "153               2017          другой           0.567273            0.150909  \n",
       "158               2017          другой           0.581395            0.179704  \n",
       "...                ...             ...                ...                 ...  \n",
       "23601             2018          первый                NaN                 NaN  \n",
       "23613             2018          другой                NaN                 NaN  \n",
       "23670             2018          другой                NaN                 NaN  \n",
       "23679             2017          другой                NaN                 NaN  \n",
       "23695             2018          другой           0.644068            0.144068  \n",
       "\n",
       "[879 rows x 29 columns]"
      ]
     },
     "execution_count": 33,
     "metadata": {},
     "output_type": "execute_result"
    }
   ],
   "source": [
    "data[data['days_exposition']==45]"
   ]
  },
  {
   "cell_type": "markdown",
   "metadata": {},
   "source": [
    "**Вывод**\n",
    "\n",
    "Никаких общих особенностей в обьявлениях, снятых через 45 дней не выявлено, потому будем убирать эти данные из наших расчетов, как и данные с 60, 90, 30 и 7 дней в столбце days_exposition, так как это аномалии.\n",
    "\n",
    "До того, как мы очистим наши данные от аномалий, нам нужно дать ответ на вопрос, какое количество дней считать нормальным, а какое выбросом на текущий момент до очистки данных. Исходя из метода describe, межквартильный размах - от 45 до 232 дней, исходя же из метода boxplot - диаграмма размаха у нас от минимального значения до примерно 500 дней. Значит необоснованно быстрых значений у нас нет, а необоснованно долгие - от 500 дней и выше. Значит нормальные значения у нас лежат от 1 до 500.\n",
    "\n",
    "На текущий момент мы уже знаем, что эти данные неправильные, но они нам нужны, чтобы сравнить с данными, очищенными от аномалий далее."
   ]
  },
  {
   "cell_type": "markdown",
   "metadata": {},
   "source": [
    "**Теперь необходимо убрать редкие и выбивающиеся значения. Нужно описать, какие особенности обнаружили.**"
   ]
  },
  {
   "cell_type": "code",
   "execution_count": 34,
   "metadata": {},
   "outputs": [],
   "source": [
    "#отфильтруем данные от аномалий и запишем их в новый датафрейм good_data\n",
    "good_data = data.query('days_exposition != 45 and days_exposition != 30 and days_exposition != 60 and days_exposition != 90 and days_exposition != 7')"
   ]
  },
  {
   "cell_type": "markdown",
   "metadata": {},
   "source": [
    "- good_data = good_data[good_data['total_area'] >= 20]\n",
    "- good_data = good_data[good_data['total_area'] <= 120]\n",
    "- good_data = good_data[good_data['last_price'] <= 12000]\n",
    "- good_data = good_data[good_data['rooms'] <= 6]\n",
    "- good_data = good_data[good_data['ceiling_height'] >= 2.4]\n",
    "- good_data = good_data[good_data['ceiling_height'] <= 3.25]"
   ]
  },
  {
   "cell_type": "code",
   "execution_count": 35,
   "metadata": {},
   "outputs": [
    {
     "data": {
      "text/plain": [
       "(1, 1000)"
      ]
     },
     "execution_count": 35,
     "metadata": {},
     "output_type": "execute_result"
    },
    {
     "data": {
      "image/png": "[encoded data removed]",
      "text/plain": [
       "<Figure size 432x288 with 1 Axes>"
      ]
     },
     "metadata": {
      "needs_background": "light"
     },
     "output_type": "display_data"
    }
   ],
   "source": [
    "#диаграмма размаха\n",
    "import matplotlib.pyplot as plt\n",
    "plt.boxplot(good_data['days_exposition'])\n",
    "plt.ylim(1,1000)"
   ]
  },
  {
   "cell_type": "code",
   "execution_count": 36,
   "metadata": {},
   "outputs": [
    {
     "data": {
      "text/plain": [
       "<matplotlib.axes._subplots.AxesSubplot at 0x7f9c307b64d0>"
      ]
     },
     "execution_count": 36,
     "metadata": {},
     "output_type": "execute_result"
    },
    {
     "data": {
      "image/png": "[encoded data removed]",
      "text/plain": [
       "<Figure size 432x288 with 1 Axes>"
      ]
     },
     "metadata": {
      "needs_background": "light"
     },
     "output_type": "display_data"
    },
    {
     "data": {
      "image/png": "[encoded data removed]",
      "text/plain": [
       "<Figure size 432x288 with 1 Axes>"
      ]
     },
     "metadata": {
      "needs_background": "light"
     },
     "output_type": "display_data"
    }
   ],
   "source": [
    "#гистограммы\n",
    "good_data.plot(y = 'days_exposition', kind = 'hist', bins = 30, grid = True, range = (1,1600))\n",
    "good_data.plot(y = 'days_exposition', kind = 'hist', bins = 100, grid = True, range = (1,200))"
   ]
  },
  {
   "cell_type": "code",
   "execution_count": 37,
   "metadata": {},
   "outputs": [
    {
     "data": {
      "text/plain": [
       "count    21506.000000\n",
       "mean       166.852367\n",
       "std        220.606491\n",
       "min          0.000000\n",
       "25%         20.000000\n",
       "50%         86.000000\n",
       "75%        218.000000\n",
       "max       1580.000000\n",
       "Name: days_exposition, dtype: float64"
      ]
     },
     "execution_count": 37,
     "metadata": {},
     "output_type": "execute_result"
    }
   ],
   "source": [
    "#среднее значение, медиана и межквартильный размах\n",
    "#good_data['days_exposition'].value_counts()\n",
    "good_data['days_exposition'].describe()"
   ]
  },
  {
   "cell_type": "markdown",
   "metadata": {},
   "source": [
    "**Вывод**\n",
    "Что и следовало ожидать, в очищенных данных с аномалиями в значениях меньших медианы получаем меньшие значения медианы и среднего значения - 86 и 167 соответственно, вместо 95 и 180. Также теперь нормальные значения располагаются от 1 до 600 дней вместо от 1 до 500 дней."
   ]
  },
  {
   "cell_type": "markdown",
   "metadata": {},
   "source": [
    "**Далее нам необходимо ответить на вопрос:** *Какие факторы больше всего влияют на стоимость квартиры? Изучите, зависит ли цена от площади, числа комнат, удалённости от центра. Изучите зависимость цены от того, на каком этаже расположена квартира: первом, последнем или другом. Также изучите зависимость от даты размещения: дня недели, месяца и года.*"
   ]
  },
  {
   "cell_type": "markdown",
   "metadata": {},
   "source": [
    "**Изучим зависимость цены квадратного метра от общей площади квартиры.**"
   ]
  },
  {
   "cell_type": "code",
   "execution_count": 38,
   "metadata": {},
   "outputs": [
    {
     "data": {
      "text/plain": [
       "0.3025705855894221"
      ]
     },
     "execution_count": 38,
     "metadata": {},
     "output_type": "execute_result"
    },
    {
     "data": {
      "image/png": "[encoded data removed]",
      "text/plain": [
       "<Figure size 432x288 with 1 Axes>"
      ]
     },
     "metadata": {
      "needs_background": "light"
     },
     "output_type": "display_data"
    }
   ],
   "source": [
    "pivot_table_total_area = data.pivot_table(index = 'total_area', values = 'price_per_square_meter', aggfunc = ['mean', 'count', 'median'])\n",
    "pivot_table_total_area.columns = ['mean', 'count', 'median']\n",
    "pivot_table_total_area.plot(y = 'median', style = 'o')\n",
    "\n",
    "pivot_table_total_area.sort_values('median', ascending = False)\n",
    "\n",
    "data['total_area'].corr(data['price_per_square_meter'])"
   ]
  },
  {
   "cell_type": "markdown",
   "metadata": {},
   "source": [
    "**Вывод** \n",
    "Можно увидеть, что зависимость очень слабая - согласно корреляции Пирсона - 0.3! То есть, чем больше площадь тем немного выше стоимость! И действительно большая площадь, это не гарантия того, что недвижимость должна стоить дороже, есть куда больше ключевых факторов."
   ]
  },
  {
   "cell_type": "markdown",
   "metadata": {},
   "source": [
    "**Изучим зависимость цены квадратного метра от числа комнат.**"
   ]
  },
  {
   "cell_type": "code",
   "execution_count": 39,
   "metadata": {},
   "outputs": [
    {
     "data": {
      "text/plain": [
       "0.055679781492603664"
      ]
     },
     "execution_count": 39,
     "metadata": {},
     "output_type": "execute_result"
    },
    {
     "data": {
      "image/png": "[encoded data removed]",
      "text/plain": [
       "<Figure size 432x288 with 1 Axes>"
      ]
     },
     "metadata": {
      "needs_background": "light"
     },
     "output_type": "display_data"
    }
   ],
   "source": [
    "pivot_table_rooms = data.pivot_table(index = 'rooms', values = 'price_per_square_meter', aggfunc = ['mean', 'count', 'median'])\n",
    "pivot_table_rooms.columns = ['mean', 'count', 'median']\n",
    "pivot_table_rooms.query('count > 50').plot(y = 'median')\n",
    "\n",
    "pivot_table_rooms.query('count > 50').sort_values('median', ascending = False)\n",
    "\n",
    "data['rooms'].corr(data['price_per_square_meter'])"
   ]
  },
  {
   "cell_type": "markdown",
   "metadata": {},
   "source": [
    "**Вывод** чем ближе количество комнат к 3, тем ниже стоимость квадратного метра."
   ]
  },
  {
   "cell_type": "markdown",
   "metadata": {},
   "source": [
    "**Изучим зависимость цены квадратного метра от этажа (первого или последнего).**"
   ]
  },
  {
   "cell_type": "code",
   "execution_count": 40,
   "metadata": {},
   "outputs": [
    {
     "data": {
      "text/html": [
       "<div>\n",
       "<style scoped>\n",
       "    .dataframe tbody tr th:only-of-type {\n",
       "        vertical-align: middle;\n",
       "    }\n",
       "\n",
       "    .dataframe tbody tr th {\n",
       "        vertical-align: top;\n",
       "    }\n",
       "\n",
       "    .dataframe thead th {\n",
       "        text-align: right;\n",
       "    }\n",
       "</style>\n",
       "<table border=\"1\" class=\"dataframe\">\n",
       "  <thead>\n",
       "    <tr style=\"text-align: right;\">\n",
       "      <th></th>\n",
       "      <th>mean</th>\n",
       "      <th>count</th>\n",
       "      <th>median</th>\n",
       "    </tr>\n",
       "    <tr>\n",
       "      <th>floor_category</th>\n",
       "      <th></th>\n",
       "      <th></th>\n",
       "      <th></th>\n",
       "    </tr>\n",
       "  </thead>\n",
       "  <tbody>\n",
       "    <tr>\n",
       "      <td>первый</td>\n",
       "      <td>82001.162943</td>\n",
       "      <td>2909</td>\n",
       "      <td>81250</td>\n",
       "    </tr>\n",
       "    <tr>\n",
       "      <td>последний</td>\n",
       "      <td>93378.509009</td>\n",
       "      <td>3330</td>\n",
       "      <td>87763</td>\n",
       "    </tr>\n",
       "  </tbody>\n",
       "</table>\n",
       "</div>"
      ],
      "text/plain": [
       "                        mean  count  median\n",
       "floor_category                             \n",
       "первый          82001.162943   2909   81250\n",
       "последний       93378.509009   3330   87763"
      ]
     },
     "execution_count": 40,
     "metadata": {},
     "output_type": "execute_result"
    },
    {
     "data": {
      "image/png": "[encoded data removed]",
      "text/plain": [
       "<Figure size 432x288 with 1 Axes>"
      ]
     },
     "metadata": {
      "needs_background": "light"
     },
     "output_type": "display_data"
    }
   ],
   "source": [
    "pivot_table_floor_category = data.query('floor_category != \"другой\"').pivot_table(index = 'floor_category', values = 'price_per_square_meter', aggfunc = ['mean', 'count', 'median'])\n",
    "pivot_table_floor_category.columns = ['mean', 'count', 'median']\n",
    "pivot_table_floor_category.plot(y = 'median')\n",
    "pivot_table_floor_category"
   ]
  },
  {
   "cell_type": "markdown",
   "metadata": {},
   "source": [
    "**Вывод** В целом ожидаемо. что квартиры на первых этажах стоят дешевле, однако насколько я сам сталкивался тоже самое касается и квартир на последних этажах =("
   ]
  },
  {
   "cell_type": "markdown",
   "metadata": {},
   "source": [
    "**Изучим зависимость цены квадратного метра от удалённости от центра.**"
   ]
  },
  {
   "cell_type": "code",
   "execution_count": 41,
   "metadata": {},
   "outputs": [
    {
     "data": {
      "text/plain": [
       "-0.31759628115540994"
      ]
     },
     "execution_count": 41,
     "metadata": {},
     "output_type": "execute_result"
    },
    {
     "data": {
      "image/png": "[encoded data removed]",
      "text/plain": [
       "<Figure size 432x288 with 1 Axes>"
      ]
     },
     "metadata": {
      "needs_background": "light"
     },
     "output_type": "display_data"
    }
   ],
   "source": [
    "data.plot(kind = 'scatter', y = 'price_per_square_meter', x = 'cityCenters_nearest', alpha = 0.3)\n",
    "\n",
    "data['cityCenters_nearest'].corr(data['price_per_square_meter'])"
   ]
  },
  {
   "cell_type": "markdown",
   "metadata": {},
   "source": [
    "**Вывод** Видим явную зависимость стоимости квадратного метра от близости к центру! Чем ближе к центру, тем выше стоимость!"
   ]
  },
  {
   "cell_type": "markdown",
   "metadata": {},
   "source": [
    "**Изучим зависимость цены квадратного метра от даты размещения: дня недели.**"
   ]
  },
  {
   "cell_type": "code",
   "execution_count": 42,
   "metadata": {},
   "outputs": [
    {
     "data": {
      "text/html": [
       "<div>\n",
       "<style scoped>\n",
       "    .dataframe tbody tr th:only-of-type {\n",
       "        vertical-align: middle;\n",
       "    }\n",
       "\n",
       "    .dataframe tbody tr th {\n",
       "        vertical-align: top;\n",
       "    }\n",
       "\n",
       "    .dataframe thead th {\n",
       "        text-align: right;\n",
       "    }\n",
       "</style>\n",
       "<table border=\"1\" class=\"dataframe\">\n",
       "  <thead>\n",
       "    <tr style=\"text-align: right;\">\n",
       "      <th></th>\n",
       "      <th>mean</th>\n",
       "      <th>count</th>\n",
       "      <th>median</th>\n",
       "    </tr>\n",
       "    <tr>\n",
       "      <th>weekday_exposition</th>\n",
       "      <th></th>\n",
       "      <th></th>\n",
       "      <th></th>\n",
       "    </tr>\n",
       "  </thead>\n",
       "  <tbody>\n",
       "    <tr>\n",
       "      <td>1</td>\n",
       "      <td>99667.761951</td>\n",
       "      <td>4163</td>\n",
       "      <td>95567.0</td>\n",
       "    </tr>\n",
       "    <tr>\n",
       "      <td>2</td>\n",
       "      <td>99584.276596</td>\n",
       "      <td>3948</td>\n",
       "      <td>95473.0</td>\n",
       "    </tr>\n",
       "    <tr>\n",
       "      <td>3</td>\n",
       "      <td>100194.284144</td>\n",
       "      <td>4276</td>\n",
       "      <td>95132.0</td>\n",
       "    </tr>\n",
       "    <tr>\n",
       "      <td>0</td>\n",
       "      <td>99462.125139</td>\n",
       "      <td>3596</td>\n",
       "      <td>94719.0</td>\n",
       "    </tr>\n",
       "    <tr>\n",
       "      <td>6</td>\n",
       "      <td>97758.773024</td>\n",
       "      <td>1683</td>\n",
       "      <td>94594.0</td>\n",
       "    </tr>\n",
       "    <tr>\n",
       "      <td>4</td>\n",
       "      <td>98924.551005</td>\n",
       "      <td>3980</td>\n",
       "      <td>94579.5</td>\n",
       "    </tr>\n",
       "    <tr>\n",
       "      <td>5</td>\n",
       "      <td>99045.405941</td>\n",
       "      <td>1919</td>\n",
       "      <td>93548.0</td>\n",
       "    </tr>\n",
       "  </tbody>\n",
       "</table>\n",
       "</div>"
      ],
      "text/plain": [
       "                             mean  count   median\n",
       "weekday_exposition                               \n",
       "1                    99667.761951   4163  95567.0\n",
       "2                    99584.276596   3948  95473.0\n",
       "3                   100194.284144   4276  95132.0\n",
       "0                    99462.125139   3596  94719.0\n",
       "6                    97758.773024   1683  94594.0\n",
       "4                    98924.551005   3980  94579.5\n",
       "5                    99045.405941   1919  93548.0"
      ]
     },
     "execution_count": 42,
     "metadata": {},
     "output_type": "execute_result"
    },
    {
     "data": {
      "image/png": "[encoded data removed]",
      "text/plain": [
       "<Figure size 432x288 with 1 Axes>"
      ]
     },
     "metadata": {
      "needs_background": "light"
     },
     "output_type": "display_data"
    }
   ],
   "source": [
    "pivot_table_weekday_exposition = data.pivot_table(index = 'weekday_exposition', values = 'price_per_square_meter', aggfunc = ['mean', 'count', 'median'])\n",
    "pivot_table_weekday_exposition.columns = ['mean', 'count', 'median']\n",
    "pivot_table_weekday_exposition.plot(y = 'median')\n",
    "\n",
    "pivot_table_weekday_exposition.sort_values('median', ascending = False)"
   ]
  },
  {
   "cell_type": "markdown",
   "metadata": {},
   "source": [
    "**Вывод** Мы видим, что чем ближе ко вторнику выставлены объявления тем в среднем выше стоимость, но незначительно! По субботам стоимость самая низкая!\n",
    "\n",
    "Полагаю, что стоимость выставленной на продажу недвижимости зависит от общей активности людей, так как именно в рабочие дни мы видим более высокие цены. Рост цены возможно связан со спросом, то есть во вторник просто больше людей рассматривает себе жилье."
   ]
  },
  {
   "cell_type": "markdown",
   "metadata": {},
   "source": [
    "**Изучим зависимость цены квадратного метра от даты размещения: месяца.**"
   ]
  },
  {
   "cell_type": "code",
   "execution_count": 43,
   "metadata": {},
   "outputs": [
    {
     "data": {
      "text/html": [
       "<div>\n",
       "<style scoped>\n",
       "    .dataframe tbody tr th:only-of-type {\n",
       "        vertical-align: middle;\n",
       "    }\n",
       "\n",
       "    .dataframe tbody tr th {\n",
       "        vertical-align: top;\n",
       "    }\n",
       "\n",
       "    .dataframe thead th {\n",
       "        text-align: right;\n",
       "    }\n",
       "</style>\n",
       "<table border=\"1\" class=\"dataframe\">\n",
       "  <thead>\n",
       "    <tr style=\"text-align: right;\">\n",
       "      <th></th>\n",
       "      <th>mean</th>\n",
       "      <th>count</th>\n",
       "      <th>median</th>\n",
       "    </tr>\n",
       "    <tr>\n",
       "      <th>month_exposition</th>\n",
       "      <th></th>\n",
       "      <th></th>\n",
       "      <th></th>\n",
       "    </tr>\n",
       "  </thead>\n",
       "  <tbody>\n",
       "    <tr>\n",
       "      <td>4</td>\n",
       "      <td>101987.648557</td>\n",
       "      <td>2356</td>\n",
       "      <td>96543.0</td>\n",
       "    </tr>\n",
       "    <tr>\n",
       "      <td>8</td>\n",
       "      <td>100108.687752</td>\n",
       "      <td>1739</td>\n",
       "      <td>96052.0</td>\n",
       "    </tr>\n",
       "    <tr>\n",
       "      <td>9</td>\n",
       "      <td>100518.872211</td>\n",
       "      <td>1972</td>\n",
       "      <td>95623.0</td>\n",
       "    </tr>\n",
       "    <tr>\n",
       "      <td>11</td>\n",
       "      <td>99228.002542</td>\n",
       "      <td>2360</td>\n",
       "      <td>95606.5</td>\n",
       "    </tr>\n",
       "    <tr>\n",
       "      <td>3</td>\n",
       "      <td>98951.544078</td>\n",
       "      <td>2575</td>\n",
       "      <td>95233.0</td>\n",
       "    </tr>\n",
       "    <tr>\n",
       "      <td>1</td>\n",
       "      <td>99732.675857</td>\n",
       "      <td>1487</td>\n",
       "      <td>95180.0</td>\n",
       "    </tr>\n",
       "    <tr>\n",
       "      <td>7</td>\n",
       "      <td>99612.893238</td>\n",
       "      <td>1686</td>\n",
       "      <td>95005.5</td>\n",
       "    </tr>\n",
       "    <tr>\n",
       "      <td>2</td>\n",
       "      <td>98762.248483</td>\n",
       "      <td>2636</td>\n",
       "      <td>95000.0</td>\n",
       "    </tr>\n",
       "    <tr>\n",
       "      <td>12</td>\n",
       "      <td>99501.177656</td>\n",
       "      <td>1638</td>\n",
       "      <td>94238.0</td>\n",
       "    </tr>\n",
       "    <tr>\n",
       "      <td>10</td>\n",
       "      <td>97866.604839</td>\n",
       "      <td>2108</td>\n",
       "      <td>94212.0</td>\n",
       "    </tr>\n",
       "    <tr>\n",
       "      <td>6</td>\n",
       "      <td>97795.432742</td>\n",
       "      <td>1747</td>\n",
       "      <td>92857.0</td>\n",
       "    </tr>\n",
       "    <tr>\n",
       "      <td>5</td>\n",
       "      <td>98487.816812</td>\n",
       "      <td>1261</td>\n",
       "      <td>92696.0</td>\n",
       "    </tr>\n",
       "  </tbody>\n",
       "</table>\n",
       "</div>"
      ],
      "text/plain": [
       "                           mean  count   median\n",
       "month_exposition                               \n",
       "4                 101987.648557   2356  96543.0\n",
       "8                 100108.687752   1739  96052.0\n",
       "9                 100518.872211   1972  95623.0\n",
       "11                 99228.002542   2360  95606.5\n",
       "3                  98951.544078   2575  95233.0\n",
       "1                  99732.675857   1487  95180.0\n",
       "7                  99612.893238   1686  95005.5\n",
       "2                  98762.248483   2636  95000.0\n",
       "12                 99501.177656   1638  94238.0\n",
       "10                 97866.604839   2108  94212.0\n",
       "6                  97795.432742   1747  92857.0\n",
       "5                  98487.816812   1261  92696.0"
      ]
     },
     "execution_count": 43,
     "metadata": {},
     "output_type": "execute_result"
    },
    {
     "data": {
      "image/png": "[encoded data removed]",
      "text/plain": [
       "<Figure size 432x288 with 1 Axes>"
      ]
     },
     "metadata": {
      "needs_background": "light"
     },
     "output_type": "display_data"
    }
   ],
   "source": [
    "pivot_table_month_exposition = data.pivot_table(index = 'month_exposition', values = 'price_per_square_meter', aggfunc = ['mean', 'count', 'median'])\n",
    "pivot_table_month_exposition.columns = ['mean', 'count', 'median']\n",
    "pivot_table_month_exposition.plot(y = 'median')\n",
    "\n",
    "pivot_table_month_exposition.sort_values('median', ascending = False)"
   ]
  },
  {
   "cell_type": "markdown",
   "metadata": {},
   "source": [
    "**Вывод** Самая высокая стоимость метра в апреле и августе! Самая низкая стоимость в мае и июне! На рынке недвижимости, как и во многих других сферах присутствует сезонность - в начале лета мы видим наименьшее предложение как по количеству, так и по стоимости недвижимости. Наверное, это связано с отпусками, сдачей жилья в аренду в сезоны отпусков."
   ]
  },
  {
   "cell_type": "markdown",
   "metadata": {},
   "source": [
    "**Изучим зависимость цены квадратного метра от даты размещения: года.**"
   ]
  },
  {
   "cell_type": "code",
   "execution_count": 44,
   "metadata": {},
   "outputs": [
    {
     "data": {
      "text/html": [
       "<div>\n",
       "<style scoped>\n",
       "    .dataframe tbody tr th:only-of-type {\n",
       "        vertical-align: middle;\n",
       "    }\n",
       "\n",
       "    .dataframe tbody tr th {\n",
       "        vertical-align: top;\n",
       "    }\n",
       "\n",
       "    .dataframe thead th {\n",
       "        text-align: right;\n",
       "    }\n",
       "</style>\n",
       "<table border=\"1\" class=\"dataframe\">\n",
       "  <thead>\n",
       "    <tr style=\"text-align: right;\">\n",
       "      <th></th>\n",
       "      <th>mean</th>\n",
       "      <th>count</th>\n",
       "      <th>median</th>\n",
       "    </tr>\n",
       "    <tr>\n",
       "      <th>year_exposition</th>\n",
       "      <th></th>\n",
       "      <th></th>\n",
       "      <th></th>\n",
       "    </tr>\n",
       "  </thead>\n",
       "  <tbody>\n",
       "    <tr>\n",
       "      <td>2014</td>\n",
       "      <td>124301.926471</td>\n",
       "      <td>136</td>\n",
       "      <td>106901.5</td>\n",
       "    </tr>\n",
       "    <tr>\n",
       "      <td>2019</td>\n",
       "      <td>107046.819923</td>\n",
       "      <td>2871</td>\n",
       "      <td>103199.0</td>\n",
       "    </tr>\n",
       "    <tr>\n",
       "      <td>2018</td>\n",
       "      <td>97762.264318</td>\n",
       "      <td>8486</td>\n",
       "      <td>95695.5</td>\n",
       "    </tr>\n",
       "    <tr>\n",
       "      <td>2015</td>\n",
       "      <td>104639.883362</td>\n",
       "      <td>1166</td>\n",
       "      <td>93364.5</td>\n",
       "    </tr>\n",
       "    <tr>\n",
       "      <td>2017</td>\n",
       "      <td>97637.679819</td>\n",
       "      <td>8161</td>\n",
       "      <td>92569.0</td>\n",
       "    </tr>\n",
       "    <tr>\n",
       "      <td>2016</td>\n",
       "      <td>98291.356648</td>\n",
       "      <td>2745</td>\n",
       "      <td>91743.0</td>\n",
       "    </tr>\n",
       "  </tbody>\n",
       "</table>\n",
       "</div>"
      ],
      "text/plain": [
       "                          mean  count    median\n",
       "year_exposition                                \n",
       "2014             124301.926471    136  106901.5\n",
       "2019             107046.819923   2871  103199.0\n",
       "2018              97762.264318   8486   95695.5\n",
       "2015             104639.883362   1166   93364.5\n",
       "2017              97637.679819   8161   92569.0\n",
       "2016              98291.356648   2745   91743.0"
      ]
     },
     "execution_count": 44,
     "metadata": {},
     "output_type": "execute_result"
    },
    {
     "data": {
      "image/png": "[encoded data removed]",
      "text/plain": [
       "<Figure size 432x288 with 1 Axes>"
      ]
     },
     "metadata": {
      "needs_background": "light"
     },
     "output_type": "display_data"
    }
   ],
   "source": [
    "pivot_table_year_exposition = data.pivot_table(index = 'year_exposition', values = 'price_per_square_meter', aggfunc = ['mean', 'count', 'median'])\n",
    "pivot_table_year_exposition.columns = ['mean', 'count', 'median']\n",
    "pivot_table_year_exposition.plot(y = 'median')\n",
    "\n",
    "pivot_table_year_exposition.sort_values('median', ascending = False)"
   ]
  },
  {
   "cell_type": "markdown",
   "metadata": {},
   "source": [
    "**Вывод** Мы видим что цена за метр падала вплоть до 2016 года, однако потом она возрасла. Это может быть связано с разными факторами: экономическая обстановка в стране, санкции, увеличение стоимости материалов и затрат на оплату строителям, спрос/предложение."
   ]
  },
  {
   "cell_type": "code",
   "execution_count": 45,
   "metadata": {},
   "outputs": [
    {
     "data": {
      "text/html": [
       "<div>\n",
       "<style scoped>\n",
       "    .dataframe tbody tr th:only-of-type {\n",
       "        vertical-align: middle;\n",
       "    }\n",
       "\n",
       "    .dataframe tbody tr th {\n",
       "        vertical-align: top;\n",
       "    }\n",
       "\n",
       "    .dataframe thead th {\n",
       "        text-align: right;\n",
       "    }\n",
       "</style>\n",
       "<table border=\"1\" class=\"dataframe\">\n",
       "  <thead>\n",
       "    <tr style=\"text-align: right;\">\n",
       "      <th></th>\n",
       "      <th>mean</th>\n",
       "      <th>count</th>\n",
       "      <th>median</th>\n",
       "    </tr>\n",
       "  </thead>\n",
       "  <tbody>\n",
       "    <tr>\n",
       "      <td>mean</td>\n",
       "      <td>1.000000</td>\n",
       "      <td>0.796972</td>\n",
       "      <td>0.464323</td>\n",
       "    </tr>\n",
       "    <tr>\n",
       "      <td>count</td>\n",
       "      <td>0.796972</td>\n",
       "      <td>1.000000</td>\n",
       "      <td>0.737041</td>\n",
       "    </tr>\n",
       "    <tr>\n",
       "      <td>median</td>\n",
       "      <td>0.464323</td>\n",
       "      <td>0.737041</td>\n",
       "      <td>1.000000</td>\n",
       "    </tr>\n",
       "  </tbody>\n",
       "</table>\n",
       "</div>"
      ],
      "text/plain": [
       "            mean     count    median\n",
       "mean    1.000000  0.796972  0.464323\n",
       "count   0.796972  1.000000  0.737041\n",
       "median  0.464323  0.737041  1.000000"
      ]
     },
     "execution_count": 45,
     "metadata": {},
     "output_type": "execute_result"
    }
   ],
   "source": [
    "pivot_table_weekday_exposition.corr()\n",
    "#По итогу неделя имеет большую значимость"
   ]
  },
  {
   "cell_type": "code",
   "execution_count": 46,
   "metadata": {},
   "outputs": [
    {
     "data": {
      "text/html": [
       "<div>\n",
       "<style scoped>\n",
       "    .dataframe tbody tr th:only-of-type {\n",
       "        vertical-align: middle;\n",
       "    }\n",
       "\n",
       "    .dataframe tbody tr th {\n",
       "        vertical-align: top;\n",
       "    }\n",
       "\n",
       "    .dataframe thead th {\n",
       "        text-align: right;\n",
       "    }\n",
       "</style>\n",
       "<table border=\"1\" class=\"dataframe\">\n",
       "  <thead>\n",
       "    <tr style=\"text-align: right;\">\n",
       "      <th></th>\n",
       "      <th>mean</th>\n",
       "      <th>count</th>\n",
       "      <th>median</th>\n",
       "    </tr>\n",
       "  </thead>\n",
       "  <tbody>\n",
       "    <tr>\n",
       "      <td>mean</td>\n",
       "      <td>1.000000</td>\n",
       "      <td>0.107320</td>\n",
       "      <td>0.790064</td>\n",
       "    </tr>\n",
       "    <tr>\n",
       "      <td>count</td>\n",
       "      <td>0.107320</td>\n",
       "      <td>1.000000</td>\n",
       "      <td>0.504426</td>\n",
       "    </tr>\n",
       "    <tr>\n",
       "      <td>median</td>\n",
       "      <td>0.790064</td>\n",
       "      <td>0.504426</td>\n",
       "      <td>1.000000</td>\n",
       "    </tr>\n",
       "  </tbody>\n",
       "</table>\n",
       "</div>"
      ],
      "text/plain": [
       "            mean     count    median\n",
       "mean    1.000000  0.107320  0.790064\n",
       "count   0.107320  1.000000  0.504426\n",
       "median  0.790064  0.504426  1.000000"
      ]
     },
     "execution_count": 46,
     "metadata": {},
     "output_type": "execute_result"
    }
   ],
   "source": [
    "pivot_table_month_exposition.corr()"
   ]
  },
  {
   "cell_type": "code",
   "execution_count": 47,
   "metadata": {},
   "outputs": [
    {
     "data": {
      "text/html": [
       "<div>\n",
       "<style scoped>\n",
       "    .dataframe tbody tr th:only-of-type {\n",
       "        vertical-align: middle;\n",
       "    }\n",
       "\n",
       "    .dataframe tbody tr th {\n",
       "        vertical-align: top;\n",
       "    }\n",
       "\n",
       "    .dataframe thead th {\n",
       "        text-align: right;\n",
       "    }\n",
       "</style>\n",
       "<table border=\"1\" class=\"dataframe\">\n",
       "  <thead>\n",
       "    <tr style=\"text-align: right;\">\n",
       "      <th></th>\n",
       "      <th>mean</th>\n",
       "      <th>count</th>\n",
       "      <th>median</th>\n",
       "    </tr>\n",
       "  </thead>\n",
       "  <tbody>\n",
       "    <tr>\n",
       "      <td>mean</td>\n",
       "      <td>1.000000</td>\n",
       "      <td>-0.714412</td>\n",
       "      <td>0.872762</td>\n",
       "    </tr>\n",
       "    <tr>\n",
       "      <td>count</td>\n",
       "      <td>-0.714412</td>\n",
       "      <td>1.000000</td>\n",
       "      <td>-0.469261</td>\n",
       "    </tr>\n",
       "    <tr>\n",
       "      <td>median</td>\n",
       "      <td>0.872762</td>\n",
       "      <td>-0.469261</td>\n",
       "      <td>1.000000</td>\n",
       "    </tr>\n",
       "  </tbody>\n",
       "</table>\n",
       "</div>"
      ],
      "text/plain": [
       "            mean     count    median\n",
       "mean    1.000000 -0.714412  0.872762\n",
       "count  -0.714412  1.000000 -0.469261\n",
       "median  0.872762 -0.469261  1.000000"
      ]
     },
     "execution_count": 47,
     "metadata": {},
     "output_type": "execute_result"
    }
   ],
   "source": [
    "pivot_table_year_exposition.corr()"
   ]
  },
  {
   "cell_type": "markdown",
   "metadata": {},
   "source": [
    "**Далее нам необходимо выбрать 10 населённых пунктов с наибольшим числом объявлений. Посчитать среднюю цену квадратного метра в этих населённых пунктах. Выделить населённые пункты с самой высокой и низкой стоимостью жилья.**"
   ]
  },
  {
   "cell_type": "code",
   "execution_count": 48,
   "metadata": {},
   "outputs": [
    {
     "data": {
      "text/html": [
       "<div>\n",
       "<style scoped>\n",
       "    .dataframe tbody tr th:only-of-type {\n",
       "        vertical-align: middle;\n",
       "    }\n",
       "\n",
       "    .dataframe tbody tr th {\n",
       "        vertical-align: top;\n",
       "    }\n",
       "\n",
       "    .dataframe thead th {\n",
       "        text-align: right;\n",
       "    }\n",
       "</style>\n",
       "<table border=\"1\" class=\"dataframe\">\n",
       "  <thead>\n",
       "    <tr style=\"text-align: right;\">\n",
       "      <th></th>\n",
       "      <th>count</th>\n",
       "      <th>mean</th>\n",
       "    </tr>\n",
       "    <tr>\n",
       "      <th>locality_name</th>\n",
       "      <th></th>\n",
       "      <th></th>\n",
       "    </tr>\n",
       "  </thead>\n",
       "  <tbody>\n",
       "    <tr>\n",
       "      <td>Санкт-Петербург</td>\n",
       "      <td>15651</td>\n",
       "      <td>114868.433902</td>\n",
       "    </tr>\n",
       "    <tr>\n",
       "      <td>посёлок Мурино</td>\n",
       "      <td>520</td>\n",
       "      <td>85672.803846</td>\n",
       "    </tr>\n",
       "    <tr>\n",
       "      <td>посёлок Шушары</td>\n",
       "      <td>439</td>\n",
       "      <td>78550.883827</td>\n",
       "    </tr>\n",
       "    <tr>\n",
       "      <td>Всеволожск</td>\n",
       "      <td>398</td>\n",
       "      <td>68654.007538</td>\n",
       "    </tr>\n",
       "    <tr>\n",
       "      <td>Пушкин</td>\n",
       "      <td>369</td>\n",
       "      <td>103125.373984</td>\n",
       "    </tr>\n",
       "    <tr>\n",
       "      <td>Колпино</td>\n",
       "      <td>338</td>\n",
       "      <td>75424.150888</td>\n",
       "    </tr>\n",
       "    <tr>\n",
       "      <td>посёлок Парголово</td>\n",
       "      <td>327</td>\n",
       "      <td>90175.489297</td>\n",
       "    </tr>\n",
       "    <tr>\n",
       "      <td>Гатчина</td>\n",
       "      <td>307</td>\n",
       "      <td>68745.693811</td>\n",
       "    </tr>\n",
       "    <tr>\n",
       "      <td>деревня Кудрово</td>\n",
       "      <td>299</td>\n",
       "      <td>92473.086957</td>\n",
       "    </tr>\n",
       "    <tr>\n",
       "      <td>Выборг</td>\n",
       "      <td>237</td>\n",
       "      <td>58141.489451</td>\n",
       "    </tr>\n",
       "  </tbody>\n",
       "</table>\n",
       "</div>"
      ],
      "text/plain": [
       "                   count           mean\n",
       "locality_name                          \n",
       "Санкт-Петербург    15651  114868.433902\n",
       "посёлок Мурино       520   85672.803846\n",
       "посёлок Шушары       439   78550.883827\n",
       "Всеволожск           398   68654.007538\n",
       "Пушкин               369  103125.373984\n",
       "Колпино              338   75424.150888\n",
       "посёлок Парголово    327   90175.489297\n",
       "Гатчина              307   68745.693811\n",
       "деревня Кудрово      299   92473.086957\n",
       "Выборг               237   58141.489451"
      ]
     },
     "execution_count": 48,
     "metadata": {},
     "output_type": "execute_result"
    }
   ],
   "source": [
    "locality_pivot_table = data.pivot_table(index = 'locality_name', values = 'price_per_square_meter', aggfunc=['count', 'mean'])\n",
    "locality_pivot_table.columns = ['count', 'mean']\n",
    "locality_pivot_table = locality_pivot_table.sort_values('count', ascending = False).head(10)\n",
    "locality_pivot_table"
   ]
  },
  {
   "cell_type": "code",
   "execution_count": 49,
   "metadata": {},
   "outputs": [
    {
     "data": {
      "text/html": [
       "<div>\n",
       "<style scoped>\n",
       "    .dataframe tbody tr th:only-of-type {\n",
       "        vertical-align: middle;\n",
       "    }\n",
       "\n",
       "    .dataframe tbody tr th {\n",
       "        vertical-align: top;\n",
       "    }\n",
       "\n",
       "    .dataframe thead th {\n",
       "        text-align: right;\n",
       "    }\n",
       "</style>\n",
       "<table border=\"1\" class=\"dataframe\">\n",
       "  <thead>\n",
       "    <tr style=\"text-align: right;\">\n",
       "      <th></th>\n",
       "      <th>count</th>\n",
       "      <th>mean</th>\n",
       "    </tr>\n",
       "    <tr>\n",
       "      <th>locality_name</th>\n",
       "      <th></th>\n",
       "      <th></th>\n",
       "    </tr>\n",
       "  </thead>\n",
       "  <tbody>\n",
       "    <tr>\n",
       "      <td>Санкт-Петербург</td>\n",
       "      <td>15651</td>\n",
       "      <td>114868.433902</td>\n",
       "    </tr>\n",
       "  </tbody>\n",
       "</table>\n",
       "</div>"
      ],
      "text/plain": [
       "                 count           mean\n",
       "locality_name                        \n",
       "Санкт-Петербург  15651  114868.433902"
      ]
     },
     "execution_count": 49,
     "metadata": {},
     "output_type": "execute_result"
    }
   ],
   "source": [
    "#самая высокая стоимость\n",
    "locality_pivot_table[locality_pivot_table['mean']==locality_pivot_table['mean'].max()]"
   ]
  },
  {
   "cell_type": "code",
   "execution_count": 50,
   "metadata": {},
   "outputs": [
    {
     "data": {
      "text/html": [
       "<div>\n",
       "<style scoped>\n",
       "    .dataframe tbody tr th:only-of-type {\n",
       "        vertical-align: middle;\n",
       "    }\n",
       "\n",
       "    .dataframe tbody tr th {\n",
       "        vertical-align: top;\n",
       "    }\n",
       "\n",
       "    .dataframe thead th {\n",
       "        text-align: right;\n",
       "    }\n",
       "</style>\n",
       "<table border=\"1\" class=\"dataframe\">\n",
       "  <thead>\n",
       "    <tr style=\"text-align: right;\">\n",
       "      <th></th>\n",
       "      <th>count</th>\n",
       "      <th>mean</th>\n",
       "    </tr>\n",
       "    <tr>\n",
       "      <th>locality_name</th>\n",
       "      <th></th>\n",
       "      <th></th>\n",
       "    </tr>\n",
       "  </thead>\n",
       "  <tbody>\n",
       "    <tr>\n",
       "      <td>Выборг</td>\n",
       "      <td>237</td>\n",
       "      <td>58141.489451</td>\n",
       "    </tr>\n",
       "  </tbody>\n",
       "</table>\n",
       "</div>"
      ],
      "text/plain": [
       "               count          mean\n",
       "locality_name                     \n",
       "Выборг           237  58141.489451"
      ]
     },
     "execution_count": 50,
     "metadata": {},
     "output_type": "execute_result"
    }
   ],
   "source": [
    "#самая низкая стоимость\n",
    "locality_pivot_table[locality_pivot_table['mean']==locality_pivot_table['mean'].min()]"
   ]
  },
  {
   "cell_type": "markdown",
   "metadata": {},
   "source": [
    "**Вывод** Самая высокая стоимость жилья из 10 населённых пунктов с самым большим количеством объявлений в Санкт-Петербурге, тогда как самая низкая стоимость в Выборге."
   ]
  },
  {
   "cell_type": "markdown",
   "metadata": {},
   "source": [
    "**Далее нам нужно изучить предложения квартир: для каждой квартиры есть информация о расстоянии до центра. Выделить квартиры в Санкт-Петербурге. Наша задача — выяснить, какая область входит в центр. Нужно создать столбец с расстоянием до центра в километрах: округлить до целых значений. После этого посчитать среднюю цену для каждого километра. Построить график: он должен показывать, как цена зависит от удалённости от центра. Определить границу, где график сильно меняется — это и будет центральная зона.**"
   ]
  },
  {
   "cell_type": "code",
   "execution_count": 51,
   "metadata": {},
   "outputs": [
    {
     "data": {
      "text/html": [
       "<div>\n",
       "<style scoped>\n",
       "    .dataframe tbody tr th:only-of-type {\n",
       "        vertical-align: middle;\n",
       "    }\n",
       "\n",
       "    .dataframe tbody tr th {\n",
       "        vertical-align: top;\n",
       "    }\n",
       "\n",
       "    .dataframe thead th {\n",
       "        text-align: right;\n",
       "    }\n",
       "</style>\n",
       "<table border=\"1\" class=\"dataframe\">\n",
       "  <thead>\n",
       "    <tr style=\"text-align: right;\">\n",
       "      <th></th>\n",
       "      <th>price_per_square_meter</th>\n",
       "    </tr>\n",
       "    <tr>\n",
       "      <th>cityCenters_nearest_km</th>\n",
       "      <th></th>\n",
       "    </tr>\n",
       "  </thead>\n",
       "  <tbody>\n",
       "    <tr>\n",
       "      <td>0</td>\n",
       "      <td>187323.674419</td>\n",
       "    </tr>\n",
       "    <tr>\n",
       "      <td>1</td>\n",
       "      <td>166603.312500</td>\n",
       "    </tr>\n",
       "    <tr>\n",
       "      <td>2</td>\n",
       "      <td>146662.420195</td>\n",
       "    </tr>\n",
       "    <tr>\n",
       "      <td>3</td>\n",
       "      <td>129526.480916</td>\n",
       "    </tr>\n",
       "    <tr>\n",
       "      <td>4</td>\n",
       "      <td>137412.971207</td>\n",
       "    </tr>\n",
       "    <tr>\n",
       "      <td>5</td>\n",
       "      <td>146977.869792</td>\n",
       "    </tr>\n",
       "    <tr>\n",
       "      <td>6</td>\n",
       "      <td>152277.455319</td>\n",
       "    </tr>\n",
       "    <tr>\n",
       "      <td>7</td>\n",
       "      <td>141399.287469</td>\n",
       "    </tr>\n",
       "    <tr>\n",
       "      <td>8</td>\n",
       "      <td>120538.701649</td>\n",
       "    </tr>\n",
       "    <tr>\n",
       "      <td>9</td>\n",
       "      <td>110027.380814</td>\n",
       "    </tr>\n",
       "    <tr>\n",
       "      <td>10</td>\n",
       "      <td>111489.727974</td>\n",
       "    </tr>\n",
       "    <tr>\n",
       "      <td>11</td>\n",
       "      <td>106617.914712</td>\n",
       "    </tr>\n",
       "    <tr>\n",
       "      <td>12</td>\n",
       "      <td>108283.601588</td>\n",
       "    </tr>\n",
       "    <tr>\n",
       "      <td>13</td>\n",
       "      <td>107140.412903</td>\n",
       "    </tr>\n",
       "    <tr>\n",
       "      <td>14</td>\n",
       "      <td>104979.087101</td>\n",
       "    </tr>\n",
       "    <tr>\n",
       "      <td>15</td>\n",
       "      <td>101859.372449</td>\n",
       "    </tr>\n",
       "    <tr>\n",
       "      <td>16</td>\n",
       "      <td>100082.875113</td>\n",
       "    </tr>\n",
       "    <tr>\n",
       "      <td>17</td>\n",
       "      <td>94665.973129</td>\n",
       "    </tr>\n",
       "    <tr>\n",
       "      <td>18</td>\n",
       "      <td>94814.537572</td>\n",
       "    </tr>\n",
       "    <tr>\n",
       "      <td>19</td>\n",
       "      <td>95433.951220</td>\n",
       "    </tr>\n",
       "    <tr>\n",
       "      <td>20</td>\n",
       "      <td>107045.773810</td>\n",
       "    </tr>\n",
       "    <tr>\n",
       "      <td>21</td>\n",
       "      <td>91492.220513</td>\n",
       "    </tr>\n",
       "    <tr>\n",
       "      <td>22</td>\n",
       "      <td>88714.237410</td>\n",
       "    </tr>\n",
       "    <tr>\n",
       "      <td>23</td>\n",
       "      <td>92720.233333</td>\n",
       "    </tr>\n",
       "    <tr>\n",
       "      <td>24</td>\n",
       "      <td>82439.909091</td>\n",
       "    </tr>\n",
       "    <tr>\n",
       "      <td>25</td>\n",
       "      <td>90436.553846</td>\n",
       "    </tr>\n",
       "    <tr>\n",
       "      <td>26</td>\n",
       "      <td>75171.333333</td>\n",
       "    </tr>\n",
       "    <tr>\n",
       "      <td>27</td>\n",
       "      <td>132115.000000</td>\n",
       "    </tr>\n",
       "    <tr>\n",
       "      <td>28</td>\n",
       "      <td>81840.200000</td>\n",
       "    </tr>\n",
       "    <tr>\n",
       "      <td>29</td>\n",
       "      <td>62481.666667</td>\n",
       "    </tr>\n",
       "  </tbody>\n",
       "</table>\n",
       "</div>"
      ],
      "text/plain": [
       "                        price_per_square_meter\n",
       "cityCenters_nearest_km                        \n",
       "0                                187323.674419\n",
       "1                                166603.312500\n",
       "2                                146662.420195\n",
       "3                                129526.480916\n",
       "4                                137412.971207\n",
       "5                                146977.869792\n",
       "6                                152277.455319\n",
       "7                                141399.287469\n",
       "8                                120538.701649\n",
       "9                                110027.380814\n",
       "10                               111489.727974\n",
       "11                               106617.914712\n",
       "12                               108283.601588\n",
       "13                               107140.412903\n",
       "14                               104979.087101\n",
       "15                               101859.372449\n",
       "16                               100082.875113\n",
       "17                                94665.973129\n",
       "18                                94814.537572\n",
       "19                                95433.951220\n",
       "20                               107045.773810\n",
       "21                                91492.220513\n",
       "22                                88714.237410\n",
       "23                                92720.233333\n",
       "24                                82439.909091\n",
       "25                                90436.553846\n",
       "26                                75171.333333\n",
       "27                               132115.000000\n",
       "28                                81840.200000\n",
       "29                                62481.666667"
      ]
     },
     "execution_count": 51,
     "metadata": {},
     "output_type": "execute_result"
    },
    {
     "data": {
      "image/png": "[encoded data removed]",
      "text/plain": [
       "<Figure size 432x288 with 1 Axes>"
      ]
     },
     "metadata": {
      "needs_background": "light"
     },
     "output_type": "display_data"
    }
   ],
   "source": [
    "data['cityCenters_nearest_km'] = data['cityCenters_nearest']/1000\n",
    "data['cityCenters_nearest_km'] = data['cityCenters_nearest_km'].fillna(999999)\n",
    "data['cityCenters_nearest_km'] = data['cityCenters_nearest_km'].astype('int')\n",
    "pivot_table_km = data.query('locality_name == \"Санкт-Петербург\" and cityCenters_nearest_km !=999999').pivot_table(index = 'cityCenters_nearest_km', values = 'price_per_square_meter', aggfunc = 'mean')\n",
    "pivot_table_km.plot()\n",
    "pivot_table_km"
   ]
  },
  {
   "cell_type": "markdown",
   "metadata": {},
   "source": [
    "**Вывод** Судя по графику центром можно считать радиус в 3 км? Или же все-таки 6..."
   ]
  },
  {
   "cell_type": "markdown",
   "metadata": {},
   "source": [
    "**Дальше нам нужно выделить сегмент квартир в центре. Проанализировать эту территорию и изучить следующие параметры: площадь, цена, число комнат, высота потолков. Также выделить факторы, которые влияют на стоимость квартиры (число комнат, этаж, удалённость от центра, дата размещения объявления). Отличаются ли они от общих выводов по всему городу?**"
   ]
  },
  {
   "cell_type": "code",
   "execution_count": 52,
   "metadata": {},
   "outputs": [],
   "source": [
    "#выделим квартиры в центре, беря за радиус 6 км\n",
    "center_spb_data = data.query('cityCenters_nearest_km <= 6 and locality_name == \"Санкт-Петербург\"')"
   ]
  },
  {
   "cell_type": "markdown",
   "metadata": {},
   "source": [
    "**Найдем зависимость стоимости квадратного метра от количества комнат.**"
   ]
  },
  {
   "cell_type": "code",
   "execution_count": 53,
   "metadata": {},
   "outputs": [
    {
     "data": {
      "text/plain": [
       "-0.009653704313327979"
      ]
     },
     "execution_count": 53,
     "metadata": {},
     "output_type": "execute_result"
    },
    {
     "data": {
      "image/png": "[encoded data removed]",
      "text/plain": [
       "<Figure size 432x288 with 1 Axes>"
      ]
     },
     "metadata": {
      "needs_background": "light"
     },
     "output_type": "display_data"
    }
   ],
   "source": [
    "center_spb_rooms = center_spb_data.pivot_table(index = 'rooms', values = 'price_per_square_meter', aggfunc = ['mean', 'count', 'median'])\n",
    "center_spb_rooms.columns = ['mean', 'count', 'median']\n",
    "center_spb_rooms.query('count > 50').plot(y = 'median')\n",
    "\n",
    "center_spb_rooms.query('count > 50').sort_values('median', ascending = False)\n",
    "\n",
    "center_spb_data['rooms'].corr(center_spb_data['price_per_square_meter'])"
   ]
  },
  {
   "cell_type": "markdown",
   "metadata": {},
   "source": [
    "**Вывод**\n",
    "Если смотреть на график, то можно сделать вывод, что в центре СПБ чем меньше комнат, тем дороже стоимость метра квадратного, в отличие от всей выборки, где стоимость уменьшается в зависимости от близости кол-ва комнат к 3! Хотя коэффициент корреляции довольно мал, это значит зависимость хоть и есть, но она маленькая."
   ]
  },
  {
   "cell_type": "markdown",
   "metadata": {},
   "source": [
    "**Найдем зависимость стоимости квадратного метра от этажа.**"
   ]
  },
  {
   "cell_type": "code",
   "execution_count": 54,
   "metadata": {},
   "outputs": [
    {
     "data": {
      "text/html": [
       "<div>\n",
       "<style scoped>\n",
       "    .dataframe tbody tr th:only-of-type {\n",
       "        vertical-align: middle;\n",
       "    }\n",
       "\n",
       "    .dataframe tbody tr th {\n",
       "        vertical-align: top;\n",
       "    }\n",
       "\n",
       "    .dataframe thead th {\n",
       "        text-align: right;\n",
       "    }\n",
       "</style>\n",
       "<table border=\"1\" class=\"dataframe\">\n",
       "  <thead>\n",
       "    <tr style=\"text-align: right;\">\n",
       "      <th></th>\n",
       "      <th>mean</th>\n",
       "      <th>count</th>\n",
       "      <th>median</th>\n",
       "    </tr>\n",
       "    <tr>\n",
       "      <th>floor_category</th>\n",
       "      <th></th>\n",
       "      <th></th>\n",
       "      <th></th>\n",
       "    </tr>\n",
       "  </thead>\n",
       "  <tbody>\n",
       "    <tr>\n",
       "      <td>первый</td>\n",
       "      <td>122682.506739</td>\n",
       "      <td>371</td>\n",
       "      <td>109457</td>\n",
       "    </tr>\n",
       "    <tr>\n",
       "      <td>последний</td>\n",
       "      <td>144071.772803</td>\n",
       "      <td>603</td>\n",
       "      <td>116666</td>\n",
       "    </tr>\n",
       "  </tbody>\n",
       "</table>\n",
       "</div>"
      ],
      "text/plain": [
       "                         mean  count  median\n",
       "floor_category                              \n",
       "первый          122682.506739    371  109457\n",
       "последний       144071.772803    603  116666"
      ]
     },
     "execution_count": 54,
     "metadata": {},
     "output_type": "execute_result"
    },
    {
     "data": {
      "image/png": "[encoded data removed]",
      "text/plain": [
       "<Figure size 432x288 with 1 Axes>"
      ]
     },
     "metadata": {
      "needs_background": "light"
     },
     "output_type": "display_data"
    }
   ],
   "source": [
    "center_spb_floor_category = center_spb_data.query('floor_category != \"другой\"').pivot_table(index = 'floor_category', values = 'price_per_square_meter', aggfunc = ['mean', 'count', 'median'])\n",
    "center_spb_floor_category.columns = ['mean', 'count', 'median']\n",
    "center_spb_floor_category.plot(y = 'median')\n",
    "center_spb_floor_category"
   ]
  },
  {
   "cell_type": "markdown",
   "metadata": {},
   "source": [
    "**Вывод** Аналогичная ситуация, как и в общей выборке. Вопрос тот же самый =)"
   ]
  },
  {
   "cell_type": "markdown",
   "metadata": {},
   "source": [
    "**Найдем зависимость стоимости квадратного метра от удаленности от центра.**"
   ]
  },
  {
   "cell_type": "code",
   "execution_count": 55,
   "metadata": {},
   "outputs": [
    {
     "data": {
      "text/plain": [
       "-0.029761479222545652"
      ]
     },
     "execution_count": 55,
     "metadata": {},
     "output_type": "execute_result"
    },
    {
     "data": {
      "image/png": "[encoded data removed]",
      "text/plain": [
       "<Figure size 432x288 with 1 Axes>"
      ]
     },
     "metadata": {
      "needs_background": "light"
     },
     "output_type": "display_data"
    }
   ],
   "source": [
    "center_spb_data.plot(kind = 'scatter', y = 'price_per_square_meter', x = 'cityCenters_nearest', alpha = 0.3)\n",
    "\n",
    "center_spb_data['cityCenters_nearest'].corr(center_spb_data['price_per_square_meter'])"
   ]
  },
  {
   "cell_type": "markdown",
   "metadata": {},
   "source": [
    "**Вывод** довольно сложно сделать вывод исходя из того, что уже произведены выборка по квартирам в центре города, тут больше видно, что колличество объявлений в меньшей отдаленности от центра гораздо меньше, чем те что дальше от центра)"
   ]
  },
  {
   "cell_type": "markdown",
   "metadata": {},
   "source": [
    "**Найдем зависимость стоимости квадратного метра от дня недели размещения объявления.**"
   ]
  },
  {
   "cell_type": "code",
   "execution_count": 56,
   "metadata": {},
   "outputs": [
    {
     "data": {
      "text/html": [
       "<div>\n",
       "<style scoped>\n",
       "    .dataframe tbody tr th:only-of-type {\n",
       "        vertical-align: middle;\n",
       "    }\n",
       "\n",
       "    .dataframe tbody tr th {\n",
       "        vertical-align: top;\n",
       "    }\n",
       "\n",
       "    .dataframe thead th {\n",
       "        text-align: right;\n",
       "    }\n",
       "</style>\n",
       "<table border=\"1\" class=\"dataframe\">\n",
       "  <thead>\n",
       "    <tr style=\"text-align: right;\">\n",
       "      <th></th>\n",
       "      <th>mean</th>\n",
       "      <th>count</th>\n",
       "      <th>median</th>\n",
       "    </tr>\n",
       "    <tr>\n",
       "      <th>weekday_exposition</th>\n",
       "      <th></th>\n",
       "      <th></th>\n",
       "      <th></th>\n",
       "    </tr>\n",
       "  </thead>\n",
       "  <tbody>\n",
       "    <tr>\n",
       "      <td>6</td>\n",
       "      <td>147687.586592</td>\n",
       "      <td>179</td>\n",
       "      <td>129032.0</td>\n",
       "    </tr>\n",
       "    <tr>\n",
       "      <td>5</td>\n",
       "      <td>155971.818565</td>\n",
       "      <td>237</td>\n",
       "      <td>128703.0</td>\n",
       "    </tr>\n",
       "    <tr>\n",
       "      <td>0</td>\n",
       "      <td>144265.019608</td>\n",
       "      <td>510</td>\n",
       "      <td>126325.0</td>\n",
       "    </tr>\n",
       "    <tr>\n",
       "      <td>4</td>\n",
       "      <td>143709.511712</td>\n",
       "      <td>555</td>\n",
       "      <td>125000.0</td>\n",
       "    </tr>\n",
       "    <tr>\n",
       "      <td>2</td>\n",
       "      <td>142758.117747</td>\n",
       "      <td>586</td>\n",
       "      <td>124586.5</td>\n",
       "    </tr>\n",
       "    <tr>\n",
       "      <td>3</td>\n",
       "      <td>145018.539706</td>\n",
       "      <td>680</td>\n",
       "      <td>120556.0</td>\n",
       "    </tr>\n",
       "    <tr>\n",
       "      <td>1</td>\n",
       "      <td>142506.332123</td>\n",
       "      <td>551</td>\n",
       "      <td>118397.0</td>\n",
       "    </tr>\n",
       "  </tbody>\n",
       "</table>\n",
       "</div>"
      ],
      "text/plain": [
       "                             mean  count    median\n",
       "weekday_exposition                                \n",
       "6                   147687.586592    179  129032.0\n",
       "5                   155971.818565    237  128703.0\n",
       "0                   144265.019608    510  126325.0\n",
       "4                   143709.511712    555  125000.0\n",
       "2                   142758.117747    586  124586.5\n",
       "3                   145018.539706    680  120556.0\n",
       "1                   142506.332123    551  118397.0"
      ]
     },
     "execution_count": 56,
     "metadata": {},
     "output_type": "execute_result"
    },
    {
     "data": {
      "image/png": "[encoded data removed]",
      "text/plain": [
       "<Figure size 432x288 with 1 Axes>"
      ]
     },
     "metadata": {
      "needs_background": "light"
     },
     "output_type": "display_data"
    }
   ],
   "source": [
    "center_spb_weekday_exposition = center_spb_data.pivot_table(index = 'weekday_exposition', values = 'price_per_square_meter', aggfunc = ['mean', 'count', 'median'])\n",
    "center_spb_weekday_exposition.columns = ['mean', 'count', 'median']\n",
    "center_spb_weekday_exposition.plot(y = 'median')\n",
    "\n",
    "center_spb_weekday_exposition.sort_values('median', ascending = False)"
   ]
  },
  {
   "cell_type": "markdown",
   "metadata": {},
   "source": [
    "**Вывод** Ситуация отличается от обзей выборки, минимальные средние цены в четверг и воскресенье, самые высокие - в понедельник и субботу!"
   ]
  },
  {
   "cell_type": "markdown",
   "metadata": {},
   "source": [
    "**Найдем зависимость стоимости квадратного метра от месяца размещения объявления.**"
   ]
  },
  {
   "cell_type": "code",
   "execution_count": 57,
   "metadata": {},
   "outputs": [
    {
     "data": {
      "text/html": [
       "<div>\n",
       "<style scoped>\n",
       "    .dataframe tbody tr th:only-of-type {\n",
       "        vertical-align: middle;\n",
       "    }\n",
       "\n",
       "    .dataframe tbody tr th {\n",
       "        vertical-align: top;\n",
       "    }\n",
       "\n",
       "    .dataframe thead th {\n",
       "        text-align: right;\n",
       "    }\n",
       "</style>\n",
       "<table border=\"1\" class=\"dataframe\">\n",
       "  <thead>\n",
       "    <tr style=\"text-align: right;\">\n",
       "      <th></th>\n",
       "      <th>mean</th>\n",
       "      <th>count</th>\n",
       "      <th>median</th>\n",
       "    </tr>\n",
       "    <tr>\n",
       "      <th>month_exposition</th>\n",
       "      <th></th>\n",
       "      <th></th>\n",
       "      <th></th>\n",
       "    </tr>\n",
       "  </thead>\n",
       "  <tbody>\n",
       "    <tr>\n",
       "      <td>3</td>\n",
       "      <td>147665.441595</td>\n",
       "      <td>351</td>\n",
       "      <td>130333.0</td>\n",
       "    </tr>\n",
       "    <tr>\n",
       "      <td>1</td>\n",
       "      <td>147891.754902</td>\n",
       "      <td>204</td>\n",
       "      <td>129334.5</td>\n",
       "    </tr>\n",
       "    <tr>\n",
       "      <td>4</td>\n",
       "      <td>156068.268608</td>\n",
       "      <td>309</td>\n",
       "      <td>127574.0</td>\n",
       "    </tr>\n",
       "    <tr>\n",
       "      <td>8</td>\n",
       "      <td>145941.605042</td>\n",
       "      <td>238</td>\n",
       "      <td>125000.0</td>\n",
       "    </tr>\n",
       "    <tr>\n",
       "      <td>9</td>\n",
       "      <td>146258.156250</td>\n",
       "      <td>288</td>\n",
       "      <td>124051.5</td>\n",
       "    </tr>\n",
       "    <tr>\n",
       "      <td>11</td>\n",
       "      <td>142552.432024</td>\n",
       "      <td>331</td>\n",
       "      <td>123222.0</td>\n",
       "    </tr>\n",
       "    <tr>\n",
       "      <td>10</td>\n",
       "      <td>140554.277778</td>\n",
       "      <td>270</td>\n",
       "      <td>122935.0</td>\n",
       "    </tr>\n",
       "    <tr>\n",
       "      <td>5</td>\n",
       "      <td>135036.109290</td>\n",
       "      <td>183</td>\n",
       "      <td>122077.0</td>\n",
       "    </tr>\n",
       "    <tr>\n",
       "      <td>12</td>\n",
       "      <td>149975.766234</td>\n",
       "      <td>231</td>\n",
       "      <td>121328.0</td>\n",
       "    </tr>\n",
       "    <tr>\n",
       "      <td>2</td>\n",
       "      <td>144605.161202</td>\n",
       "      <td>366</td>\n",
       "      <td>121285.0</td>\n",
       "    </tr>\n",
       "    <tr>\n",
       "      <td>7</td>\n",
       "      <td>141620.436090</td>\n",
       "      <td>266</td>\n",
       "      <td>118236.0</td>\n",
       "    </tr>\n",
       "    <tr>\n",
       "      <td>6</td>\n",
       "      <td>135464.030651</td>\n",
       "      <td>261</td>\n",
       "      <td>117300.0</td>\n",
       "    </tr>\n",
       "  </tbody>\n",
       "</table>\n",
       "</div>"
      ],
      "text/plain": [
       "                           mean  count    median\n",
       "month_exposition                                \n",
       "3                 147665.441595    351  130333.0\n",
       "1                 147891.754902    204  129334.5\n",
       "4                 156068.268608    309  127574.0\n",
       "8                 145941.605042    238  125000.0\n",
       "9                 146258.156250    288  124051.5\n",
       "11                142552.432024    331  123222.0\n",
       "10                140554.277778    270  122935.0\n",
       "5                 135036.109290    183  122077.0\n",
       "12                149975.766234    231  121328.0\n",
       "2                 144605.161202    366  121285.0\n",
       "7                 141620.436090    266  118236.0\n",
       "6                 135464.030651    261  117300.0"
      ]
     },
     "execution_count": 57,
     "metadata": {},
     "output_type": "execute_result"
    },
    {
     "data": {
      "image/png": "[encoded data removed]",
      "text/plain": [
       "<Figure size 432x288 with 1 Axes>"
      ]
     },
     "metadata": {
      "needs_background": "light"
     },
     "output_type": "display_data"
    }
   ],
   "source": [
    "center_spb_month_exposition = center_spb_data.pivot_table(index = 'month_exposition', values = 'price_per_square_meter', aggfunc = ['mean', 'count', 'median'])\n",
    "center_spb_month_exposition.columns = ['mean', 'count', 'median']\n",
    "center_spb_month_exposition.plot(y = 'median')\n",
    "\n",
    "center_spb_month_exposition.sort_values('median', ascending = False)"
   ]
  },
  {
   "cell_type": "markdown",
   "metadata": {},
   "source": [
    "**Вывод** Ситуация похожая с общей выборкой - самая высокая стоимость метра в апреле и августе! Самая низкая стоимость в мае и июне! Причина может быть таже самая - сезонность."
   ]
  },
  {
   "cell_type": "markdown",
   "metadata": {},
   "source": [
    "**Найдем зависимость стоимости квадратного метра от года размещения объявления.**"
   ]
  },
  {
   "cell_type": "code",
   "execution_count": 58,
   "metadata": {},
   "outputs": [
    {
     "data": {
      "text/html": [
       "<div>\n",
       "<style scoped>\n",
       "    .dataframe tbody tr th:only-of-type {\n",
       "        vertical-align: middle;\n",
       "    }\n",
       "\n",
       "    .dataframe tbody tr th {\n",
       "        vertical-align: top;\n",
       "    }\n",
       "\n",
       "    .dataframe thead th {\n",
       "        text-align: right;\n",
       "    }\n",
       "</style>\n",
       "<table border=\"1\" class=\"dataframe\">\n",
       "  <thead>\n",
       "    <tr style=\"text-align: right;\">\n",
       "      <th></th>\n",
       "      <th>mean</th>\n",
       "      <th>count</th>\n",
       "      <th>median</th>\n",
       "    </tr>\n",
       "    <tr>\n",
       "      <th>year_exposition</th>\n",
       "      <th></th>\n",
       "      <th></th>\n",
       "      <th></th>\n",
       "    </tr>\n",
       "  </thead>\n",
       "  <tbody>\n",
       "    <tr>\n",
       "      <td>2014</td>\n",
       "      <td>195653.962963</td>\n",
       "      <td>27</td>\n",
       "      <td>143465</td>\n",
       "    </tr>\n",
       "    <tr>\n",
       "      <td>2019</td>\n",
       "      <td>162791.278873</td>\n",
       "      <td>355</td>\n",
       "      <td>136363</td>\n",
       "    </tr>\n",
       "    <tr>\n",
       "      <td>2018</td>\n",
       "      <td>141058.674419</td>\n",
       "      <td>989</td>\n",
       "      <td>124750</td>\n",
       "    </tr>\n",
       "    <tr>\n",
       "      <td>2017</td>\n",
       "      <td>143189.413764</td>\n",
       "      <td>1177</td>\n",
       "      <td>121136</td>\n",
       "    </tr>\n",
       "    <tr>\n",
       "      <td>2015</td>\n",
       "      <td>147424.363636</td>\n",
       "      <td>297</td>\n",
       "      <td>119568</td>\n",
       "    </tr>\n",
       "    <tr>\n",
       "      <td>2016</td>\n",
       "      <td>138246.412804</td>\n",
       "      <td>453</td>\n",
       "      <td>115705</td>\n",
       "    </tr>\n",
       "  </tbody>\n",
       "</table>\n",
       "</div>"
      ],
      "text/plain": [
       "                          mean  count  median\n",
       "year_exposition                              \n",
       "2014             195653.962963     27  143465\n",
       "2019             162791.278873    355  136363\n",
       "2018             141058.674419    989  124750\n",
       "2017             143189.413764   1177  121136\n",
       "2015             147424.363636    297  119568\n",
       "2016             138246.412804    453  115705"
      ]
     },
     "execution_count": 58,
     "metadata": {},
     "output_type": "execute_result"
    },
    {
     "data": {
      "image/png": "[encoded data removed]",
      "text/plain": [
       "<Figure size 432x288 with 1 Axes>"
      ]
     },
     "metadata": {
      "needs_background": "light"
     },
     "output_type": "display_data"
    }
   ],
   "source": [
    "center_spb_year_exposition = center_spb_data.pivot_table(index = 'year_exposition', values = 'price_per_square_meter', aggfunc = ['mean', 'count', 'median'])\n",
    "center_spb_year_exposition.columns = ['mean', 'count', 'median']\n",
    "center_spb_year_exposition.plot(y = 'median')\n",
    "\n",
    "center_spb_year_exposition.sort_values('median', ascending = False)"
   ]
  },
  {
   "cell_type": "code",
   "execution_count": 59,
   "metadata": {},
   "outputs": [
    {
     "data": {
      "text/plain": [
       "<matplotlib.axes._subplots.AxesSubplot at 0x7f9c27395a90>"
      ]
     },
     "execution_count": 59,
     "metadata": {},
     "output_type": "execute_result"
    },
    {
     "data": {
      "image/png": "[encoded data removed]",
      "text/plain": [
       "<Figure size 432x288 with 1 Axes>"
      ]
     },
     "metadata": {
      "needs_background": "light"
     },
     "output_type": "display_data"
    }
   ],
   "source": [
    "spb_pivot_table_year_exposition = center_spb_data.pivot_table(index = 'year_exposition', values = 'price_per_square_meter', aggfunc = ['mean', 'count', 'median'])\n",
    "pivot_table_year_exposition = data.pivot_table(index = 'year_exposition', values = 'price_per_square_meter', aggfunc = ['mean', 'count', 'median'])\n",
    "\n",
    "spb_pivot_table_year_exposition.columns = ['mean', 'count', 'median']\n",
    "pivot_table_year_exposition.columns = ['mean', 'count', 'median']\n",
    "ax = spb_pivot_table_year_exposition.plot(\n",
    "    y='median',\n",
    "    alpha=0.7,\n",
    "    label='SPB'\n",
    ")\n",
    "pivot_table_year_exposition.plot(\n",
    "    y='median',\n",
    "    alpha=0.7,\n",
    "    label='All',\n",
    "    ax = ax,\n",
    "    grid=True,\n",
    "    legend=True,\n",
    ")"
   ]
  },
  {
   "cell_type": "markdown",
   "metadata": {},
   "source": [
    "**Вывод** В отличие от общей выборки мы видим, что цена с 2014 по 2015 год существенно упала, ну и сама разница в цене. Поведение в целлом общее."
   ]
  },
  {
   "cell_type": "markdown",
   "metadata": {},
   "source": [
    "## Общий вывод"
   ]
  },
  {
   "cell_type": "markdown",
   "metadata": {},
   "source": [
    "Мы обработали полученный архив данных - обработали пропущенные значения там, где это необходимо, заменили типы данных на необходимые для удобной работы. Посчитали и добавили в таблицу цену квадратного метра жилья, вывели из даты дни недели, месяцы и года размещения объявлений, добавили категории по этажам квартир. Изучили следующие параметры на наличие выбивающихся значений - площадь, цена, число комнат, высота потолков. Были определены аномалии в данных параметрах. Изучая время продажи квартир мы выявили, что большое количество объявлений было автоматически снято с Яндекс Недвижимость и дату из снятия нельзя считать датой продажи квартиры, поэтому, изучая средние сроки продажи квартир - данные значения не учитывались. Мы выявили при помощи диаграммы размаха, что нормальные значения продажи квартир варьируются от 1 до 600 дней. Мы выявили, что на стоимость квадратного метра квартиры больше всего влияют количество комнат, этаж квартиры, близость к центру. Незначительно на стоимость квадратного метра влияют день, месяц, год размещения и общая площадь. Нужно учитывать, что в 2016-2017 годах стоимость квартир в среднем по рынку была ниже на 10-20 %, тогда как в центре Санкт-Петербурга данной зависимости от года не обнаружено. В данном случае имело место постоянное удорожание стоимости, начиная с 2015 года по текущий момент. Судя, по резкости изменения цен в зависимости от удаления от центра СПБ, мы выявили центр города в радиусе 3 километров.\n",
    "\n",
    "Также важно учитывать, что, рассматривая среднюю стоимость квартир в 2014-2019 годах, мы не делали сегментацию рынка, а лишь смотрели средние показатели по рынку в целом. Т.е. возможно, что цены на аналогичные квартиры в разных годах вели себя абсолютно по-разному. Т.е. например в то время, когда средняя стоимость метра по рынку в 2016-2017 годах была наиболее низкой, какие-то аналогичные прошлым годам квартиры могли и не падать в цене, а наоборот дорожать! Именно об этом нам и говорят данные, полученные при изучении единственного сегмента квартир - находящихся в радиусе 3 км в центре СПБ."
   ]
  },
  {
   "cell_type": "markdown",
   "metadata": {},
   "source": []
  },
  {
   "cell_type": "markdown",
   "metadata": {},
   "source": [
    "## Чек-лист готовности проекта\n",
    "\n",
    "Поставьте 'x' в выполненных пунктах. Далее нажмите Shift+Enter."
   ]
  },
  {
   "cell_type": "markdown",
   "metadata": {},
   "source": [
    "- [x]  открыт файл\n",
    "- [x]  файлы изучены (выведены первые строки, метод info())\n",
    "- [x]  определены пропущенные значения\n",
    "- [x]  заполнены пропущенные значения\n",
    "- [x]  есть пояснение, какие пропущенные значения обнаружены\n",
    "- [x]  изменены типы данных\n",
    "- [x]  есть пояснение, в каких столбцах изменены типы и почему\n",
    "- [x]  посчитано и добавлено в таблицу: цена квадратного метра\n",
    "- [x]  посчитано и добавлено в таблицу: день недели, месяц и год публикации объявления\n",
    "- [x]  посчитано и добавлено в таблицу: этаж квартиры; варианты — первый, последний, другой\n",
    "- [x]  посчитано и добавлено в таблицу: соотношение жилой и общей площади, а также отношение площади кухни к общей\n",
    "- [x]  изучены следующие параметры: площадь, цена, число комнат, высота потолков\n",
    "- [x]  построены гистограммы для каждого параметра\n",
    "- [x]  выполнено задание: \"Изучите время продажи квартиры. Постройте гистограмму. Посчитайте среднее и медиану. Опишите, сколько обычно занимает продажа. Когда можно считать, что продажи прошли очень быстро, а когда необычно долго?\"\n",
    "- [x]  выполнено задание: \"Уберите редкие и выбивающиеся значения. Опишите, какие особенности обнаружили.\"\n",
    "- [x]  выполнено задание: \"Какие факторы больше всего влияют на стоимость квартиры? Изучите, зависит ли цена от квадратного метра, числа комнат, этажа (первого или последнего), удалённости от центра. Также изучите зависимость от даты размещения: дня недели, месяца и года. \"Выберите 10 населённых пунктов с наибольшим числом объявлений. Посчитайте среднюю цену квадратного метра в этих населённых пунктах. Выделите населённые пункты с самой высокой и низкой стоимостью жилья. Эти данные можно найти по имени в столбце '*locality_name'*. \"\n",
    "- [x]  выполнено задание: \"Изучите предложения квартир: для каждой квартиры есть информация о расстоянии до центра. Выделите квартиры в Санкт-Петербурге (*'locality_name'*). Ваша задача — выяснить, какая область входит в центр. Создайте столбец с расстоянием до центра в километрах: округлите до целых значений. После этого посчитайте среднюю цену для каждого километра. Постройте график: он должен показывать, как цена зависит от удалённости от центра. Определите границу, где график сильно меняется — это и будет центральная зона. \"\n",
    "- [x]  выполнено задание: \"Выделите сегмент квартир в центре. Проанализируйте эту территорию и изучите следующие параметры: площадь, цена, число комнат, высота потолков. Также выделите факторы, которые влияют на стоимость квартиры (число комнат, этаж, удалённость от центра, дата размещения объявления). Сделайте выводы. Отличаются ли они от общих выводов по всему городу?\"\n",
    "- [x]  в каждом этапе есть выводы\n",
    "- [x]  есть общий вывод"
   ]
  }
 ],
 "metadata": {
  "ExecuteTimeLog": [
   {
    "duration": 828,
    "start_time": "2022-01-16T13:31:04.716Z"
   },
   {
    "duration": 22,
    "start_time": "2022-01-16T13:35:02.395Z"
   },
   {
    "duration": 48,
    "start_time": "2022-01-16T13:35:19.624Z"
   },
   {
    "duration": 54,
    "start_time": "2022-01-16T13:35:26.882Z"
   },
   {
    "duration": 5,
    "start_time": "2022-01-16T13:54:13.551Z"
   },
   {
    "duration": 6,
    "start_time": "2022-01-16T13:54:20.005Z"
   },
   {
    "duration": 5,
    "start_time": "2022-01-16T13:54:23.470Z"
   },
   {
    "duration": 32,
    "start_time": "2022-01-16T13:54:55.197Z"
   },
   {
    "duration": 11,
    "start_time": "2022-01-16T13:55:34.674Z"
   },
   {
    "duration": 33,
    "start_time": "2022-01-16T13:56:00.617Z"
   },
   {
    "duration": 31,
    "start_time": "2022-01-16T13:56:54.256Z"
   },
   {
    "duration": 30,
    "start_time": "2022-01-16T13:57:29.051Z"
   },
   {
    "duration": 371,
    "start_time": "2022-01-16T13:57:44.064Z"
   },
   {
    "duration": 3,
    "start_time": "2022-01-16T13:58:45.338Z"
   },
   {
    "duration": 34,
    "start_time": "2022-01-16T13:59:38.091Z"
   },
   {
    "duration": 10,
    "start_time": "2022-01-16T13:59:48.284Z"
   },
   {
    "duration": 12,
    "start_time": "2022-01-16T14:00:33.366Z"
   },
   {
    "duration": 535,
    "start_time": "2022-01-16T14:01:26.939Z"
   },
   {
    "duration": 8,
    "start_time": "2022-01-16T14:01:41.083Z"
   },
   {
    "duration": 5,
    "start_time": "2022-01-16T14:01:43.926Z"
   },
   {
    "duration": 441,
    "start_time": "2022-01-16T14:02:00.159Z"
   },
   {
    "duration": 505,
    "start_time": "2022-01-16T14:02:10.386Z"
   },
   {
    "duration": 56,
    "start_time": "2022-01-16T14:03:36.194Z"
   },
   {
    "duration": 283,
    "start_time": "2022-01-16T14:05:02.952Z"
   },
   {
    "duration": 68,
    "start_time": "2022-01-16T14:05:40.094Z"
   },
   {
    "duration": 8,
    "start_time": "2022-01-16T14:06:23.287Z"
   },
   {
    "duration": 108,
    "start_time": "2022-01-16T14:08:37.061Z"
   },
   {
    "duration": 56,
    "start_time": "2022-01-16T14:08:39.585Z"
   },
   {
    "duration": 16,
    "start_time": "2022-01-16T14:11:40.269Z"
   },
   {
    "duration": 5,
    "start_time": "2022-01-16T14:11:47.597Z"
   },
   {
    "duration": 6,
    "start_time": "2022-01-16T14:14:19.495Z"
   },
   {
    "duration": 13,
    "start_time": "2022-01-16T14:15:58.189Z"
   },
   {
    "duration": 11,
    "start_time": "2022-01-16T14:16:31.409Z"
   },
   {
    "duration": 10,
    "start_time": "2022-01-16T14:17:17.296Z"
   },
   {
    "duration": 8,
    "start_time": "2022-01-16T14:17:20.135Z"
   },
   {
    "duration": 30,
    "start_time": "2022-01-16T14:18:16.684Z"
   },
   {
    "duration": 33,
    "start_time": "2022-01-16T14:18:55.570Z"
   },
   {
    "duration": 9,
    "start_time": "2022-01-16T14:19:18.406Z"
   },
   {
    "duration": 4,
    "start_time": "2022-01-16T14:19:23.892Z"
   },
   {
    "duration": 12,
    "start_time": "2022-01-16T14:31:01.025Z"
   },
   {
    "duration": 19,
    "start_time": "2022-01-16T14:31:54.612Z"
   },
   {
    "duration": 879,
    "start_time": "2022-01-16T14:33:31.488Z"
   },
   {
    "duration": 7,
    "start_time": "2022-01-16T14:33:59.131Z"
   },
   {
    "duration": 696,
    "start_time": "2022-01-16T14:36:41.740Z"
   },
   {
    "duration": 668,
    "start_time": "2022-01-16T14:36:48.221Z"
   },
   {
    "duration": 641,
    "start_time": "2022-01-16T14:36:54.734Z"
   },
   {
    "duration": 639,
    "start_time": "2022-01-16T14:37:00.040Z"
   },
   {
    "duration": 702,
    "start_time": "2022-01-16T14:37:12.814Z"
   },
   {
    "duration": 645,
    "start_time": "2022-01-16T16:23:27.484Z"
   },
   {
    "duration": 675,
    "start_time": "2022-01-16T16:24:00.395Z"
   },
   {
    "duration": 678,
    "start_time": "2022-01-16T16:24:19.567Z"
   },
   {
    "duration": 766,
    "start_time": "2022-01-16T16:25:55.136Z"
   },
   {
    "duration": 437,
    "start_time": "2022-01-16T16:26:16.108Z"
   },
   {
    "duration": 555,
    "start_time": "2022-01-16T16:54:16.172Z"
   },
   {
    "duration": 667,
    "start_time": "2022-01-16T16:58:00.534Z"
   },
   {
    "duration": 720,
    "start_time": "2022-01-16T17:02:53.658Z"
   },
   {
    "duration": 665,
    "start_time": "2022-01-16T17:03:02.378Z"
   },
   {
    "duration": 404,
    "start_time": "2022-01-16T17:06:28.540Z"
   },
   {
    "duration": 397,
    "start_time": "2022-01-16T17:06:35.613Z"
   },
   {
    "duration": 402,
    "start_time": "2022-01-16T17:06:42.190Z"
   },
   {
    "duration": 478,
    "start_time": "2022-01-16T17:06:54.200Z"
   },
   {
    "duration": 497,
    "start_time": "2022-01-16T17:07:15.865Z"
   },
   {
    "duration": 397,
    "start_time": "2022-01-16T17:07:24.498Z"
   },
   {
    "duration": 646,
    "start_time": "2022-01-16T17:09:33.788Z"
   },
   {
    "duration": 1411,
    "start_time": "2022-01-16T17:18:15.803Z"
   },
   {
    "duration": 1429,
    "start_time": "2022-01-16T17:18:35.610Z"
   },
   {
    "duration": 939,
    "start_time": "2022-01-16T17:18:50.269Z"
   },
   {
    "duration": 71,
    "start_time": "2022-01-16T17:18:51.211Z"
   },
   {
    "duration": 13,
    "start_time": "2022-01-16T17:18:51.286Z"
   },
   {
    "duration": 575,
    "start_time": "2022-01-16T17:18:51.302Z"
   },
   {
    "duration": 59,
    "start_time": "2022-01-16T17:18:51.881Z"
   },
   {
    "duration": 29,
    "start_time": "2022-01-16T17:18:51.942Z"
   },
   {
    "duration": 25,
    "start_time": "2022-01-16T17:18:51.974Z"
   },
   {
    "duration": 11,
    "start_time": "2022-01-16T17:18:52.002Z"
   },
   {
    "duration": 52,
    "start_time": "2022-01-16T17:18:52.017Z"
   },
   {
    "duration": 15,
    "start_time": "2022-01-16T17:18:52.074Z"
   },
   {
    "duration": 14,
    "start_time": "2022-01-16T17:18:52.092Z"
   },
   {
    "duration": 24,
    "start_time": "2022-01-16T17:18:52.108Z"
   },
   {
    "duration": 989,
    "start_time": "2022-01-16T17:18:52.168Z"
   },
   {
    "duration": 12,
    "start_time": "2022-01-16T17:18:53.159Z"
   },
   {
    "duration": 703,
    "start_time": "2022-01-16T17:18:53.174Z"
   },
   {
    "duration": 701,
    "start_time": "2022-01-16T17:18:53.880Z"
   },
   {
    "duration": 437,
    "start_time": "2022-01-16T17:18:54.584Z"
   },
   {
    "duration": 456,
    "start_time": "2022-01-16T17:18:55.023Z"
   },
   {
    "duration": 1437,
    "start_time": "2022-01-16T17:18:55.482Z"
   },
   {
    "duration": 1457,
    "start_time": "2022-01-16T17:20:43.441Z"
   },
   {
    "duration": 206,
    "start_time": "2022-01-16T17:20:49.107Z"
   },
   {
    "duration": 567,
    "start_time": "2022-01-16T17:29:44.855Z"
   },
   {
    "duration": 620,
    "start_time": "2022-01-16T17:29:57.103Z"
   },
   {
    "duration": 363,
    "start_time": "2022-01-16T17:30:01.239Z"
   },
   {
    "duration": 546,
    "start_time": "2022-01-16T17:30:07.646Z"
   },
   {
    "duration": 1830,
    "start_time": "2022-01-16T17:31:19.160Z"
   },
   {
    "duration": 1133,
    "start_time": "2022-01-16T17:31:44.422Z"
   },
   {
    "duration": 1497,
    "start_time": "2022-01-16T17:32:34.960Z"
   },
   {
    "duration": 1401,
    "start_time": "2022-01-16T17:32:53.957Z"
   },
   {
    "duration": 1603,
    "start_time": "2022-01-16T17:34:54.700Z"
   },
   {
    "duration": 1366,
    "start_time": "2022-01-16T17:35:09.202Z"
   },
   {
    "duration": 1487,
    "start_time": "2022-01-16T17:35:14.781Z"
   },
   {
    "duration": 12,
    "start_time": "2022-01-16T17:39:21.227Z"
   },
   {
    "duration": 30,
    "start_time": "2022-01-16T17:39:28.788Z"
   },
   {
    "duration": 29,
    "start_time": "2022-01-16T17:40:21.877Z"
   },
   {
    "duration": 413,
    "start_time": "2022-01-16T17:42:11.467Z"
   },
   {
    "duration": 6,
    "start_time": "2022-01-16T17:43:11.827Z"
   },
   {
    "duration": 888,
    "start_time": "2022-01-16T17:43:24.955Z"
   },
   {
    "duration": 61,
    "start_time": "2022-01-16T17:43:25.846Z"
   },
   {
    "duration": 13,
    "start_time": "2022-01-16T17:43:25.910Z"
   },
   {
    "duration": 589,
    "start_time": "2022-01-16T17:43:25.926Z"
   },
   {
    "duration": 73,
    "start_time": "2022-01-16T17:43:26.518Z"
   },
   {
    "duration": 7,
    "start_time": "2022-01-16T17:43:26.594Z"
   },
   {
    "duration": 24,
    "start_time": "2022-01-16T17:43:26.604Z"
   },
   {
    "duration": 37,
    "start_time": "2022-01-16T17:43:26.631Z"
   },
   {
    "duration": 15,
    "start_time": "2022-01-16T17:43:26.672Z"
   },
   {
    "duration": 12,
    "start_time": "2022-01-16T17:43:26.690Z"
   },
   {
    "duration": 6,
    "start_time": "2022-01-16T17:43:26.705Z"
   },
   {
    "duration": 53,
    "start_time": "2022-01-16T17:43:26.714Z"
   },
   {
    "duration": 23,
    "start_time": "2022-01-16T17:43:26.771Z"
   },
   {
    "duration": 955,
    "start_time": "2022-01-16T17:43:26.797Z"
   },
   {
    "duration": 12,
    "start_time": "2022-01-16T17:43:27.755Z"
   },
   {
    "duration": 696,
    "start_time": "2022-01-16T17:43:27.771Z"
   },
   {
    "duration": 688,
    "start_time": "2022-01-16T17:43:28.472Z"
   },
   {
    "duration": 435,
    "start_time": "2022-01-16T17:43:29.162Z"
   },
   {
    "duration": 438,
    "start_time": "2022-01-16T17:43:29.600Z"
   },
   {
    "duration": 1453,
    "start_time": "2022-01-16T17:43:30.040Z"
   },
   {
    "duration": 90,
    "start_time": "2022-01-16T17:43:31.497Z"
   },
   {
    "duration": 53,
    "start_time": "2022-01-16T17:48:56.624Z"
   },
   {
    "duration": 96,
    "start_time": "2022-01-16T18:46:42.692Z"
   },
   {
    "duration": 99,
    "start_time": "2022-01-16T18:47:00.589Z"
   },
   {
    "duration": 20,
    "start_time": "2022-01-16T18:47:16.955Z"
   },
   {
    "duration": 468,
    "start_time": "2022-01-16T18:47:36.934Z"
   },
   {
    "duration": 221,
    "start_time": "2022-01-16T18:48:23.302Z"
   },
   {
    "duration": 1182,
    "start_time": "2022-01-16T18:48:36.319Z"
   },
   {
    "duration": 12,
    "start_time": "2022-01-16T18:48:52.086Z"
   },
   {
    "duration": 9,
    "start_time": "2022-01-16T18:50:52.464Z"
   },
   {
    "duration": 12,
    "start_time": "2022-01-16T18:52:55.961Z"
   },
   {
    "duration": 14,
    "start_time": "2022-01-16T18:53:05.260Z"
   },
   {
    "duration": 845,
    "start_time": "2022-01-16T18:54:28.868Z"
   },
   {
    "duration": 67,
    "start_time": "2022-01-16T18:54:29.716Z"
   },
   {
    "duration": 12,
    "start_time": "2022-01-16T18:54:29.787Z"
   },
   {
    "duration": 613,
    "start_time": "2022-01-16T18:54:29.802Z"
   },
   {
    "duration": 77,
    "start_time": "2022-01-16T18:54:30.418Z"
   },
   {
    "duration": 10,
    "start_time": "2022-01-16T18:54:30.498Z"
   },
   {
    "duration": 27,
    "start_time": "2022-01-16T18:54:30.511Z"
   },
   {
    "duration": 35,
    "start_time": "2022-01-16T18:54:30.541Z"
   },
   {
    "duration": 33,
    "start_time": "2022-01-16T18:54:30.581Z"
   },
   {
    "duration": 27,
    "start_time": "2022-01-16T18:54:30.617Z"
   },
   {
    "duration": 22,
    "start_time": "2022-01-16T18:54:30.646Z"
   },
   {
    "duration": 13,
    "start_time": "2022-01-16T18:54:30.671Z"
   },
   {
    "duration": 36,
    "start_time": "2022-01-16T18:54:30.686Z"
   },
   {
    "duration": 913,
    "start_time": "2022-01-16T18:54:30.724Z"
   },
   {
    "duration": 7,
    "start_time": "2022-01-16T18:54:31.639Z"
   },
   {
    "duration": 784,
    "start_time": "2022-01-16T18:54:31.648Z"
   },
   {
    "duration": 744,
    "start_time": "2022-01-16T18:54:32.435Z"
   },
   {
    "duration": 402,
    "start_time": "2022-01-16T18:54:33.182Z"
   },
   {
    "duration": 642,
    "start_time": "2022-01-16T18:54:33.586Z"
   },
   {
    "duration": 1394,
    "start_time": "2022-01-16T18:54:34.231Z"
   },
   {
    "duration": 67,
    "start_time": "2022-01-16T18:54:35.628Z"
   },
   {
    "duration": 18,
    "start_time": "2022-01-16T18:54:35.697Z"
   },
   {
    "duration": 230,
    "start_time": "2022-01-16T18:54:35.718Z"
   },
   {
    "duration": 1163,
    "start_time": "2022-01-16T18:54:35.951Z"
   },
   {
    "duration": 12,
    "start_time": "2022-01-16T18:54:37.117Z"
   },
   {
    "duration": 463,
    "start_time": "2022-01-16T18:58:34.472Z"
   },
   {
    "duration": 529,
    "start_time": "2022-01-16T19:01:44.619Z"
   },
   {
    "duration": 280,
    "start_time": "2022-01-16T19:03:52.304Z"
   },
   {
    "duration": 859,
    "start_time": "2022-01-16T19:06:15.137Z"
   },
   {
    "duration": 332,
    "start_time": "2022-01-16T19:07:53.772Z"
   },
   {
    "duration": 440,
    "start_time": "2022-01-16T19:10:04.029Z"
   },
   {
    "duration": 444,
    "start_time": "2022-01-16T19:12:18.019Z"
   },
   {
    "duration": 41,
    "start_time": "2022-01-16T19:18:11.552Z"
   },
   {
    "duration": 61,
    "start_time": "2022-01-16T19:19:35.830Z"
   },
   {
    "duration": 17,
    "start_time": "2022-01-16T19:19:47.754Z"
   },
   {
    "duration": 11,
    "start_time": "2022-01-16T19:19:51.969Z"
   },
   {
    "duration": 11,
    "start_time": "2022-01-16T19:19:59.617Z"
   },
   {
    "duration": 466,
    "start_time": "2022-01-16T19:22:22.923Z"
   },
   {
    "duration": 13,
    "start_time": "2022-01-16T19:30:45.495Z"
   },
   {
    "duration": 412,
    "start_time": "2022-01-16T19:31:19.436Z"
   },
   {
    "duration": 318,
    "start_time": "2022-01-16T19:35:13.359Z"
   },
   {
    "duration": 609,
    "start_time": "2022-01-16T19:36:57.086Z"
   },
   {
    "duration": 327,
    "start_time": "2022-01-16T19:39:47.420Z"
   },
   {
    "duration": 334,
    "start_time": "2022-01-16T19:42:51.297Z"
   },
   {
    "duration": 355,
    "start_time": "2022-01-16T19:44:09.076Z"
   },
   {
    "duration": 343,
    "start_time": "2022-01-16T19:46:02.101Z"
   },
   {
    "duration": 351,
    "start_time": "2022-01-16T19:46:16.507Z"
   },
   {
    "duration": 608,
    "start_time": "2022-01-19T19:56:12.829Z"
   },
   {
    "duration": 31,
    "start_time": "2022-01-19T19:56:13.439Z"
   },
   {
    "duration": 9,
    "start_time": "2022-01-19T19:56:13.472Z"
   },
   {
    "duration": 342,
    "start_time": "2022-01-19T19:56:13.482Z"
   },
   {
    "duration": 35,
    "start_time": "2022-01-19T19:56:13.825Z"
   },
   {
    "duration": 6,
    "start_time": "2022-01-19T19:56:13.861Z"
   },
   {
    "duration": 34,
    "start_time": "2022-01-19T19:56:13.869Z"
   },
   {
    "duration": 7,
    "start_time": "2022-01-19T19:56:13.905Z"
   },
   {
    "duration": 8,
    "start_time": "2022-01-19T19:56:13.915Z"
   },
   {
    "duration": 7,
    "start_time": "2022-01-19T19:56:13.925Z"
   },
   {
    "duration": 5,
    "start_time": "2022-01-19T19:56:13.934Z"
   },
   {
    "duration": 5,
    "start_time": "2022-01-19T19:56:13.941Z"
   },
   {
    "duration": 13,
    "start_time": "2022-01-19T19:56:13.948Z"
   },
   {
    "duration": 561,
    "start_time": "2022-01-19T19:56:13.962Z"
   },
   {
    "duration": 6,
    "start_time": "2022-01-19T19:56:14.525Z"
   },
   {
    "duration": 426,
    "start_time": "2022-01-19T19:56:14.532Z"
   },
   {
    "duration": 407,
    "start_time": "2022-01-19T19:56:14.960Z"
   },
   {
    "duration": 262,
    "start_time": "2022-01-19T19:56:15.368Z"
   },
   {
    "duration": 257,
    "start_time": "2022-01-19T19:56:15.632Z"
   },
   {
    "duration": 880,
    "start_time": "2022-01-19T19:56:15.890Z"
   },
   {
    "duration": 39,
    "start_time": "2022-01-19T19:56:16.772Z"
   },
   {
    "duration": 12,
    "start_time": "2022-01-19T19:56:16.812Z"
   },
   {
    "duration": 141,
    "start_time": "2022-01-19T19:56:16.825Z"
   },
   {
    "duration": 759,
    "start_time": "2022-01-19T19:56:16.968Z"
   },
   {
    "duration": 9,
    "start_time": "2022-01-19T19:56:17.729Z"
   },
   {
    "duration": 248,
    "start_time": "2022-01-19T19:56:17.739Z"
   },
   {
    "duration": 234,
    "start_time": "2022-01-19T19:56:17.990Z"
   },
   {
    "duration": 193,
    "start_time": "2022-01-19T19:56:18.226Z"
   },
   {
    "duration": 560,
    "start_time": "2022-01-19T19:56:18.420Z"
   },
   {
    "duration": 216,
    "start_time": "2022-01-19T19:56:18.982Z"
   },
   {
    "duration": 265,
    "start_time": "2022-01-19T19:56:19.200Z"
   },
   {
    "duration": 284,
    "start_time": "2022-01-19T19:56:19.468Z"
   },
   {
    "duration": 32,
    "start_time": "2022-01-19T19:56:19.755Z"
   },
   {
    "duration": 16,
    "start_time": "2022-01-19T19:56:19.791Z"
   },
   {
    "duration": 24,
    "start_time": "2022-01-19T19:56:19.815Z"
   },
   {
    "duration": 260,
    "start_time": "2022-01-19T19:56:19.841Z"
   },
   {
    "duration": 9,
    "start_time": "2022-01-19T19:56:20.103Z"
   },
   {
    "duration": 314,
    "start_time": "2022-01-19T19:56:20.116Z"
   },
   {
    "duration": 230,
    "start_time": "2022-01-19T19:56:20.432Z"
   },
   {
    "duration": 388,
    "start_time": "2022-01-19T19:56:20.664Z"
   },
   {
    "duration": 286,
    "start_time": "2022-01-19T19:56:21.054Z"
   },
   {
    "duration": 326,
    "start_time": "2022-01-19T19:56:21.342Z"
   },
   {
    "duration": 337,
    "start_time": "2022-01-19T19:56:21.671Z"
   },
   {
    "duration": 328,
    "start_time": "2022-01-19T19:56:22.011Z"
   },
   {
    "duration": 4,
    "start_time": "2022-01-21T12:27:56.932Z"
   },
   {
    "duration": 876,
    "start_time": "2022-01-21T12:28:12.160Z"
   },
   {
    "duration": 873,
    "start_time": "2022-01-21T12:28:18.505Z"
   },
   {
    "duration": 29,
    "start_time": "2022-01-21T12:28:19.380Z"
   },
   {
    "duration": 10,
    "start_time": "2022-01-21T12:28:19.411Z"
   },
   {
    "duration": 309,
    "start_time": "2022-01-21T12:28:19.423Z"
   },
   {
    "duration": 37,
    "start_time": "2022-01-21T12:28:19.734Z"
   },
   {
    "duration": 6,
    "start_time": "2022-01-21T12:28:19.773Z"
   },
   {
    "duration": 23,
    "start_time": "2022-01-21T12:28:19.781Z"
   },
   {
    "duration": 13,
    "start_time": "2022-01-21T12:28:19.807Z"
   },
   {
    "duration": 19,
    "start_time": "2022-01-21T12:28:19.822Z"
   },
   {
    "duration": 7,
    "start_time": "2022-01-21T12:28:19.843Z"
   },
   {
    "duration": 6,
    "start_time": "2022-01-21T12:28:19.852Z"
   },
   {
    "duration": 32,
    "start_time": "2022-01-21T12:28:19.859Z"
   },
   {
    "duration": 3,
    "start_time": "2022-01-21T12:28:19.893Z"
   },
   {
    "duration": 55,
    "start_time": "2022-01-21T12:28:19.898Z"
   },
   {
    "duration": 8,
    "start_time": "2022-01-21T12:28:19.955Z"
   },
   {
    "duration": 16,
    "start_time": "2022-01-21T12:28:19.965Z"
   },
   {
    "duration": 505,
    "start_time": "2022-01-21T12:28:19.982Z"
   },
   {
    "duration": 5,
    "start_time": "2022-01-21T12:28:20.488Z"
   },
   {
    "duration": 339,
    "start_time": "2022-01-21T12:28:20.495Z"
   },
   {
    "duration": 334,
    "start_time": "2022-01-21T12:28:20.840Z"
   },
   {
    "duration": 217,
    "start_time": "2022-01-21T12:28:21.175Z"
   },
   {
    "duration": 222,
    "start_time": "2022-01-21T12:28:21.394Z"
   },
   {
    "duration": 707,
    "start_time": "2022-01-21T12:28:21.620Z"
   },
   {
    "duration": 37,
    "start_time": "2022-01-21T12:28:22.329Z"
   },
   {
    "duration": 12,
    "start_time": "2022-01-21T12:28:22.367Z"
   },
   {
    "duration": 129,
    "start_time": "2022-01-21T12:28:22.381Z"
   },
   {
    "duration": 663,
    "start_time": "2022-01-21T12:28:22.512Z"
   },
   {
    "duration": 7,
    "start_time": "2022-01-21T12:28:23.177Z"
   },
   {
    "duration": 210,
    "start_time": "2022-01-21T12:28:23.185Z"
   },
   {
    "duration": 225,
    "start_time": "2022-01-21T12:28:23.396Z"
   },
   {
    "duration": 263,
    "start_time": "2022-01-21T12:28:23.623Z"
   },
   {
    "duration": 660,
    "start_time": "2022-01-21T12:28:23.888Z"
   },
   {
    "duration": 210,
    "start_time": "2022-01-21T12:28:24.551Z"
   },
   {
    "duration": 195,
    "start_time": "2022-01-21T12:28:24.762Z"
   },
   {
    "duration": 198,
    "start_time": "2022-01-21T12:28:24.958Z"
   },
   {
    "duration": 22,
    "start_time": "2022-01-21T12:28:25.158Z"
   },
   {
    "duration": 12,
    "start_time": "2022-01-21T12:28:25.182Z"
   },
   {
    "duration": 39,
    "start_time": "2022-01-21T12:28:25.195Z"
   },
   {
    "duration": 191,
    "start_time": "2022-01-21T12:28:25.236Z"
   },
   {
    "duration": 8,
    "start_time": "2022-01-21T12:28:25.429Z"
   },
   {
    "duration": 258,
    "start_time": "2022-01-21T12:28:25.441Z"
   },
   {
    "duration": 182,
    "start_time": "2022-01-21T12:28:25.700Z"
   },
   {
    "duration": 283,
    "start_time": "2022-01-21T12:28:25.883Z"
   },
   {
    "duration": 190,
    "start_time": "2022-01-21T12:28:26.168Z"
   },
   {
    "duration": 191,
    "start_time": "2022-01-21T12:28:26.361Z"
   },
   {
    "duration": 191,
    "start_time": "2022-01-21T12:28:26.553Z"
   },
   {
    "duration": 195,
    "start_time": "2022-01-21T12:28:26.745Z"
   },
   {
    "duration": 178,
    "start_time": "2022-01-21T12:29:46.506Z"
   },
   {
    "duration": 7,
    "start_time": "2022-01-21T12:31:06.680Z"
   },
   {
    "duration": 71,
    "start_time": "2022-01-21T12:31:09.935Z"
   },
   {
    "duration": 7,
    "start_time": "2022-01-21T12:31:12.276Z"
   },
   {
    "duration": 12,
    "start_time": "2022-01-21T12:31:44.650Z"
   },
   {
    "duration": 1782,
    "start_time": "2022-01-21T12:33:02.957Z"
   },
   {
    "duration": 640,
    "start_time": "2022-01-21T12:33:21.150Z"
   },
   {
    "duration": 29,
    "start_time": "2022-01-21T12:33:21.792Z"
   },
   {
    "duration": 22,
    "start_time": "2022-01-21T12:33:21.825Z"
   },
   {
    "duration": 302,
    "start_time": "2022-01-21T12:33:21.849Z"
   },
   {
    "duration": 33,
    "start_time": "2022-01-21T12:33:22.153Z"
   },
   {
    "duration": 5,
    "start_time": "2022-01-21T12:33:22.188Z"
   },
   {
    "duration": 13,
    "start_time": "2022-01-21T12:33:22.195Z"
   },
   {
    "duration": 37,
    "start_time": "2022-01-21T12:33:22.211Z"
   },
   {
    "duration": 9,
    "start_time": "2022-01-21T12:33:22.250Z"
   },
   {
    "duration": 8,
    "start_time": "2022-01-21T12:33:22.261Z"
   },
   {
    "duration": 5,
    "start_time": "2022-01-21T12:33:22.270Z"
   },
   {
    "duration": 30,
    "start_time": "2022-01-21T12:33:22.277Z"
   },
   {
    "duration": 3,
    "start_time": "2022-01-21T12:33:22.308Z"
   },
   {
    "duration": 48,
    "start_time": "2022-01-21T12:33:22.313Z"
   },
   {
    "duration": 192,
    "start_time": "2022-01-21T12:33:22.362Z"
   },
   {
    "duration": 65,
    "start_time": "2022-01-21T12:33:22.556Z"
   },
   {
    "duration": 6,
    "start_time": "2022-01-21T12:33:22.622Z"
   },
   {
    "duration": 23,
    "start_time": "2022-01-21T12:33:22.642Z"
   },
   {
    "duration": 21,
    "start_time": "2022-01-21T12:33:22.666Z"
   },
   {
    "duration": 47,
    "start_time": "2022-01-21T12:33:22.689Z"
   },
   {
    "duration": 514,
    "start_time": "2022-01-21T12:33:22.737Z"
   },
   {
    "duration": 5,
    "start_time": "2022-01-21T12:33:23.255Z"
   },
   {
    "duration": 486,
    "start_time": "2022-01-21T12:33:23.261Z"
   },
   {
    "duration": 345,
    "start_time": "2022-01-21T12:33:23.748Z"
   },
   {
    "duration": 228,
    "start_time": "2022-01-21T12:33:24.095Z"
   },
   {
    "duration": 219,
    "start_time": "2022-01-21T12:33:24.324Z"
   },
   {
    "duration": 732,
    "start_time": "2022-01-21T12:33:24.544Z"
   },
   {
    "duration": 28,
    "start_time": "2022-01-21T12:33:25.277Z"
   },
   {
    "duration": 19,
    "start_time": "2022-01-21T12:33:25.307Z"
   },
   {
    "duration": 137,
    "start_time": "2022-01-21T12:33:25.327Z"
   },
   {
    "duration": 687,
    "start_time": "2022-01-21T12:33:25.466Z"
   },
   {
    "duration": 9,
    "start_time": "2022-01-21T12:33:26.155Z"
   },
   {
    "duration": 327,
    "start_time": "2022-01-21T12:33:26.166Z"
   },
   {
    "duration": 219,
    "start_time": "2022-01-21T12:33:26.494Z"
   },
   {
    "duration": 190,
    "start_time": "2022-01-21T12:33:26.714Z"
   },
   {
    "duration": 536,
    "start_time": "2022-01-21T12:33:26.906Z"
   },
   {
    "duration": 212,
    "start_time": "2022-01-21T12:33:27.444Z"
   },
   {
    "duration": 205,
    "start_time": "2022-01-21T12:33:27.658Z"
   },
   {
    "duration": 223,
    "start_time": "2022-01-21T12:33:27.865Z"
   },
   {
    "duration": 26,
    "start_time": "2022-01-21T12:33:28.090Z"
   },
   {
    "duration": 25,
    "start_time": "2022-01-21T12:33:28.118Z"
   },
   {
    "duration": 10,
    "start_time": "2022-01-21T12:33:28.145Z"
   },
   {
    "duration": 206,
    "start_time": "2022-01-21T12:33:28.157Z"
   },
   {
    "duration": 12,
    "start_time": "2022-01-21T12:33:28.365Z"
   },
   {
    "duration": 428,
    "start_time": "2022-01-21T12:33:28.380Z"
   },
   {
    "duration": 193,
    "start_time": "2022-01-21T12:33:28.810Z"
   },
   {
    "duration": 379,
    "start_time": "2022-01-21T12:33:29.005Z"
   },
   {
    "duration": 208,
    "start_time": "2022-01-21T12:33:29.386Z"
   },
   {
    "duration": 208,
    "start_time": "2022-01-21T12:33:29.596Z"
   },
   {
    "duration": 196,
    "start_time": "2022-01-21T12:33:29.805Z"
   },
   {
    "duration": 203,
    "start_time": "2022-01-21T12:33:30.003Z"
   },
   {
    "duration": 13,
    "start_time": "2022-01-21T12:34:35.458Z"
   },
   {
    "duration": 94,
    "start_time": "2022-01-21T12:56:28.055Z"
   },
   {
    "duration": 357,
    "start_time": "2022-01-21T13:05:07.067Z"
   },
   {
    "duration": 188,
    "start_time": "2022-01-21T13:05:41.317Z"
   },
   {
    "duration": 421,
    "start_time": "2022-01-21T13:12:34.946Z"
   },
   {
    "duration": 884,
    "start_time": "2022-01-21T13:13:01.134Z"
   },
   {
    "duration": 486,
    "start_time": "2022-01-21T13:13:19.386Z"
   },
   {
    "duration": 358,
    "start_time": "2022-01-21T13:13:32.459Z"
   },
   {
    "duration": 392,
    "start_time": "2022-01-21T13:14:16.462Z"
   },
   {
    "duration": 387,
    "start_time": "2022-01-21T13:14:33.496Z"
   },
   {
    "duration": 81,
    "start_time": "2022-01-21T13:14:52.546Z"
   },
   {
    "duration": 411,
    "start_time": "2022-01-21T13:15:02.588Z"
   },
   {
    "duration": 223,
    "start_time": "2022-01-21T13:15:41.532Z"
   },
   {
    "duration": 229,
    "start_time": "2022-01-21T13:18:58.184Z"
   },
   {
    "duration": 293,
    "start_time": "2022-01-21T13:20:52.214Z"
   },
   {
    "duration": 233,
    "start_time": "2022-01-21T13:21:06.140Z"
   },
   {
    "duration": 674,
    "start_time": "2022-01-21T13:24:22.239Z"
   },
   {
    "duration": 30,
    "start_time": "2022-01-21T13:24:22.914Z"
   },
   {
    "duration": 19,
    "start_time": "2022-01-21T13:24:22.946Z"
   },
   {
    "duration": 323,
    "start_time": "2022-01-21T13:24:22.967Z"
   },
   {
    "duration": 31,
    "start_time": "2022-01-21T13:24:23.292Z"
   },
   {
    "duration": 21,
    "start_time": "2022-01-21T13:24:23.324Z"
   },
   {
    "duration": 66,
    "start_time": "2022-01-21T13:24:23.346Z"
   },
   {
    "duration": 39,
    "start_time": "2022-01-21T13:24:23.415Z"
   },
   {
    "duration": 53,
    "start_time": "2022-01-21T13:24:23.456Z"
   },
   {
    "duration": 80,
    "start_time": "2022-01-21T13:24:23.511Z"
   },
   {
    "duration": 56,
    "start_time": "2022-01-21T13:24:23.593Z"
   },
   {
    "duration": 68,
    "start_time": "2022-01-21T13:24:23.651Z"
   },
   {
    "duration": 29,
    "start_time": "2022-01-21T13:24:23.721Z"
   },
   {
    "duration": 62,
    "start_time": "2022-01-21T13:24:23.752Z"
   },
   {
    "duration": 204,
    "start_time": "2022-01-21T13:24:23.816Z"
   },
   {
    "duration": 70,
    "start_time": "2022-01-21T13:24:24.022Z"
   },
   {
    "duration": 10,
    "start_time": "2022-01-21T13:24:24.094Z"
   },
   {
    "duration": 65,
    "start_time": "2022-01-21T13:24:24.106Z"
   },
   {
    "duration": 26,
    "start_time": "2022-01-21T13:24:24.173Z"
   },
   {
    "duration": 48,
    "start_time": "2022-01-21T13:24:24.201Z"
   },
   {
    "duration": 34,
    "start_time": "2022-01-21T13:24:24.252Z"
   },
   {
    "duration": 535,
    "start_time": "2022-01-21T13:24:24.288Z"
   },
   {
    "duration": 4,
    "start_time": "2022-01-21T13:24:24.827Z"
   },
   {
    "duration": 357,
    "start_time": "2022-01-21T13:24:24.841Z"
   },
   {
    "duration": 476,
    "start_time": "2022-01-21T13:24:25.200Z"
   },
   {
    "duration": 243,
    "start_time": "2022-01-21T13:24:25.678Z"
   },
   {
    "duration": 233,
    "start_time": "2022-01-21T13:24:25.923Z"
   },
   {
    "duration": 753,
    "start_time": "2022-01-21T13:24:26.158Z"
   },
   {
    "duration": 41,
    "start_time": "2022-01-21T13:24:26.912Z"
   },
   {
    "duration": 16,
    "start_time": "2022-01-21T13:24:26.954Z"
   },
   {
    "duration": 168,
    "start_time": "2022-01-21T13:24:26.972Z"
   },
   {
    "duration": 749,
    "start_time": "2022-01-21T13:24:27.142Z"
   },
   {
    "duration": 8,
    "start_time": "2022-01-21T13:24:27.893Z"
   },
   {
    "duration": 250,
    "start_time": "2022-01-21T13:24:27.903Z"
   },
   {
    "duration": 216,
    "start_time": "2022-01-21T13:24:28.154Z"
   },
   {
    "duration": 191,
    "start_time": "2022-01-21T13:24:28.372Z"
   },
   {
    "duration": 541,
    "start_time": "2022-01-21T13:24:28.565Z"
   },
   {
    "duration": 204,
    "start_time": "2022-01-21T13:24:29.107Z"
   },
   {
    "duration": 201,
    "start_time": "2022-01-21T13:24:29.313Z"
   },
   {
    "duration": 207,
    "start_time": "2022-01-21T13:24:29.516Z"
   },
   {
    "duration": 33,
    "start_time": "2022-01-21T13:24:29.725Z"
   },
   {
    "duration": 9,
    "start_time": "2022-01-21T13:24:29.760Z"
   },
   {
    "duration": 32,
    "start_time": "2022-01-21T13:24:29.770Z"
   },
   {
    "duration": 199,
    "start_time": "2022-01-21T13:24:29.803Z"
   },
   {
    "duration": 9,
    "start_time": "2022-01-21T13:24:30.003Z"
   },
   {
    "duration": 323,
    "start_time": "2022-01-21T13:24:30.014Z"
   },
   {
    "duration": 187,
    "start_time": "2022-01-21T13:24:30.341Z"
   },
   {
    "duration": 342,
    "start_time": "2022-01-21T13:24:30.530Z"
   },
   {
    "duration": 217,
    "start_time": "2022-01-21T13:24:30.874Z"
   },
   {
    "duration": 261,
    "start_time": "2022-01-21T13:24:31.093Z"
   },
   {
    "duration": 224,
    "start_time": "2022-01-21T13:24:31.356Z"
   },
   {
    "duration": 246,
    "start_time": "2022-01-21T13:24:31.582Z"
   },
   {
    "duration": 206,
    "start_time": "2022-01-21T13:24:31.830Z"
   },
   {
    "duration": 906,
    "start_time": "2022-01-21T17:58:51.338Z"
   },
   {
    "duration": 55,
    "start_time": "2022-01-21T17:58:52.246Z"
   },
   {
    "duration": 5,
    "start_time": "2022-01-21T17:58:52.304Z"
   },
   {
    "duration": 12,
    "start_time": "2022-01-21T17:58:52.312Z"
   },
   {
    "duration": 543,
    "start_time": "2022-01-21T17:58:52.326Z"
   },
   {
    "duration": 59,
    "start_time": "2022-01-21T17:58:52.872Z"
   },
   {
    "duration": 36,
    "start_time": "2022-01-21T17:58:52.934Z"
   },
   {
    "duration": 23,
    "start_time": "2022-01-21T17:58:52.973Z"
   },
   {
    "duration": 11,
    "start_time": "2022-01-21T17:58:53.001Z"
   },
   {
    "duration": 16,
    "start_time": "2022-01-21T17:58:53.015Z"
   },
   {
    "duration": 34,
    "start_time": "2022-01-21T17:58:53.034Z"
   },
   {
    "duration": 7,
    "start_time": "2022-01-21T17:58:53.071Z"
   },
   {
    "duration": 55,
    "start_time": "2022-01-21T17:58:53.081Z"
   },
   {
    "duration": 6,
    "start_time": "2022-01-21T17:58:53.164Z"
   },
   {
    "duration": 41,
    "start_time": "2022-01-21T17:58:53.172Z"
   },
   {
    "duration": 384,
    "start_time": "2022-01-21T17:58:53.216Z"
   },
   {
    "duration": 124,
    "start_time": "2022-01-21T17:58:53.602Z"
   },
   {
    "duration": 9,
    "start_time": "2022-01-21T17:58:53.729Z"
   },
   {
    "duration": 36,
    "start_time": "2022-01-21T17:58:53.740Z"
   },
   {
    "duration": 14,
    "start_time": "2022-01-21T17:58:53.779Z"
   },
   {
    "duration": 23,
    "start_time": "2022-01-21T17:58:53.796Z"
   },
   {
    "duration": 17,
    "start_time": "2022-01-21T17:58:53.822Z"
   },
   {
    "duration": 823,
    "start_time": "2022-01-21T17:58:53.841Z"
   },
   {
    "duration": 7,
    "start_time": "2022-01-21T17:58:54.667Z"
   },
   {
    "duration": 796,
    "start_time": "2022-01-21T17:58:54.676Z"
   },
   {
    "duration": 625,
    "start_time": "2022-01-21T17:58:55.474Z"
   },
   {
    "duration": 409,
    "start_time": "2022-01-21T17:58:56.105Z"
   },
   {
    "duration": 494,
    "start_time": "2022-01-21T17:58:56.517Z"
   },
   {
    "duration": 1354,
    "start_time": "2022-01-21T17:58:57.014Z"
   },
   {
    "duration": 114,
    "start_time": "2022-01-21T17:58:58.371Z"
   },
   {
    "duration": 62,
    "start_time": "2022-01-21T17:58:58.489Z"
   },
   {
    "duration": 378,
    "start_time": "2022-01-21T17:58:58.554Z"
   },
   {
    "duration": 1079,
    "start_time": "2022-01-21T17:58:58.935Z"
   },
   {
    "duration": 12,
    "start_time": "2022-01-21T17:59:00.016Z"
   },
   {
    "duration": 370,
    "start_time": "2022-01-21T17:59:00.031Z"
   },
   {
    "duration": 345,
    "start_time": "2022-01-21T17:59:00.404Z"
   },
   {
    "duration": 290,
    "start_time": "2022-01-21T17:59:00.751Z"
   },
   {
    "duration": 787,
    "start_time": "2022-01-21T17:59:01.044Z"
   },
   {
    "duration": 339,
    "start_time": "2022-01-21T17:59:01.833Z"
   },
   {
    "duration": 333,
    "start_time": "2022-01-21T17:59:02.174Z"
   },
   {
    "duration": 338,
    "start_time": "2022-01-21T17:59:02.509Z"
   },
   {
    "duration": 45,
    "start_time": "2022-01-21T17:59:02.851Z"
   },
   {
    "duration": 10,
    "start_time": "2022-01-21T17:59:02.899Z"
   },
   {
    "duration": 15,
    "start_time": "2022-01-21T17:59:02.912Z"
   },
   {
    "duration": 335,
    "start_time": "2022-01-21T17:59:02.930Z"
   },
   {
    "duration": 15,
    "start_time": "2022-01-21T17:59:03.268Z"
   },
   {
    "duration": 428,
    "start_time": "2022-01-21T17:59:03.285Z"
   },
   {
    "duration": 300,
    "start_time": "2022-01-21T17:59:03.715Z"
   },
   {
    "duration": 498,
    "start_time": "2022-01-21T17:59:04.018Z"
   },
   {
    "duration": 337,
    "start_time": "2022-01-21T17:59:04.518Z"
   },
   {
    "duration": 328,
    "start_time": "2022-01-21T17:59:04.865Z"
   },
   {
    "duration": 342,
    "start_time": "2022-01-21T17:59:05.196Z"
   },
   {
    "duration": 391,
    "start_time": "2022-01-21T17:59:05.541Z"
   },
   {
    "duration": 331,
    "start_time": "2022-01-21T17:59:05.934Z"
   },
   {
    "duration": 271,
    "start_time": "2022-01-22T14:33:09.822Z"
   },
   {
    "duration": 732,
    "start_time": "2022-01-22T14:33:17.938Z"
   },
   {
    "duration": 30,
    "start_time": "2022-01-22T14:33:18.672Z"
   },
   {
    "duration": 8,
    "start_time": "2022-01-22T14:33:18.707Z"
   },
   {
    "duration": 313,
    "start_time": "2022-01-22T14:33:18.717Z"
   },
   {
    "duration": 38,
    "start_time": "2022-01-22T14:33:19.032Z"
   },
   {
    "duration": 5,
    "start_time": "2022-01-22T14:33:19.071Z"
   },
   {
    "duration": 13,
    "start_time": "2022-01-22T14:33:19.078Z"
   },
   {
    "duration": 7,
    "start_time": "2022-01-22T14:33:19.093Z"
   },
   {
    "duration": 11,
    "start_time": "2022-01-22T14:33:19.101Z"
   },
   {
    "duration": 31,
    "start_time": "2022-01-22T14:33:19.113Z"
   },
   {
    "duration": 5,
    "start_time": "2022-01-22T14:33:19.146Z"
   },
   {
    "duration": 52,
    "start_time": "2022-01-22T14:33:19.152Z"
   },
   {
    "duration": 3,
    "start_time": "2022-01-22T14:33:19.206Z"
   },
   {
    "duration": 45,
    "start_time": "2022-01-22T14:33:19.211Z"
   },
   {
    "duration": 264,
    "start_time": "2022-01-22T14:33:19.258Z"
   },
   {
    "duration": 98,
    "start_time": "2022-01-22T14:33:19.524Z"
   },
   {
    "duration": 6,
    "start_time": "2022-01-22T14:33:19.623Z"
   },
   {
    "duration": 4504,
    "start_time": "2022-01-22T14:33:19.631Z"
   },
   {
    "duration": 1611,
    "start_time": "2022-01-22T14:33:22.527Z"
   },
   {
    "duration": 1600,
    "start_time": "2022-01-22T14:33:22.539Z"
   },
   {
    "duration": 1597,
    "start_time": "2022-01-22T14:33:22.543Z"
   },
   {
    "duration": 1590,
    "start_time": "2022-01-22T14:33:22.551Z"
   },
   {
    "duration": 1587,
    "start_time": "2022-01-22T14:33:22.554Z"
   },
   {
    "duration": 1585,
    "start_time": "2022-01-22T14:33:22.557Z"
   },
   {
    "duration": 1583,
    "start_time": "2022-01-22T14:33:22.560Z"
   },
   {
    "duration": 1575,
    "start_time": "2022-01-22T14:33:22.569Z"
   },
   {
    "duration": 1573,
    "start_time": "2022-01-22T14:33:22.572Z"
   },
   {
    "duration": 1571,
    "start_time": "2022-01-22T14:33:22.574Z"
   },
   {
    "duration": 1563,
    "start_time": "2022-01-22T14:33:22.583Z"
   },
   {
    "duration": 1561,
    "start_time": "2022-01-22T14:33:22.586Z"
   },
   {
    "duration": 1559,
    "start_time": "2022-01-22T14:33:22.588Z"
   },
   {
    "duration": 1557,
    "start_time": "2022-01-22T14:33:22.591Z"
   },
   {
    "duration": 1549,
    "start_time": "2022-01-22T14:33:22.600Z"
   },
   {
    "duration": 1548,
    "start_time": "2022-01-22T14:33:22.602Z"
   },
   {
    "duration": 1545,
    "start_time": "2022-01-22T14:33:22.605Z"
   },
   {
    "duration": 1543,
    "start_time": "2022-01-22T14:33:22.608Z"
   },
   {
    "duration": 1535,
    "start_time": "2022-01-22T14:33:22.617Z"
   },
   {
    "duration": 1533,
    "start_time": "2022-01-22T14:33:22.619Z"
   },
   {
    "duration": 1531,
    "start_time": "2022-01-22T14:33:22.622Z"
   },
   {
    "duration": 1529,
    "start_time": "2022-01-22T14:33:22.625Z"
   },
   {
    "duration": 1517,
    "start_time": "2022-01-22T14:33:22.637Z"
   },
   {
    "duration": 1515,
    "start_time": "2022-01-22T14:33:22.640Z"
   },
   {
    "duration": 1513,
    "start_time": "2022-01-22T14:33:22.643Z"
   },
   {
    "duration": 1506,
    "start_time": "2022-01-22T14:33:22.651Z"
   },
   {
    "duration": 1503,
    "start_time": "2022-01-22T14:33:22.654Z"
   },
   {
    "duration": 1501,
    "start_time": "2022-01-22T14:33:22.657Z"
   },
   {
    "duration": 1499,
    "start_time": "2022-01-22T14:33:22.660Z"
   },
   {
    "duration": 1491,
    "start_time": "2022-01-22T14:33:22.668Z"
   },
   {
    "duration": 1489,
    "start_time": "2022-01-22T14:33:22.671Z"
   },
   {
    "duration": 1488,
    "start_time": "2022-01-22T14:33:22.673Z"
   },
   {
    "duration": 1485,
    "start_time": "2022-01-22T14:33:22.677Z"
   },
   {
    "duration": 1479,
    "start_time": "2022-01-22T14:33:22.684Z"
   },
   {
    "duration": 1478,
    "start_time": "2022-01-22T14:33:22.686Z"
   },
   {
    "duration": 1475,
    "start_time": "2022-01-22T14:33:22.689Z"
   },
   {
    "duration": 606,
    "start_time": "2022-01-22T14:34:25.499Z"
   },
   {
    "duration": 28,
    "start_time": "2022-01-22T14:34:26.106Z"
   },
   {
    "duration": 10,
    "start_time": "2022-01-22T14:34:26.136Z"
   },
   {
    "duration": 295,
    "start_time": "2022-01-22T14:34:26.148Z"
   },
   {
    "duration": 30,
    "start_time": "2022-01-22T14:34:26.444Z"
   },
   {
    "duration": 4,
    "start_time": "2022-01-22T14:34:26.476Z"
   },
   {
    "duration": 11,
    "start_time": "2022-01-22T14:34:26.482Z"
   },
   {
    "duration": 7,
    "start_time": "2022-01-22T14:34:26.494Z"
   },
   {
    "duration": 9,
    "start_time": "2022-01-22T14:34:26.504Z"
   },
   {
    "duration": 32,
    "start_time": "2022-01-22T14:34:26.515Z"
   },
   {
    "duration": 5,
    "start_time": "2022-01-22T14:34:26.549Z"
   },
   {
    "duration": 30,
    "start_time": "2022-01-22T14:34:26.555Z"
   },
   {
    "duration": 2,
    "start_time": "2022-01-22T14:34:26.587Z"
   },
   {
    "duration": 22,
    "start_time": "2022-01-22T14:34:26.590Z"
   },
   {
    "duration": 175,
    "start_time": "2022-01-22T14:34:26.641Z"
   },
   {
    "duration": 67,
    "start_time": "2022-01-22T14:34:26.817Z"
   },
   {
    "duration": 5,
    "start_time": "2022-01-22T14:34:26.886Z"
   },
   {
    "duration": 11,
    "start_time": "2022-01-22T14:34:26.892Z"
   },
   {
    "duration": 9,
    "start_time": "2022-01-22T14:34:26.905Z"
   },
   {
    "duration": 8,
    "start_time": "2022-01-22T14:34:26.915Z"
   },
   {
    "duration": 26,
    "start_time": "2022-01-22T14:34:26.924Z"
   },
   {
    "duration": 509,
    "start_time": "2022-01-22T14:34:26.951Z"
   },
   {
    "duration": 5,
    "start_time": "2022-01-22T14:34:27.462Z"
   },
   {
    "duration": 351,
    "start_time": "2022-01-22T14:34:27.469Z"
   },
   {
    "duration": 338,
    "start_time": "2022-01-22T14:34:27.822Z"
   },
   {
    "duration": 234,
    "start_time": "2022-01-22T14:34:28.161Z"
   },
   {
    "duration": 217,
    "start_time": "2022-01-22T14:34:28.399Z"
   },
   {
    "duration": 714,
    "start_time": "2022-01-22T14:34:28.618Z"
   },
   {
    "duration": 39,
    "start_time": "2022-01-22T14:34:29.334Z"
   },
   {
    "duration": 17,
    "start_time": "2022-01-22T14:34:29.375Z"
   },
   {
    "duration": 145,
    "start_time": "2022-01-22T14:34:29.395Z"
   },
   {
    "duration": 649,
    "start_time": "2022-01-22T14:34:29.542Z"
   },
   {
    "duration": 8,
    "start_time": "2022-01-22T14:34:30.192Z"
   },
   {
    "duration": 223,
    "start_time": "2022-01-22T14:34:30.201Z"
   },
   {
    "duration": 222,
    "start_time": "2022-01-22T14:34:30.426Z"
   },
   {
    "duration": 192,
    "start_time": "2022-01-22T14:34:30.649Z"
   },
   {
    "duration": 488,
    "start_time": "2022-01-22T14:34:30.843Z"
   },
   {
    "duration": 210,
    "start_time": "2022-01-22T14:34:31.333Z"
   },
   {
    "duration": 197,
    "start_time": "2022-01-22T14:34:31.544Z"
   },
   {
    "duration": 206,
    "start_time": "2022-01-22T14:34:31.742Z"
   },
   {
    "duration": 35,
    "start_time": "2022-01-22T14:34:31.950Z"
   },
   {
    "duration": 7,
    "start_time": "2022-01-22T14:34:31.986Z"
   },
   {
    "duration": 31,
    "start_time": "2022-01-22T14:34:31.994Z"
   },
   {
    "duration": 205,
    "start_time": "2022-01-22T14:34:32.026Z"
   },
   {
    "duration": 14,
    "start_time": "2022-01-22T14:34:32.233Z"
   },
   {
    "duration": 254,
    "start_time": "2022-01-22T14:34:32.248Z"
   },
   {
    "duration": 181,
    "start_time": "2022-01-22T14:34:32.503Z"
   },
   {
    "duration": 293,
    "start_time": "2022-01-22T14:34:32.686Z"
   },
   {
    "duration": 185,
    "start_time": "2022-01-22T14:34:32.981Z"
   },
   {
    "duration": 200,
    "start_time": "2022-01-22T14:34:33.167Z"
   },
   {
    "duration": 202,
    "start_time": "2022-01-22T14:34:33.369Z"
   },
   {
    "duration": 221,
    "start_time": "2022-01-22T14:34:33.573Z"
   },
   {
    "duration": 193,
    "start_time": "2022-01-22T14:34:33.796Z"
   },
   {
    "duration": 1609,
    "start_time": "2022-01-22T14:34:55.057Z"
   },
   {
    "duration": 3997,
    "start_time": "2022-01-22T14:36:00.266Z"
   },
   {
    "duration": 21,
    "start_time": "2022-01-22T14:39:17.739Z"
   },
   {
    "duration": 249,
    "start_time": "2022-01-22T14:42:02.622Z"
   },
   {
    "duration": 233,
    "start_time": "2022-01-22T14:42:09.098Z"
   },
   {
    "duration": 123,
    "start_time": "2022-01-22T14:42:17.599Z"
   },
   {
    "duration": 5,
    "start_time": "2022-01-22T14:42:26.020Z"
   },
   {
    "duration": 907,
    "start_time": "2022-01-22T14:43:37.943Z"
   },
   {
    "duration": 5,
    "start_time": "2022-01-22T14:43:45.749Z"
   },
   {
    "duration": 5,
    "start_time": "2022-01-22T14:43:50.499Z"
   },
   {
    "duration": 23,
    "start_time": "2022-01-22T14:54:38.002Z"
   },
   {
    "duration": 25,
    "start_time": "2022-01-22T14:56:04.732Z"
   },
   {
    "duration": 1797,
    "start_time": "2022-01-22T15:03:28.585Z"
   },
   {
    "duration": 1524,
    "start_time": "2022-01-22T15:03:41.608Z"
   },
   {
    "duration": 1489,
    "start_time": "2022-01-22T15:04:53.171Z"
   },
   {
    "duration": 348,
    "start_time": "2022-01-22T15:18:37.437Z"
   },
   {
    "duration": 2,
    "start_time": "2022-01-22T15:19:52.088Z"
   },
   {
    "duration": 267,
    "start_time": "2022-01-22T15:19:52.660Z"
   },
   {
    "duration": 263,
    "start_time": "2022-01-22T15:20:21.331Z"
   },
   {
    "duration": 335,
    "start_time": "2022-01-22T15:20:26.404Z"
   },
   {
    "duration": 274,
    "start_time": "2022-01-22T15:24:54.673Z"
   },
   {
    "duration": 247,
    "start_time": "2022-01-22T15:25:02.532Z"
   },
   {
    "duration": 79,
    "start_time": "2022-01-22T15:25:10.144Z"
   },
   {
    "duration": 267,
    "start_time": "2022-01-22T15:25:13.028Z"
   },
   {
    "duration": 4,
    "start_time": "2022-01-22T15:27:42.966Z"
   },
   {
    "duration": 10,
    "start_time": "2022-01-22T15:29:35.773Z"
   },
   {
    "duration": 11,
    "start_time": "2022-01-22T15:29:50.767Z"
   },
   {
    "duration": 115,
    "start_time": "2022-01-22T15:29:54.054Z"
   },
   {
    "duration": 258,
    "start_time": "2022-01-22T15:30:06.790Z"
   },
   {
    "duration": 11,
    "start_time": "2022-01-22T15:30:32.327Z"
   },
   {
    "duration": 84,
    "start_time": "2022-01-22T15:37:27.763Z"
   },
   {
    "duration": 117,
    "start_time": "2022-01-22T15:37:54.754Z"
   },
   {
    "duration": 644,
    "start_time": "2022-01-22T15:38:14.387Z"
   },
   {
    "duration": 32,
    "start_time": "2022-01-22T15:38:15.033Z"
   },
   {
    "duration": 8,
    "start_time": "2022-01-22T15:38:15.067Z"
   },
   {
    "duration": 314,
    "start_time": "2022-01-22T15:38:15.077Z"
   },
   {
    "duration": 35,
    "start_time": "2022-01-22T15:38:15.393Z"
   },
   {
    "duration": 22,
    "start_time": "2022-01-22T15:38:15.441Z"
   },
   {
    "duration": 41,
    "start_time": "2022-01-22T15:38:15.464Z"
   },
   {
    "duration": 25,
    "start_time": "2022-01-22T15:38:15.508Z"
   },
   {
    "duration": 37,
    "start_time": "2022-01-22T15:38:15.535Z"
   },
   {
    "duration": 37,
    "start_time": "2022-01-22T15:38:15.574Z"
   },
   {
    "duration": 26,
    "start_time": "2022-01-22T15:38:15.613Z"
   },
   {
    "duration": 49,
    "start_time": "2022-01-22T15:38:15.641Z"
   },
   {
    "duration": 2,
    "start_time": "2022-01-22T15:38:15.692Z"
   },
   {
    "duration": 27,
    "start_time": "2022-01-22T15:38:15.696Z"
   },
   {
    "duration": 195,
    "start_time": "2022-01-22T15:38:15.725Z"
   },
   {
    "duration": 73,
    "start_time": "2022-01-22T15:38:15.922Z"
   },
   {
    "duration": 5,
    "start_time": "2022-01-22T15:38:15.997Z"
   },
   {
    "duration": 14,
    "start_time": "2022-01-22T15:38:16.004Z"
   },
   {
    "duration": 4,
    "start_time": "2022-01-22T15:38:16.020Z"
   },
   {
    "duration": 15,
    "start_time": "2022-01-22T15:38:16.041Z"
   },
   {
    "duration": 7,
    "start_time": "2022-01-22T15:38:16.058Z"
   },
   {
    "duration": 24,
    "start_time": "2022-01-22T15:38:16.066Z"
   },
   {
    "duration": 12,
    "start_time": "2022-01-22T15:38:16.093Z"
   },
   {
    "duration": 526,
    "start_time": "2022-01-22T15:38:16.107Z"
   },
   {
    "duration": 8,
    "start_time": "2022-01-22T15:38:16.635Z"
   },
   {
    "duration": 39,
    "start_time": "2022-01-22T15:38:16.645Z"
   },
   {
    "duration": 354,
    "start_time": "2022-01-22T15:38:16.686Z"
   },
   {
    "duration": 1558,
    "start_time": "2022-01-22T15:38:15.484Z"
   },
   {
    "duration": 1557,
    "start_time": "2022-01-22T15:38:15.487Z"
   },
   {
    "duration": 1558,
    "start_time": "2022-01-22T15:38:15.490Z"
   },
   {
    "duration": 1556,
    "start_time": "2022-01-22T15:38:15.493Z"
   },
   {
    "duration": 1556,
    "start_time": "2022-01-22T15:38:15.495Z"
   },
   {
    "duration": 1554,
    "start_time": "2022-01-22T15:38:15.498Z"
   },
   {
    "duration": 1552,
    "start_time": "2022-01-22T15:38:15.501Z"
   },
   {
    "duration": 1552,
    "start_time": "2022-01-22T15:38:15.503Z"
   },
   {
    "duration": 1550,
    "start_time": "2022-01-22T15:38:15.506Z"
   },
   {
    "duration": 1549,
    "start_time": "2022-01-22T15:38:15.509Z"
   },
   {
    "duration": 1548,
    "start_time": "2022-01-22T15:38:15.511Z"
   },
   {
    "duration": 1546,
    "start_time": "2022-01-22T15:38:15.514Z"
   },
   {
    "duration": 1544,
    "start_time": "2022-01-22T15:38:15.517Z"
   },
   {
    "duration": 1539,
    "start_time": "2022-01-22T15:38:15.524Z"
   },
   {
    "duration": 1537,
    "start_time": "2022-01-22T15:38:15.527Z"
   },
   {
    "duration": 1536,
    "start_time": "2022-01-22T15:38:15.529Z"
   },
   {
    "duration": 1535,
    "start_time": "2022-01-22T15:38:15.532Z"
   },
   {
    "duration": 1534,
    "start_time": "2022-01-22T15:38:15.534Z"
   },
   {
    "duration": 1532,
    "start_time": "2022-01-22T15:38:15.537Z"
   },
   {
    "duration": 1531,
    "start_time": "2022-01-22T15:38:15.539Z"
   },
   {
    "duration": 1530,
    "start_time": "2022-01-22T15:38:15.541Z"
   },
   {
    "duration": 1528,
    "start_time": "2022-01-22T15:38:15.544Z"
   },
   {
    "duration": 1527,
    "start_time": "2022-01-22T15:38:15.546Z"
   },
   {
    "duration": 1524,
    "start_time": "2022-01-22T15:38:15.549Z"
   },
   {
    "duration": 1523,
    "start_time": "2022-01-22T15:38:15.551Z"
   },
   {
    "duration": 1521,
    "start_time": "2022-01-22T15:38:15.554Z"
   },
   {
    "duration": 1519,
    "start_time": "2022-01-22T15:38:15.556Z"
   },
   {
    "duration": 1517,
    "start_time": "2022-01-22T15:38:15.559Z"
   },
   {
    "duration": 1516,
    "start_time": "2022-01-22T15:38:15.561Z"
   },
   {
    "duration": 695,
    "start_time": "2022-01-22T15:38:38.369Z"
   },
   {
    "duration": 30,
    "start_time": "2022-01-22T15:38:39.065Z"
   },
   {
    "duration": 8,
    "start_time": "2022-01-22T15:38:39.097Z"
   },
   {
    "duration": 316,
    "start_time": "2022-01-22T15:38:39.106Z"
   },
   {
    "duration": 45,
    "start_time": "2022-01-22T15:38:39.423Z"
   },
   {
    "duration": 5,
    "start_time": "2022-01-22T15:38:39.470Z"
   },
   {
    "duration": 30,
    "start_time": "2022-01-22T15:38:39.477Z"
   },
   {
    "duration": 13,
    "start_time": "2022-01-22T15:38:39.510Z"
   },
   {
    "duration": 36,
    "start_time": "2022-01-22T15:38:39.525Z"
   },
   {
    "duration": 23,
    "start_time": "2022-01-22T15:38:39.563Z"
   },
   {
    "duration": 23,
    "start_time": "2022-01-22T15:38:39.588Z"
   },
   {
    "duration": 51,
    "start_time": "2022-01-22T15:38:39.613Z"
   },
   {
    "duration": 3,
    "start_time": "2022-01-22T15:38:39.666Z"
   },
   {
    "duration": 51,
    "start_time": "2022-01-22T15:38:39.670Z"
   },
   {
    "duration": 179,
    "start_time": "2022-01-22T15:38:39.723Z"
   },
   {
    "duration": 71,
    "start_time": "2022-01-22T15:38:39.903Z"
   },
   {
    "duration": 6,
    "start_time": "2022-01-22T15:38:39.976Z"
   },
   {
    "duration": 15,
    "start_time": "2022-01-22T15:38:39.983Z"
   },
   {
    "duration": 15,
    "start_time": "2022-01-22T15:38:39.999Z"
   },
   {
    "duration": 27,
    "start_time": "2022-01-22T15:38:40.016Z"
   },
   {
    "duration": 18,
    "start_time": "2022-01-22T15:38:40.046Z"
   },
   {
    "duration": 24,
    "start_time": "2022-01-22T15:38:40.066Z"
   },
   {
    "duration": 18,
    "start_time": "2022-01-22T15:38:40.093Z"
   },
   {
    "duration": 543,
    "start_time": "2022-01-22T15:38:40.113Z"
   },
   {
    "duration": 5,
    "start_time": "2022-01-22T15:38:40.658Z"
   },
   {
    "duration": 38,
    "start_time": "2022-01-22T15:38:40.665Z"
   },
   {
    "duration": 342,
    "start_time": "2022-01-22T15:38:40.705Z"
   },
   {
    "duration": 1560,
    "start_time": "2022-01-22T15:38:39.489Z"
   },
   {
    "duration": 1558,
    "start_time": "2022-01-22T15:38:39.492Z"
   },
   {
    "duration": 1557,
    "start_time": "2022-01-22T15:38:39.494Z"
   },
   {
    "duration": 1554,
    "start_time": "2022-01-22T15:38:39.498Z"
   },
   {
    "duration": 1550,
    "start_time": "2022-01-22T15:38:39.504Z"
   },
   {
    "duration": 1548,
    "start_time": "2022-01-22T15:38:39.507Z"
   },
   {
    "duration": 1546,
    "start_time": "2022-01-22T15:38:39.510Z"
   },
   {
    "duration": 1545,
    "start_time": "2022-01-22T15:38:39.513Z"
   },
   {
    "duration": 1543,
    "start_time": "2022-01-22T15:38:39.516Z"
   },
   {
    "duration": 1544,
    "start_time": "2022-01-22T15:38:39.519Z"
   },
   {
    "duration": 1543,
    "start_time": "2022-01-22T15:38:39.521Z"
   },
   {
    "duration": 1542,
    "start_time": "2022-01-22T15:38:39.524Z"
   },
   {
    "duration": 1540,
    "start_time": "2022-01-22T15:38:39.527Z"
   },
   {
    "duration": 1537,
    "start_time": "2022-01-22T15:38:39.531Z"
   },
   {
    "duration": 1536,
    "start_time": "2022-01-22T15:38:39.534Z"
   },
   {
    "duration": 1534,
    "start_time": "2022-01-22T15:38:39.537Z"
   },
   {
    "duration": 1534,
    "start_time": "2022-01-22T15:38:39.539Z"
   },
   {
    "duration": 1532,
    "start_time": "2022-01-22T15:38:39.542Z"
   },
   {
    "duration": 1530,
    "start_time": "2022-01-22T15:38:39.545Z"
   },
   {
    "duration": 1524,
    "start_time": "2022-01-22T15:38:39.553Z"
   },
   {
    "duration": 1522,
    "start_time": "2022-01-22T15:38:39.556Z"
   },
   {
    "duration": 1521,
    "start_time": "2022-01-22T15:38:39.559Z"
   },
   {
    "duration": 1499,
    "start_time": "2022-01-22T15:38:39.582Z"
   },
   {
    "duration": 1488,
    "start_time": "2022-01-22T15:38:39.594Z"
   },
   {
    "duration": 1487,
    "start_time": "2022-01-22T15:38:39.597Z"
   },
   {
    "duration": 1485,
    "start_time": "2022-01-22T15:38:39.600Z"
   },
   {
    "duration": 1484,
    "start_time": "2022-01-22T15:38:39.602Z"
   },
   {
    "duration": 1483,
    "start_time": "2022-01-22T15:38:39.605Z"
   },
   {
    "duration": 1481,
    "start_time": "2022-01-22T15:38:39.608Z"
   },
   {
    "duration": 1644,
    "start_time": "2022-01-22T15:39:17.114Z"
   },
   {
    "duration": 736,
    "start_time": "2022-01-22T15:39:23.239Z"
   },
   {
    "duration": 30,
    "start_time": "2022-01-22T15:39:23.977Z"
   },
   {
    "duration": 9,
    "start_time": "2022-01-22T15:39:24.010Z"
   },
   {
    "duration": 335,
    "start_time": "2022-01-22T15:39:24.020Z"
   },
   {
    "duration": 32,
    "start_time": "2022-01-22T15:39:24.357Z"
   },
   {
    "duration": 5,
    "start_time": "2022-01-22T15:39:24.391Z"
   },
   {
    "duration": 24,
    "start_time": "2022-01-22T15:39:24.397Z"
   },
   {
    "duration": 24,
    "start_time": "2022-01-22T15:39:24.423Z"
   },
   {
    "duration": 15,
    "start_time": "2022-01-22T15:39:24.449Z"
   },
   {
    "duration": 18,
    "start_time": "2022-01-22T15:39:24.466Z"
   },
   {
    "duration": 18,
    "start_time": "2022-01-22T15:39:24.485Z"
   },
   {
    "duration": 47,
    "start_time": "2022-01-22T15:39:24.505Z"
   },
   {
    "duration": 3,
    "start_time": "2022-01-22T15:39:24.554Z"
   },
   {
    "duration": 44,
    "start_time": "2022-01-22T15:39:24.558Z"
   },
   {
    "duration": 181,
    "start_time": "2022-01-22T15:39:24.603Z"
   },
   {
    "duration": 75,
    "start_time": "2022-01-22T15:39:24.785Z"
   },
   {
    "duration": 6,
    "start_time": "2022-01-22T15:39:24.862Z"
   },
   {
    "duration": 23,
    "start_time": "2022-01-22T15:39:24.869Z"
   },
   {
    "duration": 18,
    "start_time": "2022-01-22T15:39:24.894Z"
   },
   {
    "duration": 21,
    "start_time": "2022-01-22T15:39:24.914Z"
   },
   {
    "duration": 23,
    "start_time": "2022-01-22T15:39:24.937Z"
   },
   {
    "duration": 14,
    "start_time": "2022-01-22T15:39:24.962Z"
   },
   {
    "duration": 21,
    "start_time": "2022-01-22T15:39:24.979Z"
   },
   {
    "duration": 651,
    "start_time": "2022-01-22T15:39:25.002Z"
   },
   {
    "duration": 5,
    "start_time": "2022-01-22T15:39:25.655Z"
   },
   {
    "duration": 56,
    "start_time": "2022-01-22T15:39:25.661Z"
   },
   {
    "duration": 1743,
    "start_time": "2022-01-22T15:39:25.718Z"
   },
   {
    "duration": 362,
    "start_time": "2022-01-22T15:39:27.463Z"
   },
   {
    "duration": 367,
    "start_time": "2022-01-22T15:39:27.827Z"
   },
   {
    "duration": 267,
    "start_time": "2022-01-22T15:39:28.196Z"
   },
   {
    "duration": 257,
    "start_time": "2022-01-22T15:39:28.465Z"
   },
   {
    "duration": 943,
    "start_time": "2022-01-22T15:39:28.724Z"
   },
   {
    "duration": 36,
    "start_time": "2022-01-22T15:39:29.669Z"
   },
   {
    "duration": 12,
    "start_time": "2022-01-22T15:39:29.707Z"
   },
   {
    "duration": 172,
    "start_time": "2022-01-22T15:39:29.721Z"
   },
   {
    "duration": 705,
    "start_time": "2022-01-22T15:39:29.895Z"
   },
   {
    "duration": 10,
    "start_time": "2022-01-22T15:39:30.603Z"
   },
   {
    "duration": 262,
    "start_time": "2022-01-22T15:39:30.615Z"
   },
   {
    "duration": 245,
    "start_time": "2022-01-22T15:39:30.879Z"
   },
   {
    "duration": 204,
    "start_time": "2022-01-22T15:39:31.126Z"
   },
   {
    "duration": 531,
    "start_time": "2022-01-22T15:39:31.332Z"
   },
   {
    "duration": 241,
    "start_time": "2022-01-22T15:39:31.865Z"
   },
   {
    "duration": 242,
    "start_time": "2022-01-22T15:39:32.109Z"
   },
   {
    "duration": 317,
    "start_time": "2022-01-22T15:39:32.355Z"
   },
   {
    "duration": 24,
    "start_time": "2022-01-22T15:39:32.674Z"
   },
   {
    "duration": 7,
    "start_time": "2022-01-22T15:39:32.699Z"
   },
   {
    "duration": 8,
    "start_time": "2022-01-22T15:39:32.708Z"
   },
   {
    "duration": 219,
    "start_time": "2022-01-22T15:39:32.718Z"
   },
   {
    "duration": 10,
    "start_time": "2022-01-22T15:39:32.939Z"
   },
   {
    "duration": 215,
    "start_time": "2022-01-22T15:39:32.953Z"
   },
   {
    "duration": 186,
    "start_time": "2022-01-22T15:39:33.170Z"
   },
   {
    "duration": 324,
    "start_time": "2022-01-22T15:39:33.358Z"
   },
   {
    "duration": 212,
    "start_time": "2022-01-22T15:39:33.684Z"
   },
   {
    "duration": 209,
    "start_time": "2022-01-22T15:39:33.898Z"
   },
   {
    "duration": 220,
    "start_time": "2022-01-22T15:39:34.109Z"
   },
   {
    "duration": 321,
    "start_time": "2022-01-22T15:39:34.331Z"
   },
   {
    "duration": 9,
    "start_time": "2022-01-22T15:43:54.270Z"
   },
   {
    "duration": 330,
    "start_time": "2022-01-22T15:44:56.756Z"
   },
   {
    "duration": 264,
    "start_time": "2022-01-22T15:45:04.105Z"
   },
   {
    "duration": 9,
    "start_time": "2022-01-22T15:45:09.584Z"
   },
   {
    "duration": 10,
    "start_time": "2022-01-22T15:45:33.994Z"
   },
   {
    "duration": 8,
    "start_time": "2022-01-22T15:45:34.877Z"
   },
   {
    "duration": 8,
    "start_time": "2022-01-22T15:45:35.299Z"
   },
   {
    "duration": 83,
    "start_time": "2022-01-22T15:51:15.898Z"
   },
   {
    "duration": 127,
    "start_time": "2022-01-22T15:51:21.163Z"
   },
   {
    "duration": 9,
    "start_time": "2022-01-22T15:51:58.942Z"
   },
   {
    "duration": 204,
    "start_time": "2022-01-22T15:52:01.273Z"
   },
   {
    "duration": 73,
    "start_time": "2022-01-22T15:53:27.456Z"
   },
   {
    "duration": 9,
    "start_time": "2022-01-22T15:55:45.877Z"
   },
   {
    "duration": 197,
    "start_time": "2022-01-22T15:55:47.600Z"
   },
   {
    "duration": 716,
    "start_time": "2022-01-22T15:57:29.755Z"
   },
   {
    "duration": 31,
    "start_time": "2022-01-22T15:57:30.473Z"
   },
   {
    "duration": 14,
    "start_time": "2022-01-22T15:57:30.510Z"
   },
   {
    "duration": 398,
    "start_time": "2022-01-22T15:57:30.526Z"
   },
   {
    "duration": 40,
    "start_time": "2022-01-22T15:57:30.926Z"
   },
   {
    "duration": 5,
    "start_time": "2022-01-22T15:57:30.968Z"
   },
   {
    "duration": 38,
    "start_time": "2022-01-22T15:57:30.975Z"
   },
   {
    "duration": 22,
    "start_time": "2022-01-22T15:57:31.015Z"
   },
   {
    "duration": 30,
    "start_time": "2022-01-22T15:57:31.039Z"
   },
   {
    "duration": 8,
    "start_time": "2022-01-22T15:57:31.071Z"
   },
   {
    "duration": 6,
    "start_time": "2022-01-22T15:57:31.080Z"
   },
   {
    "duration": 38,
    "start_time": "2022-01-22T15:57:31.088Z"
   },
   {
    "duration": 3,
    "start_time": "2022-01-22T15:57:31.128Z"
   },
   {
    "duration": 29,
    "start_time": "2022-01-22T15:57:31.133Z"
   },
   {
    "duration": 196,
    "start_time": "2022-01-22T15:57:31.164Z"
   },
   {
    "duration": 70,
    "start_time": "2022-01-22T15:57:31.362Z"
   },
   {
    "duration": 7,
    "start_time": "2022-01-22T15:57:31.444Z"
   },
   {
    "duration": 18,
    "start_time": "2022-01-22T15:57:31.453Z"
   },
   {
    "duration": 5,
    "start_time": "2022-01-22T15:57:31.472Z"
   },
   {
    "duration": 14,
    "start_time": "2022-01-22T15:57:31.478Z"
   },
   {
    "duration": 4,
    "start_time": "2022-01-22T15:57:31.494Z"
   },
   {
    "duration": 10,
    "start_time": "2022-01-22T15:57:31.502Z"
   },
   {
    "duration": 38,
    "start_time": "2022-01-22T15:57:31.514Z"
   },
   {
    "duration": 583,
    "start_time": "2022-01-22T15:57:31.554Z"
   },
   {
    "duration": 15,
    "start_time": "2022-01-22T15:57:32.139Z"
   },
   {
    "duration": 41,
    "start_time": "2022-01-22T15:57:32.156Z"
   },
   {
    "duration": 1680,
    "start_time": "2022-01-22T15:57:32.199Z"
   },
   {
    "duration": 415,
    "start_time": "2022-01-22T15:57:33.881Z"
   },
   {
    "duration": 420,
    "start_time": "2022-01-22T15:57:34.297Z"
   },
   {
    "duration": 262,
    "start_time": "2022-01-22T15:57:34.719Z"
   },
   {
    "duration": 250,
    "start_time": "2022-01-22T15:57:34.984Z"
   },
   {
    "duration": 883,
    "start_time": "2022-01-22T15:57:35.237Z"
   },
   {
    "duration": 45,
    "start_time": "2022-01-22T15:57:36.122Z"
   },
   {
    "duration": 13,
    "start_time": "2022-01-22T15:57:36.169Z"
   },
   {
    "duration": 140,
    "start_time": "2022-01-22T15:57:36.183Z"
   },
   {
    "duration": 820,
    "start_time": "2022-01-22T15:57:36.326Z"
   },
   {
    "duration": 12,
    "start_time": "2022-01-22T15:57:37.149Z"
   },
   {
    "duration": 232,
    "start_time": "2022-01-22T15:57:37.163Z"
   },
   {
    "duration": 201,
    "start_time": "2022-01-22T15:57:37.397Z"
   },
   {
    "duration": 186,
    "start_time": "2022-01-22T15:57:37.600Z"
   },
   {
    "duration": 526,
    "start_time": "2022-01-22T15:57:37.788Z"
   },
   {
    "duration": 222,
    "start_time": "2022-01-22T15:57:38.316Z"
   },
   {
    "duration": 237,
    "start_time": "2022-01-22T15:57:38.541Z"
   },
   {
    "duration": 298,
    "start_time": "2022-01-22T15:57:38.780Z"
   },
   {
    "duration": 8,
    "start_time": "2022-01-22T15:57:39.080Z"
   },
   {
    "duration": 20,
    "start_time": "2022-01-22T15:57:39.090Z"
   },
   {
    "duration": 14,
    "start_time": "2022-01-22T15:57:39.112Z"
   },
   {
    "duration": 52,
    "start_time": "2022-01-22T15:57:39.128Z"
   },
   {
    "duration": 7,
    "start_time": "2022-01-22T15:57:39.182Z"
   },
   {
    "duration": 28,
    "start_time": "2022-01-22T15:57:39.191Z"
   },
   {
    "duration": 186,
    "start_time": "2022-01-22T15:57:39.221Z"
   },
   {
    "duration": 8,
    "start_time": "2022-01-22T15:57:39.408Z"
   },
   {
    "duration": 203,
    "start_time": "2022-01-22T15:57:39.417Z"
   },
   {
    "duration": 174,
    "start_time": "2022-01-22T15:57:39.622Z"
   },
   {
    "duration": 345,
    "start_time": "2022-01-22T15:57:39.798Z"
   },
   {
    "duration": 185,
    "start_time": "2022-01-22T15:57:40.145Z"
   },
   {
    "duration": 195,
    "start_time": "2022-01-22T15:57:40.332Z"
   },
   {
    "duration": 186,
    "start_time": "2022-01-22T15:57:40.529Z"
   },
   {
    "duration": 219,
    "start_time": "2022-01-22T15:57:40.717Z"
   }
  ],
  "kernelspec": {
   "display_name": "Python 3",
   "language": "python",
   "name": "python3"
  },
  "language_info": {
   "codemirror_mode": {
    "name": "ipython",
    "version": 3
   },
   "file_extension": ".py",
   "mimetype": "text/x-python",
   "name": "python",
   "nbconvert_exporter": "python",
   "pygments_lexer": "ipython3",
   "version": "3.9.1"
  },
  "toc": {
   "base_numbering": 1,
   "nav_menu": {},
   "number_sections": true,
   "sideBar": true,
   "skip_h1_title": true,
   "title_cell": "Содержание",
   "title_sidebar": "Contents",
   "toc_cell": true,
   "toc_position": {},
   "toc_section_display": true,
   "toc_window_display": false
  }
 },
 "nbformat": 4,
 "nbformat_minor": 2
}
